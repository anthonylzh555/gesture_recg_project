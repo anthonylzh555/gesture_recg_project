{
 "cells": [
  {
   "cell_type": "code",
   "execution_count": 1,
   "metadata": {},
   "outputs": [
    {
     "name": "stderr",
     "output_type": "stream",
     "text": [
      "/opt/conda/lib/python3.6/site-packages/h5py/__init__.py:36: FutureWarning: Conversion of the second argument of issubdtype from `float` to `np.floating` is deprecated. In future, it will be treated as `np.float64 == np.dtype(float).type`.\n",
      "  from ._conv import register_converters as _register_converters\n",
      "Using TensorFlow backend.\n",
      "/opt/conda/lib/python3.6/site-packages/sklearn/cross_validation.py:41: DeprecationWarning: This module was deprecated in version 0.18 in favor of the model_selection module into which all the refactored classes and functions are moved. Also note that the interface of the new CV iterators are different from that of this module. This module will be removed in 0.20.\n",
      "  \"This module will be removed in 0.20.\", DeprecationWarning)\n"
     ]
    }
   ],
   "source": [
    "from keras.preprocessing.image import ImageDataGenerator\n",
    "from keras.models import Sequential, load_model\n",
    "from keras.layers.core import Dense, Dropout, Activation, Flatten\n",
    "from keras.layers.convolutional import Convolution3D, MaxPooling3D\n",
    "\n",
    "from keras.optimizers import SGD, RMSprop\n",
    "from keras.utils import np_utils, generic_utils\n",
    "from keras.callbacks import EarlyStopping, ModelCheckpoint\n",
    "\n",
    "#import theano\n",
    "import os\n",
    "import matplotlib\n",
    "import matplotlib.pyplot as plt\n",
    "import pandas as pd\n",
    "import numpy as np\n",
    "import cv2\n",
    "from sklearn.cross_validation import train_test_split\n",
    "from sklearn import cross_validation\n",
    "from sklearn import preprocessing"
   ]
  },
  {
   "cell_type": "code",
   "execution_count": 2,
   "metadata": {},
   "outputs": [],
   "source": [
    "# image specification\n",
    "img_rows,img_cols = 112,112\n",
    "img_depth = 16\n",
    "X_tr = []"
   ]
  },
  {
   "cell_type": "markdown",
   "metadata": {},
   "source": [
    "## import thumbup"
   ]
  },
  {
   "cell_type": "code",
   "execution_count": 3,
   "metadata": {},
   "outputs": [
    {
     "name": "stderr",
     "output_type": "stream",
     "text": [
      "100%|██████████| 116/116 [01:00<00:00,  2.05it/s]"
     ]
    },
    {
     "name": "stdout",
     "output_type": "stream",
     "text": [
      "(3, 112, 112, 16)\n",
      "116\n"
     ]
    },
    {
     "name": "stderr",
     "output_type": "stream",
     "text": [
      "\n"
     ]
    }
   ],
   "source": [
    "from tqdm import tqdm\n",
    "train_folder_path = os.path.join(os.getcwd(), \"action_data/Hand/thumbup\")\n",
    "train_folder_list = sorted(os.listdir(train_folder_path))\n",
    "\n",
    "for dicname in tqdm(train_folder_list):\n",
    "    list_path = os.path.join(train_folder_path, dicname)\n",
    "    frames = []\n",
    "    i=0\n",
    "    for img in sorted(os.listdir(list_path)):\n",
    "        if i < img_depth:\n",
    "            img_path = os.path.join(list_path, img)\n",
    "            frame = cv2.imread(os.path.join(list_path, img))\n",
    "            frame = cv2.resize(frame,(img_rows,img_cols))\n",
    "            gray = cv2.cvtColor(frame, cv2.COLOR_BGR2RGB)\n",
    "            frames.append(gray)\n",
    "            i = i+1\n",
    "        else:\n",
    "            break\n",
    "\n",
    "    input=np.array(frames)\n",
    "    #print (input.shape)\n",
    "    ipt = np.rollaxis(np.rollaxis(input,2,0),2,0)\n",
    "    ipt=np.rollaxis(ipt,3,0)\n",
    "    #print (ipt.shape)\n",
    "    #print(\"__\")\n",
    "    X_tr.append(ipt)\n",
    "    \n",
    "print (ipt.shape)\n",
    "num_samples = len(X_tr)\n",
    "print(num_samples)"
   ]
  },
  {
   "cell_type": "markdown",
   "metadata": {},
   "source": [
    "## import stop"
   ]
  },
  {
   "cell_type": "code",
   "execution_count": 4,
   "metadata": {},
   "outputs": [
    {
     "name": "stderr",
     "output_type": "stream",
     "text": [
      "100%|██████████| 198/198 [01:40<00:00,  5.70it/s]"
     ]
    },
    {
     "name": "stdout",
     "output_type": "stream",
     "text": [
      "(3, 112, 112, 16)\n",
      "314\n"
     ]
    },
    {
     "name": "stderr",
     "output_type": "stream",
     "text": [
      "\n"
     ]
    }
   ],
   "source": [
    "train_folder_path = os.path.join(os.getcwd(), \"action_data/Hand/stop\")\n",
    "train_folder_list = sorted(os.listdir(train_folder_path))\n",
    "\n",
    "for dicname in tqdm(train_folder_list):\n",
    "    list_path = os.path.join(train_folder_path, dicname)\n",
    "    frames = []\n",
    "    i=0\n",
    "    for img in sorted(os.listdir(list_path)):\n",
    "        if i < img_depth:\n",
    "            img_path = os.path.join(list_path, img)\n",
    "            frame = cv2.imread(os.path.join(list_path, img))\n",
    "            frame = cv2.resize(frame,(img_rows,img_cols))\n",
    "            gray = cv2.cvtColor(frame, cv2.COLOR_BGR2RGB)\n",
    "            frames.append(gray)\n",
    "            i = i+1\n",
    "        else:\n",
    "            break\n",
    "\n",
    "    input=np.array(frames)\n",
    "    #print (input.shape)\n",
    "    ipt = np.rollaxis(np.rollaxis(input,2,0),2,0)\n",
    "    ipt=np.rollaxis(ipt,3,0)\n",
    "    #print (ipt.shape)\n",
    "    #print(\"__\")\n",
    "    X_tr.append(ipt)\n",
    "    \n",
    "print (ipt.shape)\n",
    "num_samples = len(X_tr)\n",
    "print(num_samples)"
   ]
  },
  {
   "cell_type": "markdown",
   "metadata": {},
   "source": [
    "## import clockwise"
   ]
  },
  {
   "cell_type": "code",
   "execution_count": 5,
   "metadata": {},
   "outputs": [
    {
     "name": "stderr",
     "output_type": "stream",
     "text": [
      "100%|██████████| 116/116 [00:58<00:00,  1.30it/s]"
     ]
    },
    {
     "name": "stdout",
     "output_type": "stream",
     "text": [
      "(3, 112, 112, 16)\n",
      "430\n"
     ]
    },
    {
     "name": "stderr",
     "output_type": "stream",
     "text": [
      "\n"
     ]
    }
   ],
   "source": [
    "train_folder_path = os.path.join(os.getcwd(), \"action_data/Hand/clockwise\")\n",
    "train_folder_list = sorted(os.listdir(train_folder_path))\n",
    "\n",
    "for dicname in tqdm(train_folder_list):\n",
    "    list_path = os.path.join(train_folder_path, dicname)\n",
    "    frames = []\n",
    "    i=0\n",
    "    for img in sorted(os.listdir(list_path)):\n",
    "        if i < img_depth:\n",
    "            img_path = os.path.join(list_path, img)\n",
    "            frame = cv2.imread(os.path.join(list_path, img))\n",
    "            frame = cv2.resize(frame,(img_rows,img_cols))\n",
    "            gray = cv2.cvtColor(frame, cv2.COLOR_BGR2RGB)\n",
    "            frames.append(gray)\n",
    "            i = i+1\n",
    "        else:\n",
    "            break\n",
    "\n",
    "    input=np.array(frames)\n",
    "    #print (input.shape)\n",
    "    ipt = np.rollaxis(np.rollaxis(input,2,0),2,0)\n",
    "    ipt=np.rollaxis(ipt,3,0)\n",
    "    #print (ipt.shape)\n",
    "    #print(\"__\")\n",
    "    X_tr.append(ipt)\n",
    "    \n",
    "print (ipt.shape)\n",
    "num_samples = len(X_tr)\n",
    "print(num_samples)"
   ]
  },
  {
   "cell_type": "markdown",
   "metadata": {},
   "source": [
    "## import counterclockwise"
   ]
  },
  {
   "cell_type": "code",
   "execution_count": 6,
   "metadata": {},
   "outputs": [
    {
     "name": "stderr",
     "output_type": "stream",
     "text": [
      "100%|██████████| 124/124 [00:58<00:00,  1.29it/s]"
     ]
    },
    {
     "name": "stdout",
     "output_type": "stream",
     "text": [
      "(3, 112, 112, 16)\n",
      "554\n"
     ]
    },
    {
     "name": "stderr",
     "output_type": "stream",
     "text": [
      "\n"
     ]
    }
   ],
   "source": [
    "train_folder_path = os.path.join(os.getcwd(), \"action_data/Hand/counterclockwise\")\n",
    "train_folder_list = sorted(os.listdir(train_folder_path))\n",
    "\n",
    "for dicname in tqdm(train_folder_list):\n",
    "    list_path = os.path.join(train_folder_path, dicname)\n",
    "    frames = []\n",
    "    i=0\n",
    "    for img in sorted(os.listdir(list_path)):\n",
    "        if i < img_depth:\n",
    "            img_path = os.path.join(list_path, img)\n",
    "            frame = cv2.imread(os.path.join(list_path, img))\n",
    "            frame = cv2.resize(frame,(img_rows,img_cols))\n",
    "            gray = cv2.cvtColor(frame, cv2.COLOR_BGR2RGB)\n",
    "            frames.append(gray)\n",
    "            i = i+1\n",
    "        else:\n",
    "            break\n",
    "\n",
    "    input=np.array(frames)\n",
    "    #print (input.shape)\n",
    "    ipt = np.rollaxis(np.rollaxis(input,2,0),2,0)\n",
    "    ipt=np.rollaxis(ipt,3,0)\n",
    "    #print (ipt.shape)\n",
    "    #print(\"__\")\n",
    "    X_tr.append(ipt)\n",
    "    \n",
    "print (ipt.shape)\n",
    "num_samples = len(X_tr)\n",
    "print(num_samples)"
   ]
  },
  {
   "cell_type": "markdown",
   "metadata": {},
   "source": [
    "## import updown"
   ]
  },
  {
   "cell_type": "code",
   "execution_count": 7,
   "metadata": {},
   "outputs": [
    {
     "name": "stderr",
     "output_type": "stream",
     "text": [
      "100%|██████████| 187/187 [01:17<00:00,  2.74it/s]"
     ]
    },
    {
     "name": "stdout",
     "output_type": "stream",
     "text": [
      "(3, 112, 112, 16)\n",
      "741\n"
     ]
    },
    {
     "name": "stderr",
     "output_type": "stream",
     "text": [
      "\n"
     ]
    }
   ],
   "source": [
    "train_folder_path = os.path.join(os.getcwd(), \"action_data/Hand/UpDown\")\n",
    "train_folder_list = sorted(os.listdir(train_folder_path))\n",
    "\n",
    "for dicname in tqdm(train_folder_list):\n",
    "    list_path = os.path.join(train_folder_path, dicname)\n",
    "    frames = []\n",
    "    i=0\n",
    "    for img in sorted(os.listdir(list_path)):\n",
    "        if i < img_depth:\n",
    "            img_path = os.path.join(list_path, img)\n",
    "            frame = cv2.imread(os.path.join(list_path, img))\n",
    "            frame = cv2.resize(frame,(img_rows,img_cols))\n",
    "            gray = cv2.cvtColor(frame, cv2.COLOR_BGR2RGB)\n",
    "            frames.append(gray)\n",
    "            i = i+1\n",
    "        else:\n",
    "            break\n",
    "\n",
    "    input=np.array(frames)\n",
    "    #print (input.shape)\n",
    "    ipt = np.rollaxis(np.rollaxis(input,2,0),2,0)\n",
    "    ipt=np.rollaxis(ipt,3,0)\n",
    "    #print (ipt.shape)\n",
    "    #print(\"__\")\n",
    "    X_tr.append(ipt)\n",
    "    \n",
    "print (ipt.shape)\n",
    "num_samples = len(X_tr)\n",
    "print(num_samples)"
   ]
  },
  {
   "cell_type": "code",
   "execution_count": 8,
   "metadata": {},
   "outputs": [
    {
     "name": "stdout",
     "output_type": "stream",
     "text": [
      "741\n"
     ]
    }
   ],
   "source": [
    "X_tr_array = np.array(X_tr)   # convert the frames read into array\n",
    "\n",
    "num_samples = len(X_tr_array) \n",
    "print (num_samples)"
   ]
  },
  {
   "cell_type": "markdown",
   "metadata": {},
   "source": [
    "## label DATA"
   ]
  },
  {
   "cell_type": "code",
   "execution_count": 9,
   "metadata": {},
   "outputs": [
    {
     "name": "stdout",
     "output_type": "stream",
     "text": [
      "X_Train shape: (741, 3, 112, 112, 16)\n"
     ]
    }
   ],
   "source": [
    "label=np.ones((num_samples,),dtype = int)\n",
    "label[0:116]= 0                   #thumbup\n",
    "label[117:314] = 1                #stop\n",
    "label[315:430] = 2                #clockwise\n",
    "label[431:554] = 3                #counterclockwise\n",
    "label[555:741]= 4                 #updown\n",
    "\n",
    "train_data = [X_tr_array,label]\n",
    "\n",
    "(X_train, y_train) = (train_data[0],train_data[1])\n",
    "print('X_Train shape:', X_train.shape)"
   ]
  },
  {
   "cell_type": "code",
   "execution_count": 10,
   "metadata": {},
   "outputs": [],
   "source": [
    "#train_set = np.zeros((num_samples, 1, img_rows,img_cols,img_depth))\n",
    "train_set = X_train\n",
    "#for h in range(num_samples):\n",
    "    #train_set[h][0][:][:][:][:]=X_train[h,:,:,:,:]"
   ]
  },
  {
   "cell_type": "code",
   "execution_count": 11,
   "metadata": {},
   "outputs": [
    {
     "name": "stdout",
     "output_type": "stream",
     "text": [
      "(741, 3, 112, 112, 16) train samples\n"
     ]
    }
   ],
   "source": [
    "patch_size = 16    # img_depth or number of frames used for each video\n",
    "\n",
    "#print(X_train.shape,\"X_train shapes\")\n",
    "print(train_set.shape, 'train samples')"
   ]
  },
  {
   "cell_type": "markdown",
   "metadata": {},
   "source": [
    "## CNN Training parameters"
   ]
  },
  {
   "cell_type": "code",
   "execution_count": 12,
   "metadata": {},
   "outputs": [
    {
     "name": "stdout",
     "output_type": "stream",
     "text": [
      "[[1. 0. 0. 0. 0.]\n",
      " [1. 0. 0. 0. 0.]\n",
      " [1. 0. 0. 0. 0.]\n",
      " ...\n",
      " [0. 0. 0. 0. 1.]\n",
      " [0. 0. 0. 0. 1.]\n",
      " [0. 0. 0. 0. 1.]]\n"
     ]
    }
   ],
   "source": [
    "nb_classes = 5\n",
    "\n",
    "# convert class vectors to binary class matrices\n",
    "Y_train = np_utils.to_categorical(y_train, nb_classes)\n",
    "print(Y_train)\n",
    "\n",
    "# Pre-processing\n",
    "#train_set = train_set.astype('float32')\n",
    "#train_set -= np.mean(train_set)  #灰階用\n",
    "#train_set /= np.max(train_set)   #灰階用\n",
    "#train_set /= 255"
   ]
  },
  {
   "cell_type": "markdown",
   "metadata": {},
   "source": [
    "# Define Model"
   ]
  },
  {
   "cell_type": "markdown",
   "metadata": {},
   "source": [
    "## Model_1"
   ]
  },
  {
   "cell_type": "code",
   "execution_count": 71,
   "metadata": {},
   "outputs": [
    {
     "name": "stdout",
     "output_type": "stream",
     "text": [
      "_________________________________________________________________\n",
      "Layer (type)                 Output Shape              Param #   \n",
      "=================================================================\n",
      "conv1 (Conv3D)               (None, 64, 112, 112, 16)  5248      \n",
      "_________________________________________________________________\n",
      "pool1 (MaxPooling3D)         (None, 64, 56, 56, 8)     0         \n",
      "_________________________________________________________________\n",
      "conv2 (Conv3D)               (None, 128, 56, 56, 8)    221312    \n",
      "_________________________________________________________________\n",
      "pool2 (MaxPooling3D)         (None, 128, 28, 28, 4)    0         \n",
      "_________________________________________________________________\n",
      "conv3 (Conv3D)               (None, 128, 28, 28, 4)    442496    \n",
      "_________________________________________________________________\n",
      "pool3 (MaxPooling3D)         (None, 128, 14, 14, 2)    0         \n",
      "_________________________________________________________________\n",
      "conv4 (Conv3D)               (None, 256, 14, 14, 2)    884992    \n",
      "_________________________________________________________________\n",
      "pool4 (MaxPooling3D)         (None, 256, 7, 7, 1)      0         \n",
      "_________________________________________________________________\n",
      "conv5 (Conv3D)               (None, 256, 7, 7, 1)      1769728   \n",
      "_________________________________________________________________\n",
      "zeropad5 (ZeroPadding3D)     (None, 256, 8, 8, 1)      0         \n",
      "_________________________________________________________________\n",
      "pool5 (MaxPooling3D)         (None, 256, 4, 4, 1)      0         \n",
      "_________________________________________________________________\n",
      "flatten_11 (Flatten)         (None, 4096)              0         \n",
      "_________________________________________________________________\n",
      "dense_31 (Dense)             (None, 2048)              8390656   \n",
      "_________________________________________________________________\n",
      "dropout_21 (Dropout)         (None, 2048)              0         \n",
      "_________________________________________________________________\n",
      "dense_32 (Dense)             (None, 2048)              4196352   \n",
      "_________________________________________________________________\n",
      "dropout_22 (Dropout)         (None, 2048)              0         \n",
      "_________________________________________________________________\n",
      "dense_33 (Dense)             (None, 5)                 10245     \n",
      "=================================================================\n",
      "Total params: 15,921,029\n",
      "Trainable params: 15,921,029\n",
      "Non-trainable params: 0\n",
      "_________________________________________________________________\n",
      "None\n"
     ]
    }
   ],
   "source": [
    "from keras.layers import Dense,Dropout,Conv3D,Input,MaxPool3D,Flatten,Activation,ZeroPadding3D\n",
    "from keras.regularizers import l2\n",
    "from keras.models import Model\n",
    "import keras\n",
    "\n",
    "input_shape = (3,112,112,16) ##channel first ##channel,spatial_dim1, spatial_dim2, spatial_dim3,\n",
    "weight_decay = 0.005\n",
    "nb_classes = 5\n",
    "\n",
    "model = Sequential()\n",
    "\n",
    "model.add(Conv3D(64,(3,3,3),strides=(1,1,1), input_shape= input_shape, name='conv1', padding='same'\n",
    "                 ,data_format=\"channels_first\", activation='relu'))\n",
    "model.add(MaxPool3D((2,2,2),strides=(2,2,2), name='pool1',padding='same',data_format=\"channels_first\"))\n",
    "\n",
    "model.add(Conv3D(128,(3,3,3),strides=(1,1,1), name='conv2',padding='same'\n",
    "                 ,data_format=\"channels_first\",activation='relu'))\n",
    "model.add(MaxPool3D((2,2,2),strides=(2,2,2), name='pool2',padding='same',data_format=\"channels_first\"))\n",
    "\n",
    "model.add(Conv3D(128,(3,3,3),strides=(1,1,1), name='conv3',padding='same'\n",
    "                 ,data_format=\"channels_first\",activation='relu'))\n",
    "model.add(MaxPool3D((2,2,2),strides=(2,2,2), name='pool3',padding='same',data_format=\"channels_first\"))\n",
    "\n",
    "model.add(Conv3D(256,(3,3,3),strides=(1,1,1), name='conv4',padding='same'\n",
    "                 ,data_format=\"channels_first\",activation='relu'))\n",
    "model.add(MaxPool3D((2,2,2),strides=(2,2,2), name='pool4',padding='same',data_format=\"channels_first\"))\n",
    "\n",
    "model.add(Conv3D(256,(3,3,3),strides=(1,1,1), name='conv5',padding='same'\n",
    "                 ,data_format=\"channels_first\",activation='relu'))\n",
    "model.add(ZeroPadding3D(padding=((0, 1), (0, 1), (0, 0)), name='zeropad5',data_format=\"channels_first\"))\n",
    "model.add(MaxPool3D((2,2,2),strides=(2,2,2), name='pool5',padding='same',data_format=\"channels_first\"))\n",
    "\n",
    "#fully connected layer\n",
    "model.add(Flatten())\n",
    "model.add(Dense(2048,activation='relu'))\n",
    "model.add(Dropout(0.5))\n",
    "model.add(Dense(2048,activation='relu',kernel_initializer='normal'))\n",
    "model.add(Dropout(0.5))\n",
    "model.add(Dense(nb_classes,activation='softmax'))\n",
    "\n",
    "print(model.summary())\n",
    "opt = keras.optimizers.Adam(lr=0.001)\n",
    "#opt = keras.optimizers.rmsprop(lr=0.0001, decay=1e-6)\n",
    "model.compile(loss='categorical_crossentropy', optimizer=opt ,metrics=['accuracy'])"
   ]
  },
  {
   "cell_type": "markdown",
   "metadata": {},
   "source": [
    "## split data"
   ]
  },
  {
   "cell_type": "code",
   "execution_count": 72,
   "metadata": {},
   "outputs": [],
   "source": [
    "X_train_new, X_val_new, y_train_new,y_val_new =  train_test_split(train_set, Y_train, test_size=0.2, random_state=4)\n",
    "X_train_new = X_train_new.astype('float32')\n",
    "X_val_new = X_val_new.astype('float32')\n",
    "X_train_new /= 255.\n",
    "X_val_new /= 255."
   ]
  },
  {
   "cell_type": "code",
   "execution_count": 73,
   "metadata": {},
   "outputs": [
    {
     "name": "stdout",
     "output_type": "stream",
     "text": [
      "Train on 592 samples, validate on 149 samples\n",
      "Epoch 1/100\n",
      "592/592 [==============================] - 9s 16ms/step - loss: 1.6594 - acc: 0.2635 - val_loss: 1.5720 - val_acc: 0.2685\n",
      "\n",
      "Epoch 00001: val_loss improved from inf to 1.57204, saving model to /home/jovyan/project/saved_models/C3D_model_test3_RGB.h5\n",
      "Epoch 2/100\n",
      "592/592 [==============================] - 7s 12ms/step - loss: 1.5924 - acc: 0.2534 - val_loss: 1.5675 - val_acc: 0.2685\n",
      "\n",
      "Epoch 00002: val_loss improved from 1.57204 to 1.56752, saving model to /home/jovyan/project/saved_models/C3D_model_test3_RGB.h5\n",
      "Epoch 3/100\n",
      "592/592 [==============================] - 7s 12ms/step - loss: 1.5883 - acc: 0.2652 - val_loss: 1.5633 - val_acc: 0.2953\n",
      "\n",
      "Epoch 00003: val_loss improved from 1.56752 to 1.56330, saving model to /home/jovyan/project/saved_models/C3D_model_test3_RGB.h5\n",
      "Epoch 4/100\n",
      "592/592 [==============================] - 7s 12ms/step - loss: 1.5846 - acc: 0.2652 - val_loss: 1.5557 - val_acc: 0.2953\n",
      "\n",
      "Epoch 00004: val_loss improved from 1.56330 to 1.55575, saving model to /home/jovyan/project/saved_models/C3D_model_test3_RGB.h5\n",
      "Epoch 5/100\n",
      "592/592 [==============================] - 7s 12ms/step - loss: 1.5759 - acc: 0.2584 - val_loss: 1.5468 - val_acc: 0.2953\n",
      "\n",
      "Epoch 00005: val_loss improved from 1.55575 to 1.54680, saving model to /home/jovyan/project/saved_models/C3D_model_test3_RGB.h5\n",
      "Epoch 6/100\n",
      "592/592 [==============================] - 7s 12ms/step - loss: 1.4642 - acc: 0.2821 - val_loss: 1.3530 - val_acc: 0.3423\n",
      "\n",
      "Epoch 00006: val_loss improved from 1.54680 to 1.35303, saving model to /home/jovyan/project/saved_models/C3D_model_test3_RGB.h5\n",
      "Epoch 7/100\n",
      "592/592 [==============================] - 7s 13ms/step - loss: 1.3489 - acc: 0.4105 - val_loss: 1.3569 - val_acc: 0.3289\n",
      "\n",
      "Epoch 00007: val_loss did not improve from 1.35303\n",
      "Epoch 8/100\n",
      "592/592 [==============================] - 7s 13ms/step - loss: 1.1482 - acc: 0.4713 - val_loss: 1.0576 - val_acc: 0.4832\n",
      "\n",
      "Epoch 00008: val_loss improved from 1.35303 to 1.05762, saving model to /home/jovyan/project/saved_models/C3D_model_test3_RGB.h5\n",
      "Epoch 9/100\n",
      "592/592 [==============================] - 8s 13ms/step - loss: 1.0223 - acc: 0.5203 - val_loss: 0.8813 - val_acc: 0.5906\n",
      "\n",
      "Epoch 00009: val_loss improved from 1.05762 to 0.88127, saving model to /home/jovyan/project/saved_models/C3D_model_test3_RGB.h5\n",
      "Epoch 10/100\n",
      "592/592 [==============================] - 8s 13ms/step - loss: 0.8561 - acc: 0.5676 - val_loss: 0.7419 - val_acc: 0.6242\n",
      "\n",
      "Epoch 00010: val_loss improved from 0.88127 to 0.74190, saving model to /home/jovyan/project/saved_models/C3D_model_test3_RGB.h5\n",
      "Epoch 11/100\n",
      "592/592 [==============================] - 7s 13ms/step - loss: 0.7316 - acc: 0.6588 - val_loss: 0.7505 - val_acc: 0.6309\n",
      "\n",
      "Epoch 00011: val_loss did not improve from 0.74190\n",
      "Epoch 12/100\n",
      "592/592 [==============================] - 7s 12ms/step - loss: 0.7028 - acc: 0.7044 - val_loss: 0.7264 - val_acc: 0.6443\n",
      "\n",
      "Epoch 00012: val_loss improved from 0.74190 to 0.72642, saving model to /home/jovyan/project/saved_models/C3D_model_test3_RGB.h5\n",
      "Epoch 13/100\n",
      "592/592 [==============================] - 7s 13ms/step - loss: 0.5540 - acc: 0.7449 - val_loss: 0.7472 - val_acc: 0.6309\n",
      "\n",
      "Epoch 00013: val_loss did not improve from 0.72642\n",
      "Epoch 14/100\n",
      "592/592 [==============================] - 7s 12ms/step - loss: 0.6210 - acc: 0.7162 - val_loss: 0.7851 - val_acc: 0.6779\n",
      "\n",
      "Epoch 00014: val_loss did not improve from 0.72642\n",
      "Epoch 15/100\n",
      "592/592 [==============================] - 7s 12ms/step - loss: 0.5868 - acc: 0.7145 - val_loss: 0.7139 - val_acc: 0.6644\n",
      "\n",
      "Epoch 00015: val_loss improved from 0.72642 to 0.71391, saving model to /home/jovyan/project/saved_models/C3D_model_test3_RGB.h5\n",
      "Epoch 16/100\n",
      "592/592 [==============================] - 7s 13ms/step - loss: 0.4665 - acc: 0.8041 - val_loss: 0.7500 - val_acc: 0.6779\n",
      "\n",
      "Epoch 00016: val_loss did not improve from 0.71391\n",
      "Epoch 17/100\n",
      "592/592 [==============================] - 7s 13ms/step - loss: 0.3911 - acc: 0.8395 - val_loss: 0.8553 - val_acc: 0.6376\n",
      "\n",
      "Epoch 00017: val_loss did not improve from 0.71391\n",
      "Epoch 18/100\n",
      "592/592 [==============================] - 7s 13ms/step - loss: 0.3743 - acc: 0.8345 - val_loss: 1.1086 - val_acc: 0.6309\n",
      "\n",
      "Epoch 00018: val_loss did not improve from 0.71391\n",
      "Epoch 19/100\n",
      "592/592 [==============================] - 7s 13ms/step - loss: 0.3424 - acc: 0.8446 - val_loss: 0.8386 - val_acc: 0.6779\n",
      "\n",
      "Epoch 00019: val_loss did not improve from 0.71391\n",
      "Epoch 20/100\n",
      "592/592 [==============================] - 7s 13ms/step - loss: 0.3701 - acc: 0.8361 - val_loss: 0.7440 - val_acc: 0.6644\n",
      "\n",
      "Epoch 00020: val_loss did not improve from 0.71391\n",
      "Epoch 21/100\n",
      "592/592 [==============================] - 8s 13ms/step - loss: 0.2740 - acc: 0.8818 - val_loss: 1.0941 - val_acc: 0.6846\n",
      "\n",
      "Epoch 00021: val_loss did not improve from 0.71391\n",
      "Epoch 22/100\n",
      "592/592 [==============================] - 8s 13ms/step - loss: 0.2620 - acc: 0.8818 - val_loss: 1.0506 - val_acc: 0.6980\n",
      "\n",
      "Epoch 00022: val_loss did not improve from 0.71391\n",
      "Epoch 23/100\n",
      "592/592 [==============================] - 8s 13ms/step - loss: 0.3016 - acc: 0.8699 - val_loss: 0.9654 - val_acc: 0.6711\n",
      "\n",
      "Epoch 00023: val_loss did not improve from 0.71391\n",
      "Epoch 24/100\n",
      "592/592 [==============================] - 8s 13ms/step - loss: 0.2032 - acc: 0.8986 - val_loss: 0.9356 - val_acc: 0.6644\n",
      "\n",
      "Epoch 00024: val_loss did not improve from 0.71391\n",
      "Epoch 25/100\n",
      "592/592 [==============================] - 8s 13ms/step - loss: 0.2431 - acc: 0.8970 - val_loss: 1.4253 - val_acc: 0.6711\n",
      "\n",
      "Epoch 00025: val_loss did not improve from 0.71391\n",
      "Epoch 00025: early stopping\n"
     ]
    }
   ],
   "source": [
    "batch_size = 32\n",
    "nb_epoch = 100\n",
    "\n",
    "# Use ModelCheckpoint to save model and weights\n",
    "save_dir = os.path.join(os.getcwd(), 'saved_models')\n",
    "model_name = 'C3D_model_test3_RGB.h5'\n",
    "\n",
    "if not os.path.isdir(save_dir):\n",
    "    os.makedirs(save_dir)\n",
    "model_path = os.path.join(save_dir, model_name)\n",
    "checkpoint = ModelCheckpoint(model_path, monitor='val_loss', save_best_only=True, verbose=1)\n",
    "\n",
    "# earlystop\n",
    "earlystop = EarlyStopping(monitor='val_loss', patience=10, verbose=1)\n",
    "\n",
    "\n",
    "hist = model.fit(X_train_new, y_train_new, \n",
    "                 validation_data=(X_val_new,y_val_new),\n",
    "                 batch_size=batch_size,\n",
    "                 epochs = nb_epoch, \n",
    "                 shuffle=True, \n",
    "                 callbacks=[checkpoint, earlystop])"
   ]
  },
  {
   "cell_type": "code",
   "execution_count": 74,
   "metadata": {},
   "outputs": [
    {
     "name": "stdout",
     "output_type": "stream",
     "text": [
      "Loading trained model\n"
     ]
    }
   ],
   "source": [
    "# loading our save model\n",
    "print(\"Loading trained model\")\n",
    "model = load_model(model_path)"
   ]
  },
  {
   "cell_type": "code",
   "execution_count": 75,
   "metadata": {},
   "outputs": [
    {
     "name": "stdout",
     "output_type": "stream",
     "text": [
      "149/149 [==============================] - 1s 7ms/step\n",
      "Test score: 0.7139069866014007\n",
      "Test accuracy: 0.6644295326015294\n"
     ]
    }
   ],
   "source": [
    "score = model.evaluate(X_val_new, y_val_new, batch_size=batch_size)\n",
    "print('Test score:', score[0])\n",
    "print('Test accuracy:', score[1]) "
   ]
  },
  {
   "cell_type": "code",
   "execution_count": 76,
   "metadata": {},
   "outputs": [
    {
     "name": "stdout",
     "output_type": "stream",
     "text": [
      "['seaborn-notebook', 'classic', 'seaborn-pastel', 'seaborn-white', 'seaborn-talk', 'bmh', 'seaborn', 'Solarize_Light2', 'seaborn-bright', 'seaborn-ticks', 'seaborn-paper', 'seaborn-muted', 'seaborn-darkgrid', 'fivethirtyeight', 'seaborn-dark-palette', 'seaborn-dark', 'grayscale', 'dark_background', 'seaborn-colorblind', 'seaborn-deep', '_classic_test', 'tableau-colorblind10', 'ggplot', 'seaborn-whitegrid', 'seaborn-poster', 'fast']\n",
      "['seaborn-notebook', 'classic', 'seaborn-pastel', 'seaborn-white', 'seaborn-talk', 'bmh', 'seaborn', 'Solarize_Light2', 'seaborn-bright', 'seaborn-ticks', 'seaborn-paper', 'seaborn-muted', 'seaborn-darkgrid', 'fivethirtyeight', 'seaborn-dark-palette', 'seaborn-dark', 'grayscale', 'dark_background', 'seaborn-colorblind', 'seaborn-deep', '_classic_test', 'tableau-colorblind10', 'ggplot', 'seaborn-whitegrid', 'seaborn-poster', 'fast']\n"
     ]
    },
    {
     "data": {
      "image/png": "[encoded data removed]",
      "text/plain": [
       "<Figure size 560x400 with 1 Axes>"
      ]
     },
     "metadata": {},
     "output_type": "display_data"
    },
    {
     "data": {
      "image/png": "[encoded data removed]",
      "text/plain": [
       "<Figure size 560x400 with 1 Axes>"
      ]
     },
     "metadata": {},
     "output_type": "display_data"
    }
   ],
   "source": [
    "train_loss=hist.history['loss']\n",
    "val_loss=hist.history['val_loss']\n",
    "train_acc=hist.history['acc']\n",
    "val_acc=hist.history['val_acc']\n",
    "\n",
    "plt.figure(1,figsize=(7,5))\n",
    "plt.plot(train_loss, label=\"training_loss\")\n",
    "plt.plot(val_loss, label=\"validation_loss\")\n",
    "plt.xlabel('Epochs')\n",
    "plt.ylabel('Loss')\n",
    "plt.grid(True)\n",
    "plt.title(\"Learning Curve\")\n",
    "plt.legend(loc='best')\n",
    "print (plt.style.available) # use bmh, classic,ggplot for big pictures\n",
    "plt.style.use(['classic'])\n",
    "\n",
    "plt.figure(2,figsize=(7,5))\n",
    "plt.plot(train_acc, label=\"training_acc\")\n",
    "plt.plot(val_acc, label=\"validation_acc\")\n",
    "plt.xlabel('Epochs')\n",
    "plt.ylabel('Loss')\n",
    "plt.grid(True)\n",
    "plt.title(\"Learning Curve\")\n",
    "plt.legend(loc='best')\n",
    "print (plt.style.available) # use bmh, classic,ggplot for big pictures\n",
    "plt.style.use(['classic'])\n"
   ]
  },
  {
   "cell_type": "code",
   "execution_count": 77,
   "metadata": {},
   "outputs": [],
   "source": [
    "import itertools\n",
    "def confusion_matrix_plot(cm, classes,\n",
    "                          normalize=False,\n",
    "                          title='Confusion matrix',\n",
    "                          cmap=plt.cm.Blues):\n",
    "    \"\"\"\n",
    "    This function prints and plots the confusion matrix.\n",
    "    Normalization can be applied by setting `normalize=True`.\n",
    "    \"\"\"\n",
    "    if normalize:\n",
    "        cm = cm.astype('float') / cm.sum(axis=1)[:, np.newaxis]\n",
    "        print(\"Normalized confusion matrix\")\n",
    "    else:\n",
    "        print('Confusion matrix, without normalization')\n",
    "\n",
    "    print(cm)\n",
    "\n",
    "    plt.imshow(cm, interpolation='nearest', cmap=cmap)\n",
    "    plt.title(title)\n",
    "    plt.colorbar()\n",
    "    tick_marks = np.arange(len(classes))\n",
    "    plt.xticks(tick_marks, classes, rotation=45)\n",
    "    plt.yticks(tick_marks, classes)\n",
    "\n",
    "    fmt = '.2f' if normalize else 'd'\n",
    "    thresh = cm.max() / 2.\n",
    "    for i, j in itertools.product(range(cm.shape[0]), range(cm.shape[1])):\n",
    "        plt.text(j, i, format(cm[i, j], fmt),\n",
    "                 horizontalalignment=\"center\",\n",
    "                 color=\"white\" if cm[i, j] > thresh else \"black\")\n",
    "\n",
    "    plt.ylabel('True label')\n",
    "    plt.xlabel('Predicted label')\n",
    "    plt.tight_layout()"
   ]
  },
  {
   "cell_type": "code",
   "execution_count": 78,
   "metadata": {},
   "outputs": [],
   "source": [
    "from sklearn import svm, datasets\n",
    "from sklearn.metrics import confusion_matrix"
   ]
  },
  {
   "cell_type": "code",
   "execution_count": 79,
   "metadata": {},
   "outputs": [],
   "source": [
    "preds = model.predict(X_val_new)"
   ]
  },
  {
   "cell_type": "code",
   "execution_count": 80,
   "metadata": {},
   "outputs": [
    {
     "name": "stdout",
     "output_type": "stream",
     "text": [
      "benchmark :  [0 0 0 0 0 0 0 0 0 0 0 0 0 0 0 0 0 0 0 0 0 0 0 0 0 0 0 0 0 0 0 0 0 0 0 0 0\n",
      " 0 0 0 0 0 0 0 0 0 0 0 0 0 0 0 0 0 0 0 0 0 0 0 0 0 0 0 0 0 0 0 0 0 0 0 0 0\n",
      " 0 0 0 0 0 0 0 0 0 0 0 0 0 0 0 0 0 0 0 0 0 0 0 0 0 0 0 0 0 0 0 0 0 0 0 0 0\n",
      " 0 0 0 0 0 1 1 1 1 1 1 1 1 1 1 1 1 1 1 1 1 1 1 1 1 1 1 1 1 1 1 1 1 1 1 1 1\n",
      " 1 1 1 1 1 1 1 1 1 1 1 1 1 1 1 1 1 1 1 1 1 1 1 1 1 1 1 1 1 1 1 1 1 1 1 1 1\n",
      " 1 1 1 1 1 1 1 1 1 1 1 1 1 1 1 1 1 1 1 1 1 1 1 1 1 1 1 1 1 1 1 1 1 1 1 1 1\n",
      " 1 1 1 1 1 1 1 1 1 1 1 1 1 1 1 1 1 1 1 1 1 1 1 1 1 1 1 1 1 1 1 1 1 1 1 1 1\n",
      " 1 1 1 1 1 1 1 1 1 1 1 1 1 1 1 1 1 1 1 1 1 1 1 1 1 1 1 1 1 1 1 1 1 1 1 1 1\n",
      " 1 1 1 1 1 1 1 1 1 1 1 1 1 1 1 1 1 1 1 2 2 2 2 2 2 2 2 2 2 2 2 2 2 2 2 2 2\n",
      " 2 2 2 2 2 2 2 2 2 2 2 2 2 2 2 2 2 2 2 2 2 2 2 2 2 2 2 2 2 2 2 2 2 2 2 2 2\n",
      " 2 2 2 2 2 2 2 2 2 2 2 2 2 2 2 2 2 2 2 2 2 2 2 2 2 2 2 2 2 2 2 2 2 2 2 2 2\n",
      " 2 2 2 2 2 2 2 2 2 2 2 2 2 2 2 2 2 2 2 2 2 2 2 1 3 3 3 3 3 3 3 3 3 3 3 3 3\n",
      " 3 3 3 3 3 3 3 3 3 3 3 3 3 3 3 3 3 3 3 3 3 3 3 3 3 3 3 3 3 3 3 3 3 3 3 3 3\n",
      " 3 3 3 3 3 3 3 3 3 3 3 3 3 3 3 3 3 3 3 3 3 3 3 3 3 3 3 3 3 3 3 3 3 3 3 3 3\n",
      " 3 3 3 3 3 3 3 3 3 3 3 3 3 3 3 3 3 3 3 3 3 3 3 3 3 3 3 3 3 3 3 3 3 3 3 3 1\n",
      " 4 4 4 4 4 4 4 4 4 4 4 4 4 4 4 4 4 4 4 4 4 4 4 4 4 4 4 4 4 4 4 4 4 4 4 4 4\n",
      " 4 4 4 4 4 4 4 4 4 4 4 4 4 4 4 4 4 4 4 4 4 4 4 4 4 4 4 4 4 4 4 4 4 4 4 4 4\n",
      " 4 4 4 4 4 4 4 4 4 4 4 4 4 4 4 4 4 4 4 4 4 4 4 4 4 4 4 4 4 4 4 4 4 4 4 4 4\n",
      " 4 4 4 4 4 4 4 4 4 4 4 4 4 4 4 4 4 4 4 4 4 4 4 4 4 4 4 4 4 4 4 4 4 4 4 4 4\n",
      " 4 4 4 4 4 4 4 4 4 4 4 4 4 4 4 4 4 4 4 4 4 4 4 4 4 4 4 4 4 4 4 4 4 4 4 4 4\n",
      " 4]\n",
      "predict :  [2 2 2 3 2 2 2 2 2 2 4 2 1 3 2 2 2 2 4 1 1 2 1 2 2 2 2 1 2 2 2 2 4 2 2 2 2\n",
      " 2 2 2 2 1 1 2 3 2 2 2 2 2 2 2 1 2 3 2 2 2 2 2 1 2 1 2 3 2 2 2 2 2 2 2 2 2\n",
      " 2 2 2 2 2 2 2 2 3 2 2 2 2 2 2 3 1 3 3 3 2 2 2 2 2 1 1 2 4 2 2 1 3 2 2 2 2\n",
      " 2 1 2 1 2 1 1 1 4 1 1 1 1 1 1 1 4 1 1 1 1 1 4 1 1 1 1 1 1 1 1 1 1 1 1 4 4\n",
      " 1 1 1 1 1 1 1 1 1 1 1 1 1 1 1 1 1 1 1 1 1 1 1 1 1 2 4 1 1 4 4 1 1 1 1 1 1\n",
      " 1 1 1 1 1 1 1 4 1 1 1 1 1 1 1 2 1 4 1 1 1 1 1 1 1 1 1 1 4 4 4 4 1 1 1 1 1\n",
      " 4 1 4 1 1 1 1 1 1 1 1 1 1 1 1 1 1 1 1 1 1 4 1 1 1 1 1 1 1 1 1 1 1 1 1 1 1\n",
      " 1 4 1 1 4 2 4 1 1 1 1 1 4 1 4 1 4 1 4 1 1 1 1 1 1 1 1 1 1 1 1 4 1 1 1 1 1\n",
      " 1 1 1 1 1 1 1 1 2 1 1 1 1 1 1 1 1 4 2 2 2 2 2 2 2 2 2 2 2 2 2 2 2 2 3 2 2\n",
      " 2 2 2 2 2 2 2 2 2 2 2 2 2 2 2 2 2 2 2 2 2 2 2 2 2 3 2 2 2 3 2 2 2 2 2 2 2\n",
      " 2 2 2 2 2 2 3 2 2 2 2 2 2 2 2 2 2 2 2 2 2 2 2 2 3 2 2 2 2 2 2 2 2 2 2 3 2\n",
      " 2 2 2 3 2 2 2 2 2 2 2 2 2 2 2 2 2 2 2 2 2 2 3 2 2 2 2 2 2 2 3 2 2 2 2 2 2\n",
      " 2 3 2 2 2 3 3 2 2 3 3 2 2 2 3 2 2 3 2 2 2 2 2 2 2 2 2 2 2 2 3 2 2 2 3 2 2\n",
      " 2 3 2 2 2 2 3 2 2 2 2 2 2 2 2 2 2 3 3 2 2 2 2 2 2 2 2 2 2 2 2 2 2 2 2 2 2\n",
      " 2 2 2 2 2 2 3 2 3 2 2 2 2 2 2 3 3 2 2 2 2 2 2 2 2 2 2 2 2 2 2 2 2 2 3 2 4\n",
      " 4 4 4 4 4 1 2 4 4 4 4 4 1 1 4 4 2 4 1 4 4 4 4 1 4 4 4 4 2 4 2 1 4 4 4 4 4\n",
      " 4 4 1 4 4 4 1 1 2 2 1 4 4 4 4 4 4 4 4 4 4 4 4 4 4 4 4 4 4 4 4 4 2 4 4 2 4\n",
      " 4 4 4 4 4 4 4 2 2 4 4 4 1 4 4 4 4 4 4 1 4 4 4 4 2 4 4 4 1 4 4 4 4 4 4 4 4\n",
      " 4 4 2 4 4 4 4 1 4 4 4 4 4 1 4 4 4 4 4 4 4 1 4 4 4 4 4 4 2 2 4 4 4 4 4 4 4\n",
      " 4 4 1 2 4 1 4 2 4 4 4 4 4 4 4 4 2 2 2 4 4 4 4 1 4 4 4 4 4 4 1 4 4 4 4 4 2\n",
      " 4]\n"
     ]
    }
   ],
   "source": [
    "#model.fit(X_train_new, y_train_new)\n",
    "#y_pred = model.predict(X_val_new)\n",
    "y_pred = model.predict(train_set)\n",
    "\n",
    "#a = np.argmax(y_val_new, axis=1)\n",
    "a = np.argmax(Y_train, axis=1)\n",
    "b = np.argmax(y_pred, axis=1)\n",
    "print(\"benchmark : \",a)\n",
    "print(\"predict : \",b)"
   ]
  },
  {
   "cell_type": "code",
   "execution_count": 81,
   "metadata": {},
   "outputs": [
    {
     "name": "stdout",
     "output_type": "stream",
     "text": [
      "[[21  0  1  0  0]\n",
      " [ 2 37  0  0  5]\n",
      " [ 1  0 13  8  0]\n",
      " [ 2  0 15  4  0]\n",
      " [ 0 12  3  1 24]]\n"
     ]
    }
   ],
   "source": [
    "met = confusion_matrix(np.argmax(y_val_new,axis =1), np.argmax(model.predict(X_val_new),axis =1))\n",
    "print(met)"
   ]
  },
  {
   "cell_type": "code",
   "execution_count": 82,
   "metadata": {},
   "outputs": [
    {
     "name": "stdout",
     "output_type": "stream",
     "text": [
      "Normalized confusion matrix\n",
      "[[0.95454545 0.         0.04545455 0.         0.        ]\n",
      " [0.04545455 0.84090909 0.         0.         0.11363636]\n",
      " [0.04545455 0.         0.59090909 0.36363636 0.        ]\n",
      " [0.0952381  0.         0.71428571 0.19047619 0.        ]\n",
      " [0.         0.3        0.075      0.025      0.6       ]]\n"
     ]
    },
    {
     "data": {
      "image/png": "[encoded data removed]",
      "text/plain": [
       "<Figure size 640x480 with 2 Axes>"
      ]
     },
     "metadata": {},
     "output_type": "display_data"
    }
   ],
   "source": [
    "confusion_matrix_plot(met, normalize=True, classes=['thumbup', 'stop', 'clockwise', 'counterclockwise', 'updown'])"
   ]
  },
  {
   "cell_type": "code",
   "execution_count": null,
   "metadata": {},
   "outputs": [],
   "source": []
  },
  {
   "cell_type": "code",
   "execution_count": null,
   "metadata": {},
   "outputs": [],
   "source": []
  }
 ],
 "metadata": {
  "kernelspec": {
   "display_name": "Python 3",
   "language": "python",
   "name": "python3"
  },
  "language_info": {
   "codemirror_mode": {
    "name": "ipython",
    "version": 3
   },
   "file_extension": ".py",
   "mimetype": "text/x-python",
   "name": "python",
   "nbconvert_exporter": "python",
   "pygments_lexer": "ipython3",
   "version": "3.6.6"
  }
 },
 "nbformat": 4,
 "nbformat_minor": 2
}
