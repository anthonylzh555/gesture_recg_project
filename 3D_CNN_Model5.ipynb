{
 "cells": [
  {
   "cell_type": "code",
   "execution_count": 1,
   "metadata": {},
   "outputs": [
    {
     "name": "stderr",
     "output_type": "stream",
     "text": [
      "/opt/conda/lib/python3.6/site-packages/h5py/__init__.py:36: FutureWarning: Conversion of the second argument of issubdtype from `float` to `np.floating` is deprecated. In future, it will be treated as `np.float64 == np.dtype(float).type`.\n",
      "  from ._conv import register_converters as _register_converters\n",
      "Using TensorFlow backend.\n",
      "/opt/conda/lib/python3.6/site-packages/sklearn/cross_validation.py:41: DeprecationWarning: This module was deprecated in version 0.18 in favor of the model_selection module into which all the refactored classes and functions are moved. Also note that the interface of the new CV iterators are different from that of this module. This module will be removed in 0.20.\n",
      "  \"This module will be removed in 0.20.\", DeprecationWarning)\n",
      "  0%|          | 0/116 [00:00<?, ?it/s]"
     ]
    },
    {
     "name": "stdout",
     "output_type": "stream",
     "text": [
      "(960, 540, 3)\n",
      "plt.imshow(img)\n"
     ]
    },
    {
     "name": "stderr",
     "output_type": "stream",
     "text": [
      " 16%|█▋        | 19/116 [00:08<01:20,  1.21it/s]\n"
     ]
    },
    {
     "ename": "KeyboardInterrupt",
     "evalue": "",
     "output_type": "error",
     "traceback": [
      "\u001b[0;31m---------------------------------------------------------------------------\u001b[0m",
      "\u001b[0;31mKeyboardInterrupt\u001b[0m                         Traceback (most recent call last)",
      "\u001b[0;32m~/project/load_data.ipynb\u001b[0m in \u001b[0;36m<module>\u001b[0;34m()\u001b[0m\n\u001b[1;32m     10\u001b[0m         \u001b[0;32mif\u001b[0m \u001b[0mi\u001b[0m \u001b[0;34m<\u001b[0m \u001b[0mimg_depth\u001b[0m\u001b[0;34m:\u001b[0m\u001b[0;34m\u001b[0m\u001b[0m\n\u001b[1;32m     11\u001b[0m             \u001b[0mimg_path\u001b[0m \u001b[0;34m=\u001b[0m \u001b[0mos\u001b[0m\u001b[0;34m.\u001b[0m\u001b[0mpath\u001b[0m\u001b[0;34m.\u001b[0m\u001b[0mjoin\u001b[0m\u001b[0;34m(\u001b[0m\u001b[0mlist_path\u001b[0m\u001b[0;34m,\u001b[0m \u001b[0mimg\u001b[0m\u001b[0;34m)\u001b[0m\u001b[0;34m\u001b[0m\u001b[0m\n\u001b[0;32m---> 12\u001b[0;31m             \u001b[0mframe\u001b[0m \u001b[0;34m=\u001b[0m \u001b[0mcv2\u001b[0m\u001b[0;34m.\u001b[0m\u001b[0mimread\u001b[0m\u001b[0;34m(\u001b[0m\u001b[0mos\u001b[0m\u001b[0;34m.\u001b[0m\u001b[0mpath\u001b[0m\u001b[0;34m.\u001b[0m\u001b[0mjoin\u001b[0m\u001b[0;34m(\u001b[0m\u001b[0mlist_path\u001b[0m\u001b[0;34m,\u001b[0m \u001b[0mimg\u001b[0m\u001b[0;34m)\u001b[0m\u001b[0;34m)\u001b[0m\u001b[0;34m\u001b[0m\u001b[0m\n\u001b[0m\u001b[1;32m     13\u001b[0m             \u001b[0mframe\u001b[0m \u001b[0;34m=\u001b[0m \u001b[0mcv2\u001b[0m\u001b[0;34m.\u001b[0m\u001b[0mresize\u001b[0m\u001b[0;34m(\u001b[0m\u001b[0mframe\u001b[0m\u001b[0;34m,\u001b[0m\u001b[0;34m(\u001b[0m\u001b[0mimg_rows\u001b[0m\u001b[0;34m,\u001b[0m\u001b[0mimg_cols\u001b[0m\u001b[0;34m)\u001b[0m\u001b[0;34m)\u001b[0m\u001b[0;34m\u001b[0m\u001b[0m\n\u001b[1;32m     14\u001b[0m             \u001b[0mgray\u001b[0m \u001b[0;34m=\u001b[0m \u001b[0mcv2\u001b[0m\u001b[0;34m.\u001b[0m\u001b[0mcvtColor\u001b[0m\u001b[0;34m(\u001b[0m\u001b[0mframe\u001b[0m\u001b[0;34m,\u001b[0m \u001b[0mcv2\u001b[0m\u001b[0;34m.\u001b[0m\u001b[0mCOLOR_BGR2RGB\u001b[0m\u001b[0;34m)\u001b[0m\u001b[0;34m\u001b[0m\u001b[0m\n",
      "\u001b[0;31mKeyboardInterrupt\u001b[0m: "
     ]
    }
   ],
   "source": [
    "%run load_data.ipynb"
   ]
  },
  {
   "cell_type": "code",
   "execution_count": 2,
   "metadata": {},
   "outputs": [],
   "source": [
    "from keras.preprocessing.image import ImageDataGenerator\n",
    "from keras.models import Sequential, load_model\n",
    "from keras.layers.core import Dense, Dropout, Activation, Flatten\n",
    "from keras.layers.convolutional import Convolution3D, MaxPooling3D\n",
    "\n",
    "from keras.optimizers import SGD, RMSprop\n",
    "from keras.utils import np_utils, generic_utils\n",
    "from keras.callbacks import EarlyStopping, ModelCheckpoint\n",
    "\n",
    "#import theano\n",
    "import os\n",
    "import matplotlib\n",
    "import matplotlib.pyplot as plt\n",
    "import pandas as pd\n",
    "import numpy as np\n",
    "import cv2\n",
    "from sklearn.cross_validation import train_test_split\n",
    "from sklearn import cross_validation\n",
    "from sklearn import preprocessing"
   ]
  },
  {
   "cell_type": "markdown",
   "metadata": {},
   "source": [
    "## CNN Training parameters"
   ]
  },
  {
   "cell_type": "code",
   "execution_count": 13,
   "metadata": {},
   "outputs": [],
   "source": [
    "batch_size = 16\n",
    "nb_classes = 5\n",
    "nb_epoch = 200\n",
    "\n",
    "# convert class vectors to binary class matrices\n",
    "Y_train = np_utils.to_categorical(y_train, nb_classes)\n",
    "\n",
    "# number of convolutional filters to use at each layer\n",
    "nb_filters = [64, 64]\n",
    "\n",
    "# level of pooling to perform at each layer (POOL x POOL)\n",
    "nb_pool = [2, 2]\n",
    "\n",
    "# level of convolution to perform at each layer (CONV x CONV)\n",
    "nb_conv = [3, 3]\n",
    "\n",
    "# Pre-processing\n",
    "\n",
    "train_set = train_set.astype('float32')\n",
    "\n",
    "train_set -= np.mean(train_set)\n",
    "\n",
    "train_set /= np.max(train_set)"
   ]
  },
  {
   "cell_type": "markdown",
   "metadata": {},
   "source": [
    "# Define Model"
   ]
  },
  {
   "cell_type": "markdown",
   "metadata": {},
   "source": [
    "## Model_1"
   ]
  },
  {
   "cell_type": "code",
   "execution_count": 17,
   "metadata": {},
   "outputs": [
    {
     "name": "stdout",
     "output_type": "stream",
     "text": [
      "_________________________________________________________________\n",
      "Layer (type)                 Output Shape              Param #   \n",
      "=================================================================\n",
      "conv1 (Conv3D)               (None, 64, 112, 112, 16)  5248      \n",
      "_________________________________________________________________\n",
      "pool1 (MaxPooling3D)         (None, 64, 56, 56, 16)    0         \n",
      "_________________________________________________________________\n",
      "conv2 (Conv3D)               (None, 128, 56, 56, 16)   221312    \n",
      "_________________________________________________________________\n",
      "pool2 (MaxPooling3D)         (None, 128, 28, 28, 8)    0         \n",
      "_________________________________________________________________\n",
      "conv3 (Conv3D)               (None, 128, 28, 28, 8)    442496    \n",
      "_________________________________________________________________\n",
      "pool3 (MaxPooling3D)         (None, 128, 14, 14, 4)    0         \n",
      "_________________________________________________________________\n",
      "conv4 (Conv3D)               (None, 256, 14, 14, 4)    884992    \n",
      "_________________________________________________________________\n",
      "pool4 (MaxPooling3D)         (None, 256, 7, 7, 2)      0         \n",
      "_________________________________________________________________\n",
      "conv5 (Conv3D)               (None, 256, 7, 7, 2)      1769728   \n",
      "_________________________________________________________________\n",
      "pool5 (MaxPooling3D)         (None, 256, 4, 4, 1)      0         \n",
      "_________________________________________________________________\n",
      "flatten_4 (Flatten)          (None, 4096)              0         \n",
      "_________________________________________________________________\n",
      "dense_4 (Dense)              (None, 2048)              8390656   \n",
      "_________________________________________________________________\n",
      "dropout_7 (Dropout)          (None, 2048)              0         \n",
      "_________________________________________________________________\n",
      "dense_5 (Dense)              (None, 2048)              4196352   \n",
      "_________________________________________________________________\n",
      "dropout_8 (Dropout)          (None, 2048)              0         \n",
      "_________________________________________________________________\n",
      "dense_6 (Dense)              (None, 5)                 10245     \n",
      "=================================================================\n",
      "Total params: 15,921,029\n",
      "Trainable params: 15,921,029\n",
      "Non-trainable params: 0\n",
      "_________________________________________________________________\n",
      "None\n"
     ]
    }
   ],
   "source": [
    "from keras.layers import Dense,Dropout,Conv3D,Input,MaxPool3D,Flatten,Activation\n",
    "from keras.regularizers import l2\n",
    "from keras.models import Model\n",
    "\n",
    "input_shape = (3,112,112,16) ##channel first ##channel,spatial_dim1, spatial_dim2, spatial_dim3,\n",
    "weight_decay = 0.005\n",
    "nb_classes = 5\n",
    "\n",
    "model = Sequential()\n",
    "\n",
    "model.add(Conv3D(64,(3,3,3),strides=(1,1,1), input_shape= input_shape, name='conv1', padding='same',data_format=\"channels_first\", activation='relu', kernel_regularizer=l2(weight_decay)))\n",
    "model.add(MaxPool3D((2,2,1),strides=(2,2,1), name='pool1',padding='same',data_format=\"channels_first\"))\n",
    "\n",
    "model.add(Conv3D(128,(3,3,3),strides=(1,1,1), name='conv2',padding='same',data_format=\"channels_first\",activation='relu',kernel_regularizer=l2(weight_decay)))\n",
    "model.add(MaxPool3D((2,2,2),strides=(2,2,2), name='pool2',padding='same',data_format=\"channels_first\"))\n",
    "\n",
    "model.add(Conv3D(128,(3,3,3),strides=(1,1,1), name='conv3',padding='same',data_format=\"channels_first\",activation='relu',kernel_regularizer=l2(weight_decay)))\n",
    "model.add(MaxPool3D((2,2,2),strides=(2,2,2), name='pool3',padding='same',data_format=\"channels_first\"))\n",
    "\n",
    "model.add(Conv3D(256,(3,3,3),strides=(1,1,1), name='conv4',padding='same',data_format=\"channels_first\",activation='relu',kernel_regularizer=l2(weight_decay)))\n",
    "model.add(MaxPool3D((2,2,2),strides=(2,2,2), name='pool4',padding='same',data_format=\"channels_first\"))\n",
    "\n",
    "model.add(Conv3D(256,(3,3,3),strides=(1,1,1), name='conv5',padding='same',data_format=\"channels_first\",activation='relu',kernel_regularizer=l2(weight_decay)))\n",
    "model.add(MaxPool3D((2,2,2),strides=(2,2,2), name='pool5',padding='same',data_format=\"channels_first\"))\n",
    "\n",
    "\n",
    "#fully connected layer\n",
    "model.add(Flatten())\n",
    "model.add(Dense(2048,activation='relu',kernel_regularizer=l2(weight_decay)))\n",
    "model.add(Dropout(0.5))\n",
    "model.add(Dense(2048,activation='relu',kernel_regularizer=l2(weight_decay)))\n",
    "model.add(Dropout(0.5))\n",
    "model.add(Dense(nb_classes,activation='softmax',kernel_regularizer=l2(weight_decay)))\n",
    "\n",
    "print(model.summary())\n",
    "#opt = keras.optimizers.Adam()\n",
    "model.compile(loss='categorical_crossentropy', optimizer='RMSprop',metrics=['accuracy'])"
   ]
  },
  {
   "cell_type": "markdown",
   "metadata": {},
   "source": [
    "# Model_2"
   ]
  },
  {
   "cell_type": "code",
   "execution_count": 16,
   "metadata": {},
   "outputs": [
    {
     "name": "stdout",
     "output_type": "stream",
     "text": [
      "_________________________________________________________________\n",
      "Layer (type)                 Output Shape              Param #   \n",
      "=================================================================\n",
      "conv1 (Conv3D)               (None, 64, 112, 112, 16)  5248      \n",
      "_________________________________________________________________\n",
      "pool1 (MaxPooling3D)         (None, 64, 56, 56, 16)    0         \n",
      "_________________________________________________________________\n",
      "conv2 (Conv3D)               (None, 128, 56, 56, 16)   221312    \n",
      "_________________________________________________________________\n",
      "pool2 (MaxPooling3D)         (None, 128, 28, 28, 8)    0         \n",
      "_________________________________________________________________\n",
      "conv3a (Conv3D)              (None, 256, 28, 28, 8)    884992    \n",
      "_________________________________________________________________\n",
      "conv3b (Conv3D)              (None, 256, 28, 28, 8)    1769728   \n",
      "_________________________________________________________________\n",
      "pool3 (MaxPooling3D)         (None, 256, 14, 14, 4)    0         \n",
      "_________________________________________________________________\n",
      "conv4a (Conv3D)              (None, 512, 14, 14, 4)    3539456   \n",
      "_________________________________________________________________\n",
      "conv4b (Conv3D)              (None, 512, 14, 14, 4)    7078400   \n",
      "_________________________________________________________________\n",
      "pool4 (MaxPooling3D)         (None, 512, 7, 7, 2)      0         \n",
      "_________________________________________________________________\n",
      "conv5a (Conv3D)              (None, 512, 7, 7, 2)      7078400   \n",
      "_________________________________________________________________\n",
      "conv5b (Conv3D)              (None, 512, 7, 7, 2)      7078400   \n",
      "_________________________________________________________________\n",
      "zeropad5 (ZeroPadding3D)     (None, 512, 7, 8, 3)      0         \n",
      "_________________________________________________________________\n",
      "pool5 (MaxPooling3D)         (None, 512, 3, 4, 1)      0         \n",
      "_________________________________________________________________\n",
      "flatten_3 (Flatten)          (None, 6144)              0         \n",
      "_________________________________________________________________\n",
      "fc6 (Dense)                  (None, 4096)              25169920  \n",
      "_________________________________________________________________\n",
      "dropout_5 (Dropout)          (None, 4096)              0         \n",
      "_________________________________________________________________\n",
      "fc7 (Dense)                  (None, 4096)              16781312  \n",
      "_________________________________________________________________\n",
      "dropout_6 (Dropout)          (None, 4096)              0         \n",
      "_________________________________________________________________\n",
      "fc8 (Dense)                  (None, 5)                 20485     \n",
      "=================================================================\n",
      "Total params: 69,627,653\n",
      "Trainable params: 69,627,653\n",
      "Non-trainable params: 0\n",
      "_________________________________________________________________\n",
      "None\n"
     ]
    }
   ],
   "source": [
    "from keras.models import Sequential\n",
    "from keras.layers.core import Dense, Dropout, Flatten\n",
    "from keras.layers.convolutional import Convolution3D, MaxPooling3D, ZeroPadding3D\n",
    "from keras.optimizers import SGD\n",
    "\n",
    "model = Sequential()\n",
    "\n",
    "# 1st layer group\n",
    "model.add(Conv3D(64, (3, 3, 3), activation='relu',padding='same', name='conv1',input_shape=input_shape,data_format=\"channels_first\"))\n",
    "model.add(MaxPool3D(pool_size=(2, 2, 1), strides=(2, 2, 1), padding='valid', name='pool1',data_format=\"channels_first\"))\n",
    "\n",
    "# 2nd layer group\n",
    "model.add(Conv3D(128, (3, 3, 3), activation='relu',padding='same', name='conv2',data_format=\"channels_first\"))\n",
    "model.add(MaxPool3D(pool_size=(2, 2, 2), strides=(2, 2, 2),padding='valid', name='pool2',data_format=\"channels_first\"))\n",
    "\n",
    "# 3rd layer group\n",
    "model.add(Conv3D(256, (3, 3, 3), activation='relu',padding='same', name='conv3a',data_format=\"channels_first\"))\n",
    "model.add(Conv3D(256, (3, 3, 3), activation='relu',padding='same', name='conv3b',data_format=\"channels_first\"))\n",
    "model.add(MaxPool3D(pool_size=(2, 2, 2), strides=(2, 2, 2),padding='valid', name='pool3',data_format=\"channels_first\"))\n",
    "    \n",
    "# 4th layer group\n",
    "model.add(Conv3D(512, (3, 3, 3), activation='relu',padding='same', name='conv4a',data_format=\"channels_first\"))\n",
    "model.add(Conv3D(512, (3, 3, 3), activation='relu',padding='same', name='conv4b',data_format=\"channels_first\"))\n",
    "model.add(MaxPool3D(pool_size=(2, 2, 2), strides=(2, 2, 2),padding='valid', name='pool4',data_format=\"channels_first\"))\n",
    "    \n",
    "# 5th layer group\n",
    "model.add(Conv3D(512, (3, 3, 3), activation='relu',padding='same', name='conv5a',data_format=\"channels_first\"))\n",
    "model.add(Conv3D(512, (3, 3, 3), activation='relu', padding='same', name='conv5b',data_format=\"channels_first\"))\n",
    "model.add(ZeroPadding3D(padding=((0, 0), (0, 1), (0, 1)), name='zeropad5',data_format=\"channels_first\"))\n",
    "model.add(MaxPool3D(pool_size=(2, 2, 2), strides=(2, 2, 2),padding='valid', name='pool5',data_format=\"channels_first\"))\n",
    "model.add(Flatten())\n",
    "    \n",
    "# FC layers group\n",
    "model.add(Dense(4096, activation='relu', name='fc6'))\n",
    "model.add(Dropout(.5))\n",
    "model.add(Dense(4096, activation='relu', name='fc7'))\n",
    "model.add(Dropout(.5))\n",
    "model.add(Dense(5, activation='softmax', name='fc8'))\n",
    "\n",
    "print(model.summary())\n",
    "#opt = keras.optimizers.Adam()\n",
    "model.compile(loss='categorical_crossentropy', optimizer='RMSprop',metrics=['accuracy'])"
   ]
  },
  {
   "cell_type": "markdown",
   "metadata": {},
   "source": [
    "## Model_3"
   ]
  },
  {
   "cell_type": "code",
   "execution_count": 19,
   "metadata": {},
   "outputs": [
    {
     "name": "stdout",
     "output_type": "stream",
     "text": [
      "_________________________________________________________________\n",
      "Layer (type)                 Output Shape              Param #   \n",
      "=================================================================\n",
      "conv3d_9 (Conv3D)            (None, 16, 112, 112, 16)  2176      \n",
      "_________________________________________________________________\n",
      "max_pooling3d_8 (MaxPooling3 (None, 16, 56, 56, 16)    0         \n",
      "_________________________________________________________________\n",
      "conv3d_10 (Conv3D)           (None, 64, 55, 54, 14)    18496     \n",
      "_________________________________________________________________\n",
      "max_pooling3d_9 (MaxPooling3 (None, 64, 28, 27, 7)     0         \n",
      "_________________________________________________________________\n",
      "conv3d_11 (Conv3D)           (None, 256, 27, 25, 5)    295168    \n",
      "_________________________________________________________________\n",
      "max_pooling3d_10 (MaxPooling (None, 256, 14, 13, 3)    0         \n",
      "_________________________________________________________________\n",
      "conv3d_12 (Conv3D)           (None, 1024, 13, 11, 1)   4719616   \n",
      "_________________________________________________________________\n",
      "max_pooling3d_11 (MaxPooling (None, 1024, 7, 6, 1)     0         \n",
      "_________________________________________________________________\n",
      "global_average_pooling3d_1 ( (None, 1)                 0         \n",
      "_________________________________________________________________\n",
      "dense_7 (Dense)              (None, 32)                64        \n",
      "_________________________________________________________________\n",
      "dropout_9 (Dropout)          (None, 32)                0         \n",
      "_________________________________________________________________\n",
      "dense_8 (Dense)              (None, 5)                 165       \n",
      "=================================================================\n",
      "Total params: 5,035,685\n",
      "Trainable params: 5,035,685\n",
      "Non-trainable params: 0\n",
      "_________________________________________________________________\n"
     ]
    }
   ],
   "source": [
    "from keras.models import Sequential\n",
    "from keras.layers import Conv3D, MaxPooling3D, GlobalAveragePooling3D, BatchNormalization\n",
    "from keras.layers.core import Dense, Dropout\n",
    "\n",
    "# Using the Sequential Model\n",
    "model = Sequential()\n",
    "\n",
    "# Adding Alternate convolutional and pooling layers\n",
    "model.add(Conv3D(filters=16, kernel_size=(5, 3, 3), strides=(1, 1, 1), padding='same', activation='relu', input_shape=input_shape,data_format=\"channels_first\"))\n",
    "model.add(MaxPooling3D(pool_size=(2, 2, 1), strides=(2, 2, 1), padding='same',data_format=\"channels_first\"))\n",
    "\n",
    "model.add(Conv3D(filters=64, kernel_size=(2, 3, 3), strides=(1, 1, 1), padding='valid', activation='relu',data_format=\"channels_first\"))\n",
    "model.add(MaxPooling3D(pool_size=(2, 2, 2), strides=(2, 2, 2), padding='same',data_format=\"channels_first\"))\n",
    "\n",
    "model.add(Conv3D(filters=256, kernel_size=(2, 3, 3), strides=(1, 1, 1), padding='valid', activation='relu',data_format=\"channels_first\"))\n",
    "model.add(MaxPooling3D(pool_size=(2, 2, 2), strides=(2, 2, 2), padding='same',data_format=\"channels_first\"))\n",
    "\n",
    "model.add(Conv3D(filters=1024, kernel_size=(2, 3, 3), strides=(1, 1, 1), padding='valid', activation='relu',data_format=\"channels_first\"))\n",
    "model.add(MaxPooling3D(pool_size=(2, 2, 2), strides=(2, 2, 2), padding='same',data_format=\"channels_first\"))\n",
    "\n",
    "# A global average pooling layer to get a 1-d vector\n",
    "# The vector will have a depth (same as number of elements in the vector) of 1024\n",
    "model.add(GlobalAveragePooling3D())\n",
    "\n",
    "# Hidden layer\n",
    "model.add(Dense(32, activation='relu'))\n",
    "\n",
    "# Dropout Layer\n",
    "model.add(Dropout(0.5))\n",
    "\n",
    "# Output layer\n",
    "model.add(Dense(5, activation='softmax'))\n",
    "\n",
    "model.summary()"
   ]
  },
  {
   "cell_type": "markdown",
   "metadata": {},
   "source": [
    "## split data"
   ]
  },
  {
   "cell_type": "code",
   "execution_count": 129,
   "metadata": {},
   "outputs": [],
   "source": [
    "X_train_new, X_val_new, y_train_new,y_val_new =  train_test_split(train_set, Y_train, test_size=0.2, random_state=4)"
   ]
  },
  {
   "cell_type": "code",
   "execution_count": 130,
   "metadata": {},
   "outputs": [
    {
     "name": "stdout",
     "output_type": "stream",
     "text": [
      "Train on 592 samples, validate on 149 samples\n",
      "Epoch 1/50\n",
      "592/592 [==============================] - 11s 19ms/step - loss: 7.9949 - acc: 0.2568 - val_loss: 2.9308 - val_acc: 0.2953\n",
      "\n",
      "Epoch 00001: val_loss improved from inf to 2.93083, saving model to /home/jovyan/project/saved_models/C3D_model_new.h5\n",
      "Epoch 2/50\n",
      "592/592 [==============================] - 7s 12ms/step - loss: 2.3277 - acc: 0.2399 - val_loss: 1.8659 - val_acc: 0.2953\n",
      "\n",
      "Epoch 00002: val_loss improved from 2.93083 to 1.86590, saving model to /home/jovyan/project/saved_models/C3D_model_new.h5\n",
      "Epoch 3/50\n",
      "592/592 [==============================] - 7s 12ms/step - loss: 1.7376 - acc: 0.2517 - val_loss: 1.6263 - val_acc: 0.2953\n",
      "\n",
      "Epoch 00003: val_loss improved from 1.86590 to 1.62632, saving model to /home/jovyan/project/saved_models/C3D_model_new.h5\n",
      "Epoch 4/50\n",
      "592/592 [==============================] - 7s 11ms/step - loss: 1.6299 - acc: 0.2635 - val_loss: 1.6008 - val_acc: 0.2953\n",
      "\n",
      "Epoch 00004: val_loss improved from 1.62632 to 1.60077, saving model to /home/jovyan/project/saved_models/C3D_model_new.h5\n",
      "Epoch 5/50\n",
      "592/592 [==============================] - 7s 11ms/step - loss: 1.6206 - acc: 0.2618 - val_loss: 1.5957 - val_acc: 0.2953\n",
      "\n",
      "Epoch 00005: val_loss improved from 1.60077 to 1.59571, saving model to /home/jovyan/project/saved_models/C3D_model_new.h5\n",
      "Epoch 6/50\n",
      "592/592 [==============================] - 7s 12ms/step - loss: 1.6217 - acc: 0.2618 - val_loss: 1.5968 - val_acc: 0.2953\n",
      "\n",
      "Epoch 00006: val_loss did not improve from 1.59571\n",
      "Epoch 7/50\n",
      "592/592 [==============================] - 7s 12ms/step - loss: 1.6205 - acc: 0.2584 - val_loss: 1.5945 - val_acc: 0.2953\n",
      "\n",
      "Epoch 00007: val_loss improved from 1.59571 to 1.59448, saving model to /home/jovyan/project/saved_models/C3D_model_new.h5\n",
      "Epoch 8/50\n",
      "592/592 [==============================] - 7s 12ms/step - loss: 1.6202 - acc: 0.2652 - val_loss: 1.6055 - val_acc: 0.2953\n",
      "\n",
      "Epoch 00008: val_loss did not improve from 1.59448\n",
      "Epoch 9/50\n",
      "592/592 [==============================] - 7s 12ms/step - loss: 1.6191 - acc: 0.2669 - val_loss: 1.5948 - val_acc: 0.2953\n",
      "\n",
      "Epoch 00009: val_loss did not improve from 1.59448\n",
      "Epoch 10/50\n",
      "592/592 [==============================] - 7s 11ms/step - loss: 1.6169 - acc: 0.2517 - val_loss: 1.5918 - val_acc: 0.2953\n",
      "\n",
      "Epoch 00010: val_loss improved from 1.59448 to 1.59181, saving model to /home/jovyan/project/saved_models/C3D_model_new.h5\n",
      "Epoch 11/50\n",
      "592/592 [==============================] - 7s 11ms/step - loss: 1.6178 - acc: 0.2652 - val_loss: 1.5942 - val_acc: 0.2953\n",
      "\n",
      "Epoch 00011: val_loss did not improve from 1.59181\n",
      "Epoch 12/50\n",
      "592/592 [==============================] - 7s 12ms/step - loss: 1.6162 - acc: 0.2652 - val_loss: 1.5925 - val_acc: 0.2953\n",
      "\n",
      "Epoch 00012: val_loss did not improve from 1.59181\n",
      "Epoch 13/50\n",
      "592/592 [==============================] - 7s 12ms/step - loss: 1.6163 - acc: 0.2601 - val_loss: 1.5916 - val_acc: 0.2953\n",
      "\n",
      "Epoch 00013: val_loss improved from 1.59181 to 1.59157, saving model to /home/jovyan/project/saved_models/C3D_model_new.h5\n",
      "Epoch 14/50\n",
      "592/592 [==============================] - 7s 12ms/step - loss: 1.6173 - acc: 0.2449 - val_loss: 1.5921 - val_acc: 0.2953\n",
      "\n",
      "Epoch 00014: val_loss did not improve from 1.59157\n",
      "Epoch 15/50\n",
      "592/592 [==============================] - 7s 12ms/step - loss: 1.6165 - acc: 0.2652 - val_loss: 1.5927 - val_acc: 0.2953\n",
      "\n",
      "Epoch 00015: val_loss did not improve from 1.59157\n",
      "Epoch 16/50\n",
      "592/592 [==============================] - 7s 12ms/step - loss: 1.6164 - acc: 0.2720 - val_loss: 1.5932 - val_acc: 0.2953\n",
      "\n",
      "Epoch 00016: val_loss did not improve from 1.59157\n",
      "Epoch 17/50\n",
      "592/592 [==============================] - 7s 12ms/step - loss: 1.6162 - acc: 0.2652 - val_loss: 1.5907 - val_acc: 0.2953\n",
      "\n",
      "Epoch 00017: val_loss improved from 1.59157 to 1.59066, saving model to /home/jovyan/project/saved_models/C3D_model_new.h5\n",
      "Epoch 18/50\n",
      "592/592 [==============================] - 7s 12ms/step - loss: 1.6154 - acc: 0.2517 - val_loss: 1.5935 - val_acc: 0.2953\n",
      "\n",
      "Epoch 00018: val_loss did not improve from 1.59066\n",
      "Epoch 19/50\n",
      "592/592 [==============================] - 7s 12ms/step - loss: 1.6151 - acc: 0.2635 - val_loss: 1.5909 - val_acc: 0.2953\n",
      "\n",
      "Epoch 00019: val_loss did not improve from 1.59066\n",
      "Epoch 20/50\n",
      "592/592 [==============================] - 7s 12ms/step - loss: 1.6158 - acc: 0.2652 - val_loss: 1.5909 - val_acc: 0.2953\n",
      "\n",
      "Epoch 00020: val_loss did not improve from 1.59066\n",
      "Epoch 21/50\n",
      "592/592 [==============================] - 7s 12ms/step - loss: 1.6164 - acc: 0.2652 - val_loss: 1.5899 - val_acc: 0.2953\n",
      "\n",
      "Epoch 00021: val_loss improved from 1.59066 to 1.58994, saving model to /home/jovyan/project/saved_models/C3D_model_new.h5\n",
      "Epoch 22/50\n",
      "592/592 [==============================] - 7s 12ms/step - loss: 1.6162 - acc: 0.2652 - val_loss: 1.5907 - val_acc: 0.2953\n",
      "\n",
      "Epoch 00022: val_loss did not improve from 1.58994\n",
      "Epoch 23/50\n",
      "592/592 [==============================] - 7s 12ms/step - loss: 1.6157 - acc: 0.2652 - val_loss: 1.5919 - val_acc: 0.2953\n",
      "\n",
      "Epoch 00023: val_loss did not improve from 1.58994\n",
      "Epoch 24/50\n",
      "592/592 [==============================] - 7s 12ms/step - loss: 1.6162 - acc: 0.2652 - val_loss: 1.5933 - val_acc: 0.2953\n",
      "\n",
      "Epoch 00024: val_loss did not improve from 1.58994\n",
      "Epoch 25/50\n",
      "592/592 [==============================] - 7s 12ms/step - loss: 1.6152 - acc: 0.2652 - val_loss: 1.5919 - val_acc: 0.2953\n",
      "\n",
      "Epoch 00025: val_loss did not improve from 1.58994\n",
      "Epoch 26/50\n",
      "592/592 [==============================] - 7s 12ms/step - loss: 1.6158 - acc: 0.2669 - val_loss: 1.5915 - val_acc: 0.2953\n",
      "\n",
      "Epoch 00026: val_loss did not improve from 1.58994\n",
      "Epoch 27/50\n",
      "592/592 [==============================] - 7s 12ms/step - loss: 1.6147 - acc: 0.2652 - val_loss: 1.5907 - val_acc: 0.2953\n",
      "\n",
      "Epoch 00027: val_loss did not improve from 1.58994\n",
      "Epoch 28/50\n",
      "592/592 [==============================] - 7s 12ms/step - loss: 1.6151 - acc: 0.2534 - val_loss: 1.5915 - val_acc: 0.2953\n",
      "\n",
      "Epoch 00028: val_loss did not improve from 1.58994\n",
      "Epoch 29/50\n",
      "592/592 [==============================] - 7s 12ms/step - loss: 1.6166 - acc: 0.2652 - val_loss: 1.5911 - val_acc: 0.2953\n",
      "\n",
      "Epoch 00029: val_loss did not improve from 1.58994\n",
      "Epoch 30/50\n",
      "592/592 [==============================] - 7s 12ms/step - loss: 1.6154 - acc: 0.2703 - val_loss: 1.5924 - val_acc: 0.2953\n",
      "\n",
      "Epoch 00030: val_loss did not improve from 1.58994\n",
      "Epoch 31/50\n",
      "592/592 [==============================] - 7s 12ms/step - loss: 1.6147 - acc: 0.2551 - val_loss: 1.5904 - val_acc: 0.2953\n",
      "\n",
      "Epoch 00031: val_loss did not improve from 1.58994\n",
      "Epoch 32/50\n",
      "592/592 [==============================] - 7s 12ms/step - loss: 1.6158 - acc: 0.2652 - val_loss: 1.5917 - val_acc: 0.2953\n",
      "\n",
      "Epoch 00032: val_loss did not improve from 1.58994\n",
      "Epoch 33/50\n",
      "592/592 [==============================] - 7s 11ms/step - loss: 1.6139 - acc: 0.2669 - val_loss: 1.5923 - val_acc: 0.2953\n",
      "\n",
      "Epoch 00033: val_loss did not improve from 1.58994\n",
      "Epoch 34/50\n",
      "592/592 [==============================] - 7s 12ms/step - loss: 1.6146 - acc: 0.2652 - val_loss: 1.5915 - val_acc: 0.2953\n",
      "\n",
      "Epoch 00034: val_loss did not improve from 1.58994\n",
      "Epoch 35/50\n",
      "592/592 [==============================] - 7s 12ms/step - loss: 1.6149 - acc: 0.2652 - val_loss: 1.5903 - val_acc: 0.2953\n",
      "\n",
      "Epoch 00035: val_loss did not improve from 1.58994\n",
      "Epoch 36/50\n",
      "592/592 [==============================] - 7s 12ms/step - loss: 1.6127 - acc: 0.2618 - val_loss: 1.5904 - val_acc: 0.2953\n",
      "\n",
      "Epoch 00036: val_loss did not improve from 1.58994\n",
      "Epoch 37/50\n",
      "592/592 [==============================] - 7s 12ms/step - loss: 1.6146 - acc: 0.2618 - val_loss: 1.5912 - val_acc: 0.2953\n",
      "\n",
      "Epoch 00037: val_loss did not improve from 1.58994\n",
      "Epoch 38/50\n",
      "592/592 [==============================] - 7s 11ms/step - loss: 1.6141 - acc: 0.2584 - val_loss: 1.5912 - val_acc: 0.2953\n",
      "\n",
      "Epoch 00038: val_loss did not improve from 1.58994\n",
      "Epoch 39/50\n",
      "592/592 [==============================] - 7s 12ms/step - loss: 1.6137 - acc: 0.2652 - val_loss: 1.5907 - val_acc: 0.2953\n",
      "\n",
      "Epoch 00039: val_loss did not improve from 1.58994\n",
      "Epoch 40/50\n",
      "592/592 [==============================] - 7s 12ms/step - loss: 1.6150 - acc: 0.2652 - val_loss: 1.5907 - val_acc: 0.2953\n",
      "\n",
      "Epoch 00040: val_loss did not improve from 1.58994\n",
      "Epoch 41/50\n",
      "592/592 [==============================] - 7s 12ms/step - loss: 1.6142 - acc: 0.2652 - val_loss: 1.5900 - val_acc: 0.2953\n",
      "\n",
      "Epoch 00041: val_loss did not improve from 1.58994\n",
      "Epoch 42/50\n",
      "592/592 [==============================] - 7s 12ms/step - loss: 1.6140 - acc: 0.2635 - val_loss: 1.5909 - val_acc: 0.2953\n",
      "\n",
      "Epoch 00042: val_loss did not improve from 1.58994\n",
      "Epoch 43/50\n",
      "592/592 [==============================] - 7s 12ms/step - loss: 1.6132 - acc: 0.2618 - val_loss: 1.5898 - val_acc: 0.2953\n",
      "\n",
      "Epoch 00043: val_loss improved from 1.58994 to 1.58980, saving model to /home/jovyan/project/saved_models/C3D_model_new.h5\n",
      "Epoch 44/50\n",
      "592/592 [==============================] - 7s 12ms/step - loss: 1.6128 - acc: 0.2669 - val_loss: 1.5900 - val_acc: 0.2953\n",
      "\n",
      "Epoch 00044: val_loss did not improve from 1.58980\n",
      "Epoch 45/50\n",
      "592/592 [==============================] - 7s 12ms/step - loss: 1.6143 - acc: 0.2652 - val_loss: 1.5902 - val_acc: 0.2953\n",
      "\n",
      "Epoch 00045: val_loss did not improve from 1.58980\n",
      "Epoch 46/50\n",
      "592/592 [==============================] - 7s 12ms/step - loss: 1.6141 - acc: 0.2652 - val_loss: 1.5905 - val_acc: 0.2953\n",
      "\n",
      "Epoch 00046: val_loss did not improve from 1.58980\n",
      "Epoch 47/50\n",
      "592/592 [==============================] - 7s 12ms/step - loss: 1.6137 - acc: 0.2635 - val_loss: 1.5902 - val_acc: 0.2953\n",
      "\n",
      "Epoch 00047: val_loss did not improve from 1.58980\n",
      "Epoch 48/50\n",
      "592/592 [==============================] - 7s 12ms/step - loss: 1.6145 - acc: 0.2635 - val_loss: 1.5910 - val_acc: 0.2953\n",
      "\n",
      "Epoch 00048: val_loss did not improve from 1.58980\n",
      "Epoch 49/50\n",
      "592/592 [==============================] - 7s 11ms/step - loss: 1.6145 - acc: 0.2652 - val_loss: 1.5907 - val_acc: 0.2953\n",
      "\n",
      "Epoch 00049: val_loss did not improve from 1.58980\n",
      "Epoch 50/50\n",
      "592/592 [==============================] - 7s 12ms/step - loss: 1.6135 - acc: 0.2652 - val_loss: 1.5911 - val_acc: 0.2953\n",
      "\n",
      "Epoch 00050: val_loss did not improve from 1.58980\n"
     ]
    }
   ],
   "source": [
    "# Use ModelCheckpoint to save model and weights\n",
    "save_dir = os.path.join(os.getcwd(), 'saved_models')\n",
    "model_name = 'C3D_model_new.h5'\n",
    "\n",
    "if not os.path.isdir(save_dir):\n",
    "    os.makedirs(save_dir)\n",
    "model_path = os.path.join(save_dir, model_name)\n",
    "checkpoint = ModelCheckpoint(model_path, monitor='val_loss', save_best_only=True, verbose=1)\n",
    "\n",
    "# earlystop\n",
    "earlystop = EarlyStopping(monitor='val_loss', patience=200, verbose=1)\n",
    "\n",
    "\n",
    "hist = model.fit(X_train_new, y_train_new, \n",
    "                 validation_data=(X_val_new,y_val_new),\n",
    "                 batch_size=batch_size,\n",
    "                 epochs = nb_epoch, \n",
    "                 shuffle=True, \n",
    "                 callbacks=[checkpoint, earlystop])"
   ]
  },
  {
   "cell_type": "code",
   "execution_count": 131,
   "metadata": {},
   "outputs": [
    {
     "name": "stdout",
     "output_type": "stream",
     "text": [
      "Loading trained model\n"
     ]
    }
   ],
   "source": [
    "# loading our save model\n",
    "print(\"Loading trained model\")\n",
    "model = load_model(model_path)"
   ]
  },
  {
   "cell_type": "code",
   "execution_count": 132,
   "metadata": {},
   "outputs": [
    {
     "name": "stdout",
     "output_type": "stream",
     "text": [
      "149/149 [==============================] - 1s 6ms/step\n",
      "Test score: 1.5897984240679133\n",
      "Test accuracy: 0.29530201382285\n"
     ]
    }
   ],
   "source": [
    "score = model.evaluate(X_val_new, y_val_new, batch_size=batch_size)\n",
    "print('Test score:', score[0])\n",
    "print('Test accuracy:', score[1]) "
   ]
  },
  {
   "cell_type": "code",
   "execution_count": 133,
   "metadata": {},
   "outputs": [
    {
     "name": "stdout",
     "output_type": "stream",
     "text": [
      "['seaborn-notebook', 'classic', 'seaborn-pastel', 'seaborn-white', 'seaborn-talk', 'bmh', 'seaborn', 'Solarize_Light2', 'seaborn-bright', 'seaborn-ticks', 'seaborn-paper', 'seaborn-muted', 'seaborn-darkgrid', 'fivethirtyeight', 'seaborn-dark-palette', 'seaborn-dark', 'grayscale', 'dark_background', 'seaborn-colorblind', 'seaborn-deep', '_classic_test', 'tableau-colorblind10', 'ggplot', 'seaborn-whitegrid', 'seaborn-poster', 'fast']\n",
      "['seaborn-notebook', 'classic', 'seaborn-pastel', 'seaborn-white', 'seaborn-talk', 'bmh', 'seaborn', 'Solarize_Light2', 'seaborn-bright', 'seaborn-ticks', 'seaborn-paper', 'seaborn-muted', 'seaborn-darkgrid', 'fivethirtyeight', 'seaborn-dark-palette', 'seaborn-dark', 'grayscale', 'dark_background', 'seaborn-colorblind', 'seaborn-deep', '_classic_test', 'tableau-colorblind10', 'ggplot', 'seaborn-whitegrid', 'seaborn-poster', 'fast']\n"
     ]
    },
    {
     "data": {
      "image/png": "[encoded data removed]",
      "text/plain": [
       "<Figure size 504x360 with 1 Axes>"
      ]
     },
     "metadata": {
      "needs_background": "light"
     },
     "output_type": "display_data"
    },
    {
     "data": {
      "image/png": "[encoded data removed]",
      "text/plain": [
       "<Figure size 560x400 with 1 Axes>"
      ]
     },
     "metadata": {},
     "output_type": "display_data"
    }
   ],
   "source": [
    "train_loss=hist.history['loss']\n",
    "val_loss=hist.history['val_loss']\n",
    "train_acc=hist.history['acc']\n",
    "val_acc=hist.history['val_acc']\n",
    "\n",
    "plt.figure(1,figsize=(7,5))\n",
    "plt.plot(train_loss, label=\"training_loss\")\n",
    "plt.plot(val_loss, label=\"validation_loss\")\n",
    "plt.xlabel('Epochs')\n",
    "plt.ylabel('Loss')\n",
    "plt.grid(True)\n",
    "plt.title(\"Learning Curve\")\n",
    "plt.legend(loc='best')\n",
    "print (plt.style.available) # use bmh, classic,ggplot for big pictures\n",
    "plt.style.use(['classic'])\n",
    "\n",
    "plt.figure(2,figsize=(7,5))\n",
    "plt.plot(train_acc, label=\"training_acc\")\n",
    "plt.plot(val_acc, label=\"validation_acc\")\n",
    "plt.xlabel('Epochs')\n",
    "plt.ylabel('Loss')\n",
    "plt.grid(True)\n",
    "plt.title(\"Learning Curve\")\n",
    "plt.legend(loc='best')\n",
    "print (plt.style.available) # use bmh, classic,ggplot for big pictures\n",
    "plt.style.use(['classic'])\n"
   ]
  },
  {
   "cell_type": "code",
   "execution_count": 140,
   "metadata": {},
   "outputs": [],
   "source": [
    "import itertools\n",
    "def confusion_matrix_plot(cm, classes,\n",
    "                          normalize=False,\n",
    "                          title='Confusion matrix',\n",
    "                          cmap=plt.cm.Blues):\n",
    "    \"\"\"\n",
    "    This function prints and plots the confusion matrix.\n",
    "    Normalization can be applied by setting `normalize=True`.\n",
    "    \"\"\"\n",
    "    if normalize:\n",
    "        cm = cm.astype('float') / cm.sum(axis=1)[:, np.newaxis]\n",
    "        print(\"Normalized confusion matrix\")\n",
    "    else:\n",
    "        print('Confusion matrix, without normalization')\n",
    "\n",
    "    print(cm)\n",
    "\n",
    "    plt.imshow(cm, interpolation='nearest', cmap=cmap)\n",
    "    plt.title(title)\n",
    "    plt.colorbar()\n",
    "    tick_marks = np.arange(len(classes))\n",
    "    plt.xticks(tick_marks, classes, rotation=45)\n",
    "    plt.yticks(tick_marks, classes)\n",
    "\n",
    "    fmt = '.2f' if normalize else 'd'\n",
    "    thresh = cm.max() / 2.\n",
    "    for i, j in itertools.product(range(cm.shape[0]), range(cm.shape[1])):\n",
    "        plt.text(j, i, format(cm[i, j], fmt),\n",
    "                 horizontalalignment=\"center\",\n",
    "                 color=\"white\" if cm[i, j] > thresh else \"black\")\n",
    "\n",
    "    plt.ylabel('True label')\n",
    "    plt.xlabel('Predicted label')\n",
    "    plt.tight_layout()"
   ]
  },
  {
   "cell_type": "code",
   "execution_count": 141,
   "metadata": {},
   "outputs": [],
   "source": [
    "from sklearn import svm, datasets\n",
    "from sklearn.metrics import confusion_matrix"
   ]
  },
  {
   "cell_type": "code",
   "execution_count": null,
   "metadata": {},
   "outputs": [],
   "source": []
  },
  {
   "cell_type": "code",
   "execution_count": 142,
   "metadata": {},
   "outputs": [],
   "source": [
    "preds = model.predict(X_val_new)"
   ]
  },
  {
   "cell_type": "code",
   "execution_count": 136,
   "metadata": {},
   "outputs": [
    {
     "name": "stdout",
     "output_type": "stream",
     "text": [
      "Epoch 1/1\n",
      "592/592 [==============================] - 8s 13ms/step - loss: 1.6119 - acc: 0.2652\n"
     ]
    }
   ],
   "source": [
    "model.fit(X_train_new, y_train_new)\n",
    "y_pred = model.predict(X_val_new)"
   ]
  },
  {
   "cell_type": "code",
   "execution_count": 137,
   "metadata": {},
   "outputs": [
    {
     "name": "stdout",
     "output_type": "stream",
     "text": [
      "[[ 0 22  0  0  0]\n",
      " [ 0 44  0  0  0]\n",
      " [ 0 22  0  0  0]\n",
      " [ 0 21  0  0  0]\n",
      " [ 0 40  0  0  0]]\n"
     ]
    }
   ],
   "source": [
    "a = np.argmax(y_val_new, axis=1)\n",
    "b = np.argmax(y_pred, axis=1)\n",
    "met = confusion_matrix(np.argmax(y_val_new,axis =1), np.argmax(model.predict(X_val_new),axis =1))\n",
    "print(met)"
   ]
  },
  {
   "cell_type": "code",
   "execution_count": 147,
   "metadata": {},
   "outputs": [
    {
     "name": "stdout",
     "output_type": "stream",
     "text": [
      "Normalized confusion matrix\n",
      "[[0. 1. 0. 0. 0.]\n",
      " [0. 1. 0. 0. 0.]\n",
      " [0. 1. 0. 0. 0.]\n",
      " [0. 1. 0. 0. 0.]\n",
      " [0. 1. 0. 0. 0.]]\n"
     ]
    },
    {
     "data": {
      "image/png": "[encoded data removed]",
      "text/plain": [
       "<Figure size 640x480 with 2 Axes>"
      ]
     },
     "metadata": {},
     "output_type": "display_data"
    }
   ],
   "source": [
    "confusion_matrix_plot(met, normalize=True, classes=['thumbup', 'stop', 'clockwise', 'counterclockwise', 'updown'])"
   ]
  },
  {
   "cell_type": "code",
   "execution_count": null,
   "metadata": {},
   "outputs": [],
   "source": []
  }
 ],
 "metadata": {
  "kernelspec": {
   "display_name": "Python 3",
   "language": "python",
   "name": "python3"
  },
  "language_info": {
   "codemirror_mode": {
    "name": "ipython",
    "version": 3
   },
   "file_extension": ".py",
   "mimetype": "text/x-python",
   "name": "python",
   "nbconvert_exporter": "python",
   "pygments_lexer": "ipython3",
   "version": "3.6.6"
  }
 },
 "nbformat": 4,
 "nbformat_minor": 2
}
