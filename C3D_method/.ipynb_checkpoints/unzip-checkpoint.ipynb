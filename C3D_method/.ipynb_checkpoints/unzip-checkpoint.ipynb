{
 "cells": [
  {
   "cell_type": "code",
   "execution_count": 5,
   "metadata": {},
   "outputs": [],
   "source": [
    "########unzip_file\n",
    "import zipfile\n",
    "zip_name = 'stop.zip'    #壓縮文件名\n",
    "\n",
    "file_dir = ''    #解壓後的文件放在該目錄下\n",
    "with zipfile.ZipFile(zip_name, 'r') as myzip:\n",
    "    for file in myzip.namelist():\n",
    "        myzip.extract(file,file_dir)"
   ]
  },
  {
   "cell_type": "code",
   "execution_count": 2,
   "metadata": {},
   "outputs": [],
   "source": [
    "#######delete_file\n",
    "import shutil\n",
    "shutil.rmtree('project')"
   ]
  },
  {
   "cell_type": "code",
   "execution_count": null,
   "metadata": {},
   "outputs": [],
   "source": []
  }
 ],
 "metadata": {
  "kernelspec": {
   "display_name": "Python 3",
   "language": "python",
   "name": "python3"
  },
  "language_info": {
   "codemirror_mode": {
    "name": "ipython",
    "version": 3
   },
   "file_extension": ".py",
   "mimetype": "text/x-python",
   "name": "python",
   "nbconvert_exporter": "python",
   "pygments_lexer": "ipython3",
   "version": "3.6.6"
  }
 },
 "nbformat": 4,
 "nbformat_minor": 2
}
