{
 "cells": [
  {
   "cell_type": "code",
   "execution_count": 1,
   "metadata": {},
   "outputs": [
    {
     "name": "stderr",
     "output_type": "stream",
     "text": [
      "/opt/conda/lib/python3.6/site-packages/h5py/__init__.py:36: FutureWarning: Conversion of the second argument of issubdtype from `float` to `np.floating` is deprecated. In future, it will be treated as `np.float64 == np.dtype(float).type`.\n",
      "  from ._conv import register_converters as _register_converters\n"
     ]
    }
   ],
   "source": [
    "import tensorflow as tf\n",
    "\n",
    "# The UCF-101 dataset has 101 classes\n",
    "NUM_CLASSES = 101\n",
    "\n",
    "# Images are cropped to (CROP_SIZE, CROP_SIZE)\n",
    "CROP_SIZE = 112\n",
    "CHANNELS = 3\n",
    "\n",
    "# Number of frames per video clip\n",
    "NUM_FRAMES_PER_CLIP = 16"
   ]
  },
  {
   "cell_type": "code",
   "execution_count": null,
   "metadata": {},
   "outputs": [],
   "source": [
    "def conv3d(name, l_input, w, b):\n",
    "    return tf.nn.bias_add(\n",
    "          tf.nn.conv3d(l_input, w, strides=[1, 1, 1, 1, 1], padding='SAME'),b)\n",
    "\n",
    "def max_pool(name, l_input, k):\n",
    "    return tf.nn.max_pool3d(l_input, ksize=[1, k, 2, 2, 1], strides=[1, k, 2, 2, 1], padding='SAME', name=name)\n",
    "\n",
    "def inference_c3d(_X, _dropout, batch_size, _weights, _biases):\n",
    "\n",
    "  # Convolution Layer\n",
    "    conv1 = conv3d('conv1', _X, _weights['wc1'], _biases['bc1'])\n",
    "    conv1 = tf.nn.relu(conv1, 'relu1')\n",
    "    pool1 = max_pool('pool1', conv1, k=1)\n",
    "\n",
    "  # Convolution Layer\n",
    "    conv2 = conv3d('conv2', pool1, _weights['wc2'], _biases['bc2'])\n",
    "    conv2 = tf.nn.relu(conv2, 'relu2')\n",
    "    pool2 = max_pool('pool2', conv2, k=2)\n",
    "\n",
    "  # Convolution Layer\n",
    "    conv3 = conv3d('conv3a', pool2, _weights['wc3a'], _biases['bc3a'])\n",
    "    conv3 = tf.nn.relu(conv3, 'relu3a')\n",
    "    conv3 = conv3d('conv3b', conv3, _weights['wc3b'], _biases['bc3b'])\n",
    "    conv3 = tf.nn.relu(conv3, 'relu3b')\n",
    "    pool3 = max_pool('pool3', conv3, k=2)\n",
    "\n",
    "  # Convolution Layer\n",
    "    conv4 = conv3d('conv4a', pool3, _weights['wc4a'], _biases['bc4a'])\n",
    "    conv4 = tf.nn.relu(conv4, 'relu4a')\n",
    "    conv4 = conv3d('conv4b', conv4, _weights['wc4b'], _biases['bc4b'])\n",
    "    conv4 = tf.nn.relu(conv4, 'relu4b')\n",
    "    pool4 = max_pool('pool4', conv4, k=2)\n",
    "\n",
    "  # Convolution Layer\n",
    "    conv5 = conv3d('conv5a', pool4, _weights['wc5a'], _biases['bc5a'])\n",
    "    conv5 = tf.nn.relu(conv5, 'relu5a')\n",
    "    conv5 = conv3d('conv5b', conv5, _weights['wc5b'], _biases['bc5b'])\n",
    "    conv5 = tf.nn.relu(conv5, 'relu5b')\n",
    "    pool5 = max_pool('pool5', conv5, k=2)\n",
    "\n",
    "  # Fully connected layer\n",
    "    pool5 = tf.transpose(pool5, perm=[0,1,4,2,3])\n",
    "    dense1 = tf.reshape(pool5, [batch_size, _weights['wd1'].get_shape().as_list()[0]]) # Reshape conv3 output to fit dense layer input\n",
    "    dense1 = tf.matmul(dense1, _weights['wd1']) + _biases['bd1']\n",
    "\n",
    "    dense1 = tf.nn.relu(dense1, name='fc1') # Relu activation\n",
    "    dense1 = tf.nn.dropout(dense1, _dropout)\n",
    "\n",
    "    dense2 = tf.nn.relu(tf.matmul(dense1, _weights['wd2']) + _biases['bd2'], name='fc2') # Relu activation\n",
    "    dense2 = tf.nn.dropout(dense2, _dropout)\n",
    "\n",
    "  # Output: class prediction\n",
    "    out = tf.matmul(dense2, _weights['out']) + _biases['out']\n",
    "\n",
    "    return out"
   ]
  }
 ],
 "metadata": {
  "kernelspec": {
   "display_name": "Python 3",
   "language": "python",
   "name": "python3"
  },
  "language_info": {
   "codemirror_mode": {
    "name": "ipython",
    "version": 3
   },
   "file_extension": ".py",
   "mimetype": "text/x-python",
   "name": "python",
   "nbconvert_exporter": "python",
   "pygments_lexer": "ipython3",
   "version": "3.6.6"
  }
 },
 "nbformat": 4,
 "nbformat_minor": 2
}
