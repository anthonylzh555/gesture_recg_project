{
 "cells": [
  {
   "cell_type": "code",
   "execution_count": 3,
   "metadata": {},
   "outputs": [],
   "source": [
    "import numpy as np\n",
    "import pandas as pd\n",
    "import matplotlib.pyplot as plt\n",
    "%matplotlib inline\n",
    "\n",
    "import cv2\n",
    "import os\n",
    "import math\n",
    "import warnings\n",
    "\n",
    "def ignore_warn(*args, **kwargs):\n",
    "    pass\n",
    "warnings.warn = ignore_warn   #ignore annoying warning (from sklearn and seaborn)"
   ]
  },
  {
   "cell_type": "code",
   "execution_count": 4,
   "metadata": {},
   "outputs": [],
   "source": [
    "#取得trainData\n",
    "data_path = '//home/jovyan/project/action_data/Hand/'\n",
    "trainSet = pd.DataFrame([])\n",
    "# images 的路徑\n",
    "path_list = os.listdir(data_path)\n",
    "path_list = sorted(path_list)\n",
    "for path in path_list:\n",
    "    fp = []\n",
    "    try:        \n",
    "        sub_dirs = os.listdir(data_path + path + '/')\n",
    "        sub_dirs = sorted(sub_dirs)\n",
    "        for sdir in sub_dirs:\n",
    "            fp.append(data_path + path + '/' + sdir + '/')\n",
    "    except NotADirectoryError:\n",
    "        pass\n",
    "    trainSet = pd.concat([trainSet, pd.DataFrame({'subdir_path':fp, 'class':path})], ignore_index=True)"
   ]
  },
  {
   "cell_type": "code",
   "execution_count": 5,
   "metadata": {},
   "outputs": [
    {
     "data": {
      "text/plain": [
       "\"\\n#定義目標類別\\nclass_file = '//home/jovyan/at073-group50/dataset/20bn_jester/classes.csv'\\nwith open(class_file) as f:\\n    classes = f.readlines()\\nclasses = [c.strip() for c in classes]\\nnum_classes = len(classes)\\n\\nfor i in range(num_classes):\\n    trainSet['class'][trainSet['class'] == classes[i]] = i\\n    testSet['class'][testSet['class'] == classes[i]] = i\\n\""
      ]
     },
     "execution_count": 5,
     "metadata": {},
     "output_type": "execute_result"
    }
   ],
   "source": [
    "'''\n",
    "#定義目標類別\n",
    "class_file = '//home/jovyan/at073-group50/dataset/20bn_jester/classes.csv'\n",
    "with open(class_file) as f:\n",
    "    classes = f.readlines()\n",
    "classes = [c.strip() for c in classes]\n",
    "num_classes = len(classes)\n",
    "\n",
    "for i in range(num_classes):\n",
    "    trainSet['class'][trainSet['class'] == classes[i]] = i\n",
    "    testSet['class'][testSet['class'] == classes[i]] = i\n",
    "'''"
   ]
  },
  {
   "cell_type": "code",
   "execution_count": 6,
   "metadata": {},
   "outputs": [
    {
     "name": "stdout",
     "output_type": "stream",
     "text": [
      "Train Shape: (741, 2)\n",
      "                                           subdir_path    class\n",
      "0    //home/jovyan/project/action_data/Hand/UpDown/...   UpDown\n",
      "1    //home/jovyan/project/action_data/Hand/UpDown/...   UpDown\n",
      "2    //home/jovyan/project/action_data/Hand/UpDown/...   UpDown\n",
      "3    //home/jovyan/project/action_data/Hand/UpDown/...   UpDown\n",
      "4    //home/jovyan/project/action_data/Hand/UpDown/...   UpDown\n",
      "5    //home/jovyan/project/action_data/Hand/UpDown/...   UpDown\n",
      "6    //home/jovyan/project/action_data/Hand/UpDown/...   UpDown\n",
      "7    //home/jovyan/project/action_data/Hand/UpDown/...   UpDown\n",
      "8    //home/jovyan/project/action_data/Hand/UpDown/...   UpDown\n",
      "9    //home/jovyan/project/action_data/Hand/UpDown/...   UpDown\n",
      "10   //home/jovyan/project/action_data/Hand/UpDown/...   UpDown\n",
      "11   //home/jovyan/project/action_data/Hand/UpDown/...   UpDown\n",
      "12   //home/jovyan/project/action_data/Hand/UpDown/...   UpDown\n",
      "13   //home/jovyan/project/action_data/Hand/UpDown/...   UpDown\n",
      "14   //home/jovyan/project/action_data/Hand/UpDown/...   UpDown\n",
      "15   //home/jovyan/project/action_data/Hand/UpDown/...   UpDown\n",
      "16   //home/jovyan/project/action_data/Hand/UpDown/...   UpDown\n",
      "17   //home/jovyan/project/action_data/Hand/UpDown/...   UpDown\n",
      "18   //home/jovyan/project/action_data/Hand/UpDown/...   UpDown\n",
      "19   //home/jovyan/project/action_data/Hand/UpDown/...   UpDown\n",
      "20   //home/jovyan/project/action_data/Hand/UpDown/...   UpDown\n",
      "21   //home/jovyan/project/action_data/Hand/UpDown/...   UpDown\n",
      "22   //home/jovyan/project/action_data/Hand/UpDown/...   UpDown\n",
      "23   //home/jovyan/project/action_data/Hand/UpDown/...   UpDown\n",
      "24   //home/jovyan/project/action_data/Hand/UpDown/...   UpDown\n",
      "25   //home/jovyan/project/action_data/Hand/UpDown/...   UpDown\n",
      "26   //home/jovyan/project/action_data/Hand/UpDown/...   UpDown\n",
      "27   //home/jovyan/project/action_data/Hand/UpDown/...   UpDown\n",
      "28   //home/jovyan/project/action_data/Hand/UpDown/...   UpDown\n",
      "29   //home/jovyan/project/action_data/Hand/UpDown/...   UpDown\n",
      "..                                                 ...      ...\n",
      "711  //home/jovyan/project/action_data/Hand/thumbup...  thumbup\n",
      "712  //home/jovyan/project/action_data/Hand/thumbup...  thumbup\n",
      "713  //home/jovyan/project/action_data/Hand/thumbup...  thumbup\n",
      "714  //home/jovyan/project/action_data/Hand/thumbup...  thumbup\n",
      "715  //home/jovyan/project/action_data/Hand/thumbup...  thumbup\n",
      "716  //home/jovyan/project/action_data/Hand/thumbup...  thumbup\n",
      "717  //home/jovyan/project/action_data/Hand/thumbup...  thumbup\n",
      "718  //home/jovyan/project/action_data/Hand/thumbup...  thumbup\n",
      "719  //home/jovyan/project/action_data/Hand/thumbup...  thumbup\n",
      "720  //home/jovyan/project/action_data/Hand/thumbup...  thumbup\n",
      "721  //home/jovyan/project/action_data/Hand/thumbup...  thumbup\n",
      "722  //home/jovyan/project/action_data/Hand/thumbup...  thumbup\n",
      "723  //home/jovyan/project/action_data/Hand/thumbup...  thumbup\n",
      "724  //home/jovyan/project/action_data/Hand/thumbup...  thumbup\n",
      "725  //home/jovyan/project/action_data/Hand/thumbup...  thumbup\n",
      "726  //home/jovyan/project/action_data/Hand/thumbup...  thumbup\n",
      "727  //home/jovyan/project/action_data/Hand/thumbup...  thumbup\n",
      "728  //home/jovyan/project/action_data/Hand/thumbup...  thumbup\n",
      "729  //home/jovyan/project/action_data/Hand/thumbup...  thumbup\n",
      "730  //home/jovyan/project/action_data/Hand/thumbup...  thumbup\n",
      "731  //home/jovyan/project/action_data/Hand/thumbup...  thumbup\n",
      "732  //home/jovyan/project/action_data/Hand/thumbup...  thumbup\n",
      "733  //home/jovyan/project/action_data/Hand/thumbup...  thumbup\n",
      "734  //home/jovyan/project/action_data/Hand/thumbup...  thumbup\n",
      "735  //home/jovyan/project/action_data/Hand/thumbup...  thumbup\n",
      "736  //home/jovyan/project/action_data/Hand/thumbup...  thumbup\n",
      "737  //home/jovyan/project/action_data/Hand/thumbup...  thumbup\n",
      "738  //home/jovyan/project/action_data/Hand/thumbup...  thumbup\n",
      "739  //home/jovyan/project/action_data/Hand/thumbup...  thumbup\n",
      "740  //home/jovyan/project/action_data/Hand/thumbup...  thumbup\n",
      "\n",
      "[741 rows x 2 columns]\n"
     ]
    }
   ],
   "source": [
    "print('Train Shape:', trainSet.shape)\n",
    "print(trainSet)"
   ]
  },
  {
   "cell_type": "code",
   "execution_count": 29,
   "metadata": {},
   "outputs": [
    {
     "name": "stdout",
     "output_type": "stream",
     "text": [
      "0      //home/jovyan/project/action_data/Hand/UpDown/...\n",
      "1      //home/jovyan/project/action_data/Hand/UpDown/...\n",
      "2      //home/jovyan/project/action_data/Hand/UpDown/...\n",
      "3      //home/jovyan/project/action_data/Hand/UpDown/...\n",
      "4      //home/jovyan/project/action_data/Hand/UpDown/...\n",
      "5      //home/jovyan/project/action_data/Hand/UpDown/...\n",
      "6      //home/jovyan/project/action_data/Hand/UpDown/...\n",
      "7      //home/jovyan/project/action_data/Hand/UpDown/...\n",
      "8      //home/jovyan/project/action_data/Hand/UpDown/...\n",
      "9      //home/jovyan/project/action_data/Hand/UpDown/...\n",
      "10     //home/jovyan/project/action_data/Hand/UpDown/...\n",
      "11     //home/jovyan/project/action_data/Hand/UpDown/...\n",
      "12     //home/jovyan/project/action_data/Hand/UpDown/...\n",
      "13     //home/jovyan/project/action_data/Hand/UpDown/...\n",
      "14     //home/jovyan/project/action_data/Hand/UpDown/...\n",
      "15     //home/jovyan/project/action_data/Hand/UpDown/...\n",
      "16     //home/jovyan/project/action_data/Hand/UpDown/...\n",
      "17     //home/jovyan/project/action_data/Hand/UpDown/...\n",
      "18     //home/jovyan/project/action_data/Hand/UpDown/...\n",
      "19     //home/jovyan/project/action_data/Hand/UpDown/...\n",
      "20     //home/jovyan/project/action_data/Hand/UpDown/...\n",
      "21     //home/jovyan/project/action_data/Hand/UpDown/...\n",
      "22     //home/jovyan/project/action_data/Hand/UpDown/...\n",
      "23     //home/jovyan/project/action_data/Hand/UpDown/...\n",
      "24     //home/jovyan/project/action_data/Hand/UpDown/...\n",
      "25     //home/jovyan/project/action_data/Hand/UpDown/...\n",
      "26     //home/jovyan/project/action_data/Hand/UpDown/...\n",
      "27     //home/jovyan/project/action_data/Hand/UpDown/...\n",
      "28     //home/jovyan/project/action_data/Hand/UpDown/...\n",
      "29     //home/jovyan/project/action_data/Hand/UpDown/...\n",
      "                             ...                        \n",
      "711    //home/jovyan/project/action_data/Hand/thumbup...\n",
      "712    //home/jovyan/project/action_data/Hand/thumbup...\n",
      "713    //home/jovyan/project/action_data/Hand/thumbup...\n",
      "714    //home/jovyan/project/action_data/Hand/thumbup...\n",
      "715    //home/jovyan/project/action_data/Hand/thumbup...\n",
      "716    //home/jovyan/project/action_data/Hand/thumbup...\n",
      "717    //home/jovyan/project/action_data/Hand/thumbup...\n",
      "718    //home/jovyan/project/action_data/Hand/thumbup...\n",
      "719    //home/jovyan/project/action_data/Hand/thumbup...\n",
      "720    //home/jovyan/project/action_data/Hand/thumbup...\n",
      "721    //home/jovyan/project/action_data/Hand/thumbup...\n",
      "722    //home/jovyan/project/action_data/Hand/thumbup...\n",
      "723    //home/jovyan/project/action_data/Hand/thumbup...\n",
      "724    //home/jovyan/project/action_data/Hand/thumbup...\n",
      "725    //home/jovyan/project/action_data/Hand/thumbup...\n",
      "726    //home/jovyan/project/action_data/Hand/thumbup...\n",
      "727    //home/jovyan/project/action_data/Hand/thumbup...\n",
      "728    //home/jovyan/project/action_data/Hand/thumbup...\n",
      "729    //home/jovyan/project/action_data/Hand/thumbup...\n",
      "730    //home/jovyan/project/action_data/Hand/thumbup...\n",
      "731    //home/jovyan/project/action_data/Hand/thumbup...\n",
      "732    //home/jovyan/project/action_data/Hand/thumbup...\n",
      "733    //home/jovyan/project/action_data/Hand/thumbup...\n",
      "734    //home/jovyan/project/action_data/Hand/thumbup...\n",
      "735    //home/jovyan/project/action_data/Hand/thumbup...\n",
      "736    //home/jovyan/project/action_data/Hand/thumbup...\n",
      "737    //home/jovyan/project/action_data/Hand/thumbup...\n",
      "738    //home/jovyan/project/action_data/Hand/thumbup...\n",
      "739    //home/jovyan/project/action_data/Hand/thumbup...\n",
      "740    //home/jovyan/project/action_data/Hand/thumbup...\n",
      "Name: subdir_path, Length: 741, dtype: object\n"
     ]
    }
   ],
   "source": [
    "img_rows,img_cols = 112,112\n",
    "img_depth = 16\n",
    "X_tr = []\n",
    "print(trainSet['subdir_path'])"
   ]
  },
  {
   "cell_type": "code",
   "execution_count": 30,
   "metadata": {},
   "outputs": [
    {
     "ename": "TypeError",
     "evalue": "listdir: path should be string, bytes, os.PathLike, integer or None, not Series",
     "output_type": "error",
     "traceback": [
      "\u001b[0;31m---------------------------------------------------------------------------\u001b[0m",
      "\u001b[0;31mTypeError\u001b[0m                                 Traceback (most recent call last)",
      "\u001b[0;32m<ipython-input-30-17d35a4e5786>\u001b[0m in \u001b[0;36m<module>\u001b[0;34m()\u001b[0m\n\u001b[1;32m      1\u001b[0m \u001b[0;32mfrom\u001b[0m \u001b[0mtqdm\u001b[0m \u001b[0;32mimport\u001b[0m \u001b[0mtqdm\u001b[0m\u001b[0;34m\u001b[0m\u001b[0m\n\u001b[0;32m----> 2\u001b[0;31m \u001b[0mtrain_folder_list\u001b[0m \u001b[0;34m=\u001b[0m \u001b[0msorted\u001b[0m\u001b[0;34m(\u001b[0m\u001b[0mos\u001b[0m\u001b[0;34m.\u001b[0m\u001b[0mlistdir\u001b[0m\u001b[0;34m(\u001b[0m\u001b[0mtrainSet\u001b[0m\u001b[0;34m[\u001b[0m\u001b[0;34m'subdir_path'\u001b[0m\u001b[0;34m]\u001b[0m\u001b[0;34m)\u001b[0m\u001b[0;34m)\u001b[0m\u001b[0;34m\u001b[0m\u001b[0m\n\u001b[0m\u001b[1;32m      3\u001b[0m \u001b[0;34m\u001b[0m\u001b[0m\n\u001b[1;32m      4\u001b[0m \u001b[0;32mfor\u001b[0m \u001b[0mdicname\u001b[0m \u001b[0;32min\u001b[0m \u001b[0mtqdm\u001b[0m\u001b[0;34m(\u001b[0m\u001b[0mfile_list\u001b[0m\u001b[0;34m)\u001b[0m\u001b[0;34m:\u001b[0m\u001b[0;34m\u001b[0m\u001b[0m\n\u001b[1;32m      5\u001b[0m     \u001b[0mlist_path\u001b[0m \u001b[0;34m=\u001b[0m \u001b[0mos\u001b[0m\u001b[0;34m.\u001b[0m\u001b[0mpath\u001b[0m\u001b[0;34m.\u001b[0m\u001b[0mjoin\u001b[0m\u001b[0;34m(\u001b[0m\u001b[0mtrainSet\u001b[0m\u001b[0;34m[\u001b[0m\u001b[0;34m'subdir_path'\u001b[0m\u001b[0;34m]\u001b[0m\u001b[0;34m[\u001b[0m\u001b[0;36m0\u001b[0m\u001b[0;34m]\u001b[0m\u001b[0;34m,\u001b[0m \u001b[0mdicname\u001b[0m\u001b[0;34m)\u001b[0m\u001b[0;34m\u001b[0m\u001b[0m\n",
      "\u001b[0;31mTypeError\u001b[0m: listdir: path should be string, bytes, os.PathLike, integer or None, not Series"
     ]
    }
   ],
   "source": [
    "from tqdm import tqdm\n",
    "train_folder_list = sorted(os.listdir(trainSet['subdir_path']))\n",
    "\n",
    "for dicname in tqdm(file_list):\n",
    "    list_path = os.path.join(trainSet['subdir_path'][0], dicname)\n",
    "    frames = []\n",
    "    i=0\n",
    "    for img in sorted(os.listdir(list_path)):\n",
    "        if i < img_depth:\n",
    "            img_path = os.path.join(list_path, img)\n",
    "            frame = cv2.imread(os.path.join(list_path, img))\n",
    "            frame = cv2.resize(frame,(img_rows,img_cols))\n",
    "            gray = cv2.cvtColor(frame, cv2.COLOR_BGR2GRAY)\n",
    "            frames.append(gray)\n",
    "            i = i+1\n",
    "        else:\n",
    "            break\n",
    "\n",
    "    input=np.array(frames)\n",
    "    #print (input.shape)\n",
    "    ipt = np.rollaxis(np.rollaxis(input,2,0),2,0)\n",
    "    #ipt=np.rollaxis(ipt,3,0)\n",
    "    #print (ipt.shape)\n",
    "    #print(\"__\")\n",
    "    X_tr.append(ipt)\n",
    "    \n",
    "print (ipt.shape)\n",
    "num_samples = len(X_tr)\n",
    "print(num_samples)"
   ]
  },
  {
   "cell_type": "code",
   "execution_count": 25,
   "metadata": {},
   "outputs": [
    {
     "name": "stdout",
     "output_type": "stream",
     "text": [
      "['1.jpg', '10.jpg', '11.jpg', '12.jpg', '13.jpg', '14.jpg', '15.jpg', '16.jpg', '17.jpg', '18.jpg', '19.jpg', '2.jpg', '20.jpg', '3.jpg', '4.jpg', '5.jpg', '6.jpg', '7.jpg', '8.jpg', '9.jpg']\n",
      "//home/jovyan/project/action_data/Hand/UpDown/Aerial-L-L-UpDown/1.jpg\n",
      "//home/jovyan/project/action_data/Hand/UpDown/Aerial-L-L-UpDown/10.jpg\n",
      "//home/jovyan/project/action_data/Hand/UpDown/Aerial-L-L-UpDown/11.jpg\n",
      "//home/jovyan/project/action_data/Hand/UpDown/Aerial-L-L-UpDown/12.jpg\n",
      "//home/jovyan/project/action_data/Hand/UpDown/Aerial-L-L-UpDown/13.jpg\n",
      "//home/jovyan/project/action_data/Hand/UpDown/Aerial-L-L-UpDown/14.jpg\n",
      "//home/jovyan/project/action_data/Hand/UpDown/Aerial-L-L-UpDown/15.jpg\n",
      "//home/jovyan/project/action_data/Hand/UpDown/Aerial-L-L-UpDown/16.jpg\n",
      "//home/jovyan/project/action_data/Hand/UpDown/Aerial-L-L-UpDown/17.jpg\n",
      "//home/jovyan/project/action_data/Hand/UpDown/Aerial-L-L-UpDown/18.jpg\n",
      "//home/jovyan/project/action_data/Hand/UpDown/Aerial-L-L-UpDown/19.jpg\n",
      "//home/jovyan/project/action_data/Hand/UpDown/Aerial-L-L-UpDown/2.jpg\n",
      "//home/jovyan/project/action_data/Hand/UpDown/Aerial-L-L-UpDown/20.jpg\n",
      "//home/jovyan/project/action_data/Hand/UpDown/Aerial-L-L-UpDown/3.jpg\n",
      "//home/jovyan/project/action_data/Hand/UpDown/Aerial-L-L-UpDown/4.jpg\n",
      "//home/jovyan/project/action_data/Hand/UpDown/Aerial-L-L-UpDown/5.jpg\n",
      "//home/jovyan/project/action_data/Hand/UpDown/Aerial-L-L-UpDown/6.jpg\n",
      "(3, 112, 112)\n",
      "112\n"
     ]
    }
   ],
   "source": [
    "file_list = sorted(os.listdir(trainSet['subdir_path'][0]))\n",
    "i = 0\n",
    "for f in file_list:\n",
    "    if (f.find('.jpg') < 0):\n",
    "        continue\n",
    "    print(trainSet['subdir_path'][0] + f)\n",
    "    img = cv2.imread(trainSet['subdir_path'][0] + f)\n",
    "    img = cv2.cvtColor(img, cv2.COLOR_BGR2RGB)\n",
    "    img = cv2.resize(img,(img_rows,img_cols))\n",
    "    #print(img.shape)\n",
    "    #plt.imshow(img)\n",
    "    plt.show()\n",
    "    i += 1\n",
    "    if i > 16: break\n",
    "        \n",
    "    input=np.array(img)\n",
    "    #print (input.shape)\n",
    "    ipt = np.rollaxis(input,2,0)\n",
    "    #ipt = np.rollaxis(np.rollaxis(input,2,0),2,0)\n",
    "    #ipt=np.rollaxis(ipt,3,0)\n",
    "    #print (ipt.shape)\n",
    "    #print(\"__\")\n",
    "    X_tr.append(ipt)\n",
    "    \n",
    "print (ipt.shape)\n",
    "num_samples = len(X_tr)\n",
    "print(num_samples)"
   ]
  },
  {
   "cell_type": "code",
   "execution_count": null,
   "metadata": {},
   "outputs": [],
   "source": []
  },
  {
   "cell_type": "code",
   "execution_count": null,
   "metadata": {},
   "outputs": [],
   "source": []
  }
 ],
 "metadata": {
  "kernelspec": {
   "display_name": "Python 3",
   "language": "python",
   "name": "python3"
  },
  "language_info": {
   "codemirror_mode": {
    "name": "ipython",
    "version": 3
   },
   "file_extension": ".py",
   "mimetype": "text/x-python",
   "name": "python",
   "nbconvert_exporter": "python",
   "pygments_lexer": "ipython3",
   "version": "3.6.6"
  }
 },
 "nbformat": 4,
 "nbformat_minor": 2
}
