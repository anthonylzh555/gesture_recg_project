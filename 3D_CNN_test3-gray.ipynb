{
 "cells": [
  {
   "cell_type": "code",
   "execution_count": 2,
   "metadata": {},
   "outputs": [
    {
     "name": "stderr",
     "output_type": "stream",
     "text": [
      "/opt/conda/lib/python3.6/site-packages/sklearn/cross_validation.py:41: DeprecationWarning: This module was deprecated in version 0.18 in favor of the model_selection module into which all the refactored classes and functions are moved. Also note that the interface of the new CV iterators are different from that of this module. This module will be removed in 0.20.\n",
      "  \"This module will be removed in 0.20.\", DeprecationWarning)\n"
     ]
    }
   ],
   "source": [
    "from keras.preprocessing.image import ImageDataGenerator\n",
    "from keras.models import Sequential, load_model\n",
    "from keras.layers.core import Dense, Dropout, Activation, Flatten\n",
    "from keras.layers.convolutional import Convolution3D, MaxPooling3D\n",
    "\n",
    "from keras.optimizers import SGD, RMSprop\n",
    "from keras.utils import np_utils, generic_utils\n",
    "from keras.callbacks import EarlyStopping, ModelCheckpoint\n",
    "\n",
    "#import theano\n",
    "import os\n",
    "import matplotlib\n",
    "import matplotlib.pyplot as plt\n",
    "import pandas as pd\n",
    "import numpy as np\n",
    "import cv2\n",
    "from sklearn.cross_validation import train_test_split\n",
    "from sklearn import cross_validation\n",
    "from sklearn import preprocessing"
   ]
  },
  {
   "cell_type": "code",
   "execution_count": 3,
   "metadata": {},
   "outputs": [],
   "source": [
    "# image specification\n",
    "img_rows,img_cols = 112,112\n",
    "img_depth = 16\n",
    "X_tr = []"
   ]
  },
  {
   "cell_type": "markdown",
   "metadata": {},
   "source": [
    "## import thumbup"
   ]
  },
  {
   "cell_type": "code",
   "execution_count": 4,
   "metadata": {},
   "outputs": [
    {
     "name": "stderr",
     "output_type": "stream",
     "text": [
      "100%|██████████| 116/116 [01:26<00:00,  1.62it/s]"
     ]
    },
    {
     "name": "stdout",
     "output_type": "stream",
     "text": [
      "(112, 112, 16)\n",
      "116\n"
     ]
    },
    {
     "name": "stderr",
     "output_type": "stream",
     "text": [
      "\n"
     ]
    }
   ],
   "source": [
    "from tqdm import tqdm\n",
    "train_folder_path = os.path.join(os.getcwd(), \"action_data/Hand/thumbup\")\n",
    "train_folder_list = sorted(os.listdir(train_folder_path))\n",
    "\n",
    "for dicname in tqdm(train_folder_list):\n",
    "    list_path = os.path.join(train_folder_path, dicname)\n",
    "    frames = []\n",
    "    i=0\n",
    "    for img in sorted(os.listdir(list_path)):\n",
    "        if i < img_depth:\n",
    "            img_path = os.path.join(list_path, img)\n",
    "            frame = cv2.imread(os.path.join(list_path, img))\n",
    "            frame = cv2.resize(frame,(img_rows,img_cols))\n",
    "            #gray = cv2.cvtColor(frame, cv2.COLOR_BGR2RGB)\n",
    "            gray = cv2.cvtColor(frame, cv2.COLOR_BGR2GRAY)\n",
    "            frames.append(gray)\n",
    "            i = i+1\n",
    "        else:\n",
    "            break\n",
    "\n",
    "    input=np.array(frames)\n",
    "    #print (input.shape)\n",
    "    ipt = np.rollaxis(np.rollaxis(input,2,0),2,0)\n",
    "    #ipt=np.rollaxis(ipt,3,0)\n",
    "    #print (ipt.shape)\n",
    "    #print(\"__\")\n",
    "    X_tr.append(ipt)\n",
    "    \n",
    "print (ipt.shape)\n",
    "num_samples = len(X_tr)\n",
    "print(num_samples)"
   ]
  },
  {
   "cell_type": "markdown",
   "metadata": {},
   "source": [
    "## import stop"
   ]
  },
  {
   "cell_type": "code",
   "execution_count": 5,
   "metadata": {},
   "outputs": [
    {
     "name": "stderr",
     "output_type": "stream",
     "text": [
      "100%|██████████| 198/198 [02:12<00:00,  4.14it/s]"
     ]
    },
    {
     "name": "stdout",
     "output_type": "stream",
     "text": [
      "(112, 112, 16)\n",
      "314\n"
     ]
    },
    {
     "name": "stderr",
     "output_type": "stream",
     "text": [
      "\n"
     ]
    }
   ],
   "source": [
    "train_folder_path = os.path.join(os.getcwd(), \"action_data/Hand/stop\")\n",
    "train_folder_list = sorted(os.listdir(train_folder_path))\n",
    "\n",
    "for dicname in tqdm(train_folder_list):\n",
    "    list_path = os.path.join(train_folder_path, dicname)\n",
    "    frames = []\n",
    "    i=0\n",
    "    for img in sorted(os.listdir(list_path)):\n",
    "        if i < img_depth:\n",
    "            img_path = os.path.join(list_path, img)\n",
    "            frame = cv2.imread(os.path.join(list_path, img))\n",
    "            frame = cv2.resize(frame,(img_rows,img_cols))\n",
    "            #gray = cv2.cvtColor(frame, cv2.COLOR_BGR2RGB)\n",
    "            gray = cv2.cvtColor(frame, cv2.COLOR_BGR2GRAY)\n",
    "            frames.append(gray)\n",
    "            i = i+1\n",
    "        else:\n",
    "            break\n",
    "\n",
    "    input=np.array(frames)\n",
    "    #print (input.shape)\n",
    "    ipt = np.rollaxis(np.rollaxis(input,2,0),2,0)\n",
    "    #ipt=np.rollaxis(ipt,3,0)\n",
    "    #print (ipt.shape)\n",
    "    #print(\"__\")\n",
    "    X_tr.append(ipt)\n",
    "    \n",
    "print (ipt.shape)\n",
    "num_samples = len(X_tr)\n",
    "print(num_samples)"
   ]
  },
  {
   "cell_type": "markdown",
   "metadata": {},
   "source": [
    "## import clockwise"
   ]
  },
  {
   "cell_type": "code",
   "execution_count": 6,
   "metadata": {},
   "outputs": [
    {
     "name": "stderr",
     "output_type": "stream",
     "text": [
      "100%|██████████| 116/116 [01:19<00:00,  1.11it/s]"
     ]
    },
    {
     "name": "stdout",
     "output_type": "stream",
     "text": [
      "(112, 112, 16)\n",
      "430\n"
     ]
    },
    {
     "name": "stderr",
     "output_type": "stream",
     "text": [
      "\n"
     ]
    }
   ],
   "source": [
    "train_folder_path = os.path.join(os.getcwd(), \"action_data/Hand/clockwise\")\n",
    "train_folder_list = sorted(os.listdir(train_folder_path))\n",
    "\n",
    "for dicname in tqdm(train_folder_list):\n",
    "    list_path = os.path.join(train_folder_path, dicname)\n",
    "    frames = []\n",
    "    i=0\n",
    "    for img in sorted(os.listdir(list_path)):\n",
    "        if i < img_depth:\n",
    "            img_path = os.path.join(list_path, img)\n",
    "            frame = cv2.imread(os.path.join(list_path, img))\n",
    "            frame = cv2.resize(frame,(img_rows,img_cols))\n",
    "            #gray = cv2.cvtColor(frame, cv2.COLOR_BGR2RGB)\n",
    "            gray = cv2.cvtColor(frame, cv2.COLOR_BGR2GRAY)\n",
    "            frames.append(gray)\n",
    "            i = i+1\n",
    "        else:\n",
    "            break\n",
    "\n",
    "    input=np.array(frames)\n",
    "    #print (input.shape)\n",
    "    ipt = np.rollaxis(np.rollaxis(input,2,0),2,0)\n",
    "    #ipt=np.rollaxis(ipt,3,0)\n",
    "    #print (ipt.shape)\n",
    "    #print(\"__\")\n",
    "    X_tr.append(ipt)\n",
    "    \n",
    "print (ipt.shape)\n",
    "num_samples = len(X_tr)\n",
    "print(num_samples)"
   ]
  },
  {
   "cell_type": "markdown",
   "metadata": {},
   "source": [
    "## import counterclockwise"
   ]
  },
  {
   "cell_type": "code",
   "execution_count": 7,
   "metadata": {},
   "outputs": [
    {
     "name": "stderr",
     "output_type": "stream",
     "text": [
      "100%|██████████| 124/124 [01:20<00:00,  1.01it/s]"
     ]
    },
    {
     "name": "stdout",
     "output_type": "stream",
     "text": [
      "(112, 112, 16)\n",
      "554\n"
     ]
    },
    {
     "name": "stderr",
     "output_type": "stream",
     "text": [
      "\n"
     ]
    }
   ],
   "source": [
    "train_folder_path = os.path.join(os.getcwd(), \"action_data/Hand/counterclockwise\")\n",
    "train_folder_list = sorted(os.listdir(train_folder_path))\n",
    "\n",
    "for dicname in tqdm(train_folder_list):\n",
    "    list_path = os.path.join(train_folder_path, dicname)\n",
    "    frames = []\n",
    "    i=0\n",
    "    for img in sorted(os.listdir(list_path)):\n",
    "        if i < img_depth:\n",
    "            img_path = os.path.join(list_path, img)\n",
    "            frame = cv2.imread(os.path.join(list_path, img))\n",
    "            frame = cv2.resize(frame,(img_rows,img_cols))\n",
    "            #gray = cv2.cvtColor(frame, cv2.COLOR_BGR2RGB)\n",
    "            gray = cv2.cvtColor(frame, cv2.COLOR_BGR2GRAY)\n",
    "            frames.append(gray)\n",
    "            i = i+1\n",
    "        else:\n",
    "            break\n",
    "\n",
    "    input=np.array(frames)\n",
    "    #print (input.shape)\n",
    "    ipt = np.rollaxis(np.rollaxis(input,2,0),2,0)\n",
    "    #ipt=np.rollaxis(ipt,3,0)\n",
    "    #print (ipt.shape)\n",
    "    #print(\"__\")\n",
    "    X_tr.append(ipt)\n",
    "    \n",
    "print (ipt.shape)\n",
    "num_samples = len(X_tr)\n",
    "print(num_samples)"
   ]
  },
  {
   "cell_type": "markdown",
   "metadata": {},
   "source": [
    "## import updown"
   ]
  },
  {
   "cell_type": "code",
   "execution_count": 8,
   "metadata": {},
   "outputs": [
    {
     "name": "stderr",
     "output_type": "stream",
     "text": [
      "100%|██████████| 187/187 [01:37<00:00,  2.27it/s]"
     ]
    },
    {
     "name": "stdout",
     "output_type": "stream",
     "text": [
      "(112, 112, 16)\n",
      "741\n"
     ]
    },
    {
     "name": "stderr",
     "output_type": "stream",
     "text": [
      "\n"
     ]
    }
   ],
   "source": [
    "train_folder_path = os.path.join(os.getcwd(), \"action_data/Hand/UpDown\")\n",
    "train_folder_list = sorted(os.listdir(train_folder_path))\n",
    "\n",
    "for dicname in tqdm(train_folder_list):\n",
    "    list_path = os.path.join(train_folder_path, dicname)\n",
    "    frames = []\n",
    "    i=0\n",
    "    for img in sorted(os.listdir(list_path)):\n",
    "        if i < img_depth:\n",
    "            img_path = os.path.join(list_path, img)\n",
    "            frame = cv2.imread(os.path.join(list_path, img))\n",
    "            frame = cv2.resize(frame,(img_rows,img_cols))\n",
    "            #gray = cv2.cvtColor(frame, cv2.COLOR_BGR2RGB)\n",
    "            gray = cv2.cvtColor(frame, cv2.COLOR_BGR2GRAY)\n",
    "            frames.append(gray)\n",
    "            i = i+1\n",
    "        else:\n",
    "            break\n",
    "\n",
    "    input=np.array(frames)\n",
    "    #print (input.shape)\n",
    "    ipt = np.rollaxis(np.rollaxis(input,2,0),2,0)\n",
    "    #ipt=np.rollaxis(ipt,3,0)\n",
    "    #print (ipt.shape)\n",
    "    #print(\"__\")\n",
    "    X_tr.append(ipt)\n",
    "    \n",
    "print (ipt.shape)\n",
    "num_samples = len(X_tr)\n",
    "print(num_samples)"
   ]
  },
  {
   "cell_type": "code",
   "execution_count": 9,
   "metadata": {},
   "outputs": [
    {
     "name": "stdout",
     "output_type": "stream",
     "text": [
      "741\n"
     ]
    }
   ],
   "source": [
    "X_tr_array = np.array(X_tr)   # convert the frames read into array\n",
    "\n",
    "num_samples = len(X_tr_array) \n",
    "print (num_samples)"
   ]
  },
  {
   "cell_type": "markdown",
   "metadata": {},
   "source": [
    "## label DATA"
   ]
  },
  {
   "cell_type": "code",
   "execution_count": 10,
   "metadata": {},
   "outputs": [
    {
     "name": "stdout",
     "output_type": "stream",
     "text": [
      "X_Train shape: (741, 112, 112, 16)\n"
     ]
    }
   ],
   "source": [
    "label=np.ones((num_samples,),dtype = int)\n",
    "label[0:116]= 0                   #thumbup\n",
    "label[117:314] = 1                #stop\n",
    "label[315:430] = 2                #clockwise\n",
    "label[431:554] = 3                #counterclockwise\n",
    "label[555:741]= 4                 #updown\n",
    "\n",
    "train_data = [X_tr_array,label]\n",
    "\n",
    "(X_train, y_train) = (train_data[0],train_data[1])\n",
    "print('X_Train shape:', X_train.shape)"
   ]
  },
  {
   "cell_type": "code",
   "execution_count": 11,
   "metadata": {},
   "outputs": [],
   "source": [
    "train_set = np.zeros((num_samples, 1, img_rows,img_cols,img_depth))\n",
    "#train_set = X_train\n",
    "for h in range(num_samples):\n",
    "    train_set[h][0][:][:][:][:]=X_train[h,:,:,:]"
   ]
  },
  {
   "cell_type": "code",
   "execution_count": 12,
   "metadata": {},
   "outputs": [
    {
     "name": "stdout",
     "output_type": "stream",
     "text": [
      "(741, 112, 112, 16) X_train shapes\n",
      "(741, 1, 112, 112, 16) train samples\n"
     ]
    }
   ],
   "source": [
    "#patch_size = 16    # img_depth or number of frames used for each video\n",
    "\n",
    "print(X_train.shape,\"X_train shapes\")\n",
    "print(train_set.shape, 'train samples')"
   ]
  },
  {
   "cell_type": "markdown",
   "metadata": {},
   "source": [
    "## CNN Training parameters"
   ]
  },
  {
   "cell_type": "code",
   "execution_count": 13,
   "metadata": {},
   "outputs": [
    {
     "data": {
      "text/plain": [
       "\"\\n# Pre-processing\\ntrain_set = train_set.astype('float32')\\ntrain_set -= np.mean(train_set)\\ntrain_set /= np.max(train_set)\\n\""
      ]
     },
     "execution_count": 13,
     "metadata": {},
     "output_type": "execute_result"
    }
   ],
   "source": [
    "nb_classes = 5\n",
    "\n",
    "# convert class vectors to binary class matrices\n",
    "Y_train = np_utils.to_categorical(y_train, nb_classes)\n",
    "\n",
    "'''\n",
    "# Pre-processing\n",
    "train_set = train_set.astype('float32')\n",
    "train_set -= np.mean(train_set)\n",
    "train_set /= np.max(train_set)\n",
    "'''"
   ]
  },
  {
   "cell_type": "markdown",
   "metadata": {},
   "source": [
    "# Define Model"
   ]
  },
  {
   "cell_type": "markdown",
   "metadata": {},
   "source": [
    "## Model_1"
   ]
  },
  {
   "cell_type": "code",
   "execution_count": 41,
   "metadata": {},
   "outputs": [
    {
     "name": "stdout",
     "output_type": "stream",
     "text": [
      "_________________________________________________________________\n",
      "Layer (type)                 Output Shape              Param #   \n",
      "=================================================================\n",
      "conv1 (Conv3D)               (None, 64, 112, 112, 16)  1792      \n",
      "_________________________________________________________________\n",
      "pool1 (MaxPooling3D)         (None, 64, 56, 56, 16)    0         \n",
      "_________________________________________________________________\n",
      "conv2 (Conv3D)               (None, 128, 56, 56, 16)   221312    \n",
      "_________________________________________________________________\n",
      "pool2 (MaxPooling3D)         (None, 128, 28, 28, 8)    0         \n",
      "_________________________________________________________________\n",
      "conv3 (Conv3D)               (None, 128, 28, 28, 8)    442496    \n",
      "_________________________________________________________________\n",
      "pool3 (MaxPooling3D)         (None, 128, 14, 14, 4)    0         \n",
      "_________________________________________________________________\n",
      "conv4 (Conv3D)               (None, 256, 14, 14, 4)    884992    \n",
      "_________________________________________________________________\n",
      "pool4 (MaxPooling3D)         (None, 256, 7, 7, 2)      0         \n",
      "_________________________________________________________________\n",
      "conv5 (Conv3D)               (None, 256, 7, 7, 2)      1769728   \n",
      "_________________________________________________________________\n",
      "pool5 (MaxPooling3D)         (None, 256, 4, 4, 1)      0         \n",
      "_________________________________________________________________\n",
      "flatten_4 (Flatten)          (None, 4096)              0         \n",
      "_________________________________________________________________\n",
      "dense_10 (Dense)             (None, 2048)              8390656   \n",
      "_________________________________________________________________\n",
      "dropout_7 (Dropout)          (None, 2048)              0         \n",
      "_________________________________________________________________\n",
      "dense_11 (Dense)             (None, 2048)              4196352   \n",
      "_________________________________________________________________\n",
      "dropout_8 (Dropout)          (None, 2048)              0         \n",
      "_________________________________________________________________\n",
      "dense_12 (Dense)             (None, 5)                 10245     \n",
      "=================================================================\n",
      "Total params: 15,917,573\n",
      "Trainable params: 15,917,573\n",
      "Non-trainable params: 0\n",
      "_________________________________________________________________\n",
      "None\n"
     ]
    }
   ],
   "source": [
    "from keras.layers import Dense,Dropout,Conv3D,Input,MaxPool3D,Flatten,Activation\n",
    "from keras.regularizers import l2\n",
    "from keras.models import Model\n",
    "from keras.optimizers import Adam, rmsprop\n",
    "import keras\n",
    "\n",
    "input_shape = (1,112,112,16) ##channel first ##channel,spatial_dim1, spatial_dim2, spatial_dim3,\n",
    "weight_decay = 0.005\n",
    "nb_classes = 5\n",
    "\n",
    "model = Sequential()\n",
    "\n",
    "model.add(Conv3D(64,(3,3,3),strides=(1,1,1), input_shape= input_shape, name='conv1', padding='same',data_format=\"channels_first\", activation='relu'))\n",
    "model.add(MaxPool3D((2,2,1),strides=(2,2,1), name='pool1',padding='same',data_format=\"channels_first\"))\n",
    "\n",
    "model.add(Conv3D(128,(3,3,3),strides=(1,1,1), name='conv2',padding='same'\n",
    "                 ,data_format=\"channels_first\",activation='relu'))\n",
    "model.add(MaxPool3D((2,2,2),strides=(2,2,2), name='pool2',padding='same',data_format=\"channels_first\"))\n",
    "\n",
    "model.add(Conv3D(128,(3,3,3),strides=(1,1,1), name='conv3',padding='same'\n",
    "                 ,data_format=\"channels_first\",activation='relu'))\n",
    "model.add(MaxPool3D((2,2,2),strides=(2,2,2), name='pool3',padding='same',data_format=\"channels_first\"))\n",
    "\n",
    "model.add(Conv3D(256,(3,3,3),strides=(1,1,1), name='conv4',padding='same'\n",
    "                 ,data_format=\"channels_first\",activation='relu'))\n",
    "model.add(MaxPool3D((2,2,2),strides=(2,2,2), name='pool4',padding='same',data_format=\"channels_first\"))\n",
    "\n",
    "model.add(Conv3D(256,(3,3,3),strides=(1,1,1), name='conv5',padding='same'\n",
    "                 ,data_format=\"channels_first\",activation='relu'))\n",
    "model.add(MaxPool3D((2,2,2),strides=(2,2,2), name='pool5',padding='same',data_format=\"channels_first\"))\n",
    "\n",
    "\n",
    "#fully connected layer\n",
    "model.add(Flatten())\n",
    "model.add(Dense(2048,activation='relu'))\n",
    "model.add(Dropout(0.5))\n",
    "model.add(Dense(2048,activation='relu',kernel_initializer='normal'))\n",
    "model.add(Dropout(0.5))\n",
    "model.add(Dense(nb_classes,activation='softmax',kernel_regularizer=l2(weight_decay)))\n",
    "\n",
    "print(model.summary())\n",
    "opt = keras.optimizers.Adam(lr=0.001)\n",
    "#opt = keras.optimizers.rmsprop(lr=0.0001, decay=1e-6)\n",
    "model.compile(loss='categorical_crossentropy', optimizer=opt ,metrics=['accuracy'])"
   ]
  },
  {
   "cell_type": "markdown",
   "metadata": {},
   "source": [
    "## split data"
   ]
  },
  {
   "cell_type": "code",
   "execution_count": 42,
   "metadata": {},
   "outputs": [],
   "source": [
    "X_train_new, X_val_new, y_train_new,y_val_new =  train_test_split(train_set, Y_train, test_size=0.2, random_state=4)"
   ]
  },
  {
   "cell_type": "code",
   "execution_count": 43,
   "metadata": {},
   "outputs": [],
   "source": [
    "X_train_new = X_train_new.astype('float32')\n",
    "X_train_new -= np.mean(X_train_new)\n",
    "X_train_new /= np.max(X_train_new)\n",
    "\n",
    "X_val_new = X_val_new.astype('float32')\n",
    "X_val_new -= np.mean(X_val_new)\n",
    "X_val_new /= np.max(X_val_new)"
   ]
  },
  {
   "cell_type": "code",
   "execution_count": 44,
   "metadata": {},
   "outputs": [
    {
     "name": "stdout",
     "output_type": "stream",
     "text": [
      "Train on 592 samples, validate on 149 samples\n",
      "Epoch 1/100\n",
      "592/592 [==============================] - 12s 20ms/step - loss: 1.6630 - acc: 0.2635 - val_loss: 1.5896 - val_acc: 0.2953\n",
      "\n",
      "Epoch 00001: val_loss improved from inf to 1.58959, saving model to /home/jovyan/project/saved_models/C3D_model_test3_gray.h5\n",
      "Epoch 2/100\n",
      "592/592 [==============================] - 11s 18ms/step - loss: 1.4939 - acc: 0.2770 - val_loss: 1.3115 - val_acc: 0.4161\n",
      "\n",
      "Epoch 00002: val_loss improved from 1.58959 to 1.31149, saving model to /home/jovyan/project/saved_models/C3D_model_test3_gray.h5\n",
      "Epoch 3/100\n",
      "592/592 [==============================] - 11s 18ms/step - loss: 1.1555 - acc: 0.4578 - val_loss: 0.9649 - val_acc: 0.5034\n",
      "\n",
      "Epoch 00003: val_loss improved from 1.31149 to 0.96494, saving model to /home/jovyan/project/saved_models/C3D_model_test3_gray.h5\n",
      "Epoch 4/100\n",
      "592/592 [==============================] - 11s 18ms/step - loss: 0.9701 - acc: 0.5743 - val_loss: 0.9010 - val_acc: 0.5302\n",
      "\n",
      "Epoch 00004: val_loss improved from 0.96494 to 0.90100, saving model to /home/jovyan/project/saved_models/C3D_model_test3_gray.h5\n",
      "Epoch 5/100\n",
      "592/592 [==============================] - 11s 18ms/step - loss: 0.8262 - acc: 0.6098 - val_loss: 0.8390 - val_acc: 0.5772\n",
      "\n",
      "Epoch 00005: val_loss improved from 0.90100 to 0.83901, saving model to /home/jovyan/project/saved_models/C3D_model_test3_gray.h5\n",
      "Epoch 6/100\n",
      "592/592 [==============================] - 11s 18ms/step - loss: 0.6907 - acc: 0.6639 - val_loss: 0.7293 - val_acc: 0.6242\n",
      "\n",
      "Epoch 00006: val_loss improved from 0.83901 to 0.72930, saving model to /home/jovyan/project/saved_models/C3D_model_test3_gray.h5\n",
      "Epoch 7/100\n",
      "592/592 [==============================] - 11s 18ms/step - loss: 0.7226 - acc: 0.6689 - val_loss: 0.7705 - val_acc: 0.6174\n",
      "\n",
      "Epoch 00007: val_loss did not improve from 0.72930\n",
      "Epoch 8/100\n",
      "592/592 [==============================] - 11s 18ms/step - loss: 0.5750 - acc: 0.7534 - val_loss: 0.7022 - val_acc: 0.6980\n",
      "\n",
      "Epoch 00008: val_loss improved from 0.72930 to 0.70223, saving model to /home/jovyan/project/saved_models/C3D_model_test3_gray.h5\n",
      "Epoch 9/100\n",
      "592/592 [==============================] - 11s 18ms/step - loss: 0.4741 - acc: 0.7990 - val_loss: 0.6743 - val_acc: 0.6980\n",
      "\n",
      "Epoch 00009: val_loss improved from 0.70223 to 0.67430, saving model to /home/jovyan/project/saved_models/C3D_model_test3_gray.h5\n",
      "Epoch 10/100\n",
      "592/592 [==============================] - 11s 18ms/step - loss: 0.4396 - acc: 0.8193 - val_loss: 0.7065 - val_acc: 0.7248\n",
      "\n",
      "Epoch 00010: val_loss did not improve from 0.67430\n",
      "Epoch 11/100\n",
      "592/592 [==============================] - 11s 18ms/step - loss: 0.4693 - acc: 0.7787 - val_loss: 0.6387 - val_acc: 0.6980\n",
      "\n",
      "Epoch 00011: val_loss improved from 0.67430 to 0.63873, saving model to /home/jovyan/project/saved_models/C3D_model_test3_gray.h5\n",
      "Epoch 12/100\n",
      "592/592 [==============================] - 11s 18ms/step - loss: 0.3789 - acc: 0.8412 - val_loss: 0.6606 - val_acc: 0.7383\n",
      "\n",
      "Epoch 00012: val_loss did not improve from 0.63873\n",
      "Epoch 13/100\n",
      "592/592 [==============================] - 11s 18ms/step - loss: 0.3736 - acc: 0.8226 - val_loss: 0.9233 - val_acc: 0.6577\n",
      "\n",
      "Epoch 00013: val_loss did not improve from 0.63873\n",
      "Epoch 14/100\n",
      "592/592 [==============================] - 11s 18ms/step - loss: 0.3838 - acc: 0.8361 - val_loss: 0.7231 - val_acc: 0.7517\n",
      "\n",
      "Epoch 00014: val_loss did not improve from 0.63873\n",
      "Epoch 15/100\n",
      "592/592 [==============================] - 11s 18ms/step - loss: 0.2779 - acc: 0.8733 - val_loss: 0.8398 - val_acc: 0.7584\n",
      "\n",
      "Epoch 00015: val_loss did not improve from 0.63873\n",
      "Epoch 16/100\n",
      "592/592 [==============================] - 11s 18ms/step - loss: 0.1991 - acc: 0.9189 - val_loss: 0.8515 - val_acc: 0.7651\n",
      "\n",
      "Epoch 00016: val_loss did not improve from 0.63873\n",
      "Epoch 17/100\n",
      "592/592 [==============================] - 11s 18ms/step - loss: 0.1223 - acc: 0.9510 - val_loss: 1.0811 - val_acc: 0.7651\n",
      "\n",
      "Epoch 00017: val_loss did not improve from 0.63873\n",
      "Epoch 18/100\n",
      "592/592 [==============================] - 11s 18ms/step - loss: 0.1211 - acc: 0.9595 - val_loss: 1.2333 - val_acc: 0.7718\n",
      "\n",
      "Epoch 00018: val_loss did not improve from 0.63873\n",
      "Epoch 19/100\n",
      "592/592 [==============================] - 11s 19ms/step - loss: 0.2800 - acc: 0.9189 - val_loss: 0.9254 - val_acc: 0.7248\n",
      "\n",
      "Epoch 00019: val_loss did not improve from 0.63873\n",
      "Epoch 20/100\n",
      "592/592 [==============================] - 11s 18ms/step - loss: 0.1106 - acc: 0.9679 - val_loss: 1.1046 - val_acc: 0.7718\n",
      "\n",
      "Epoch 00020: val_loss did not improve from 0.63873\n",
      "Epoch 21/100\n",
      "592/592 [==============================] - 11s 18ms/step - loss: 0.0686 - acc: 0.9865 - val_loss: 1.5194 - val_acc: 0.7718\n",
      "\n",
      "Epoch 00021: val_loss did not improve from 0.63873\n",
      "Epoch 00021: early stopping\n"
     ]
    }
   ],
   "source": [
    "batch_size = 20\n",
    "nb_epoch = 100\n",
    "\n",
    "# Use ModelCheckpoint to save model and weights\n",
    "save_dir = os.path.join(os.getcwd(), 'saved_models')\n",
    "model_name = 'C3D_model_test3_gray.h5'\n",
    "\n",
    "if not os.path.isdir(save_dir):\n",
    "    os.makedirs(save_dir)\n",
    "model_path = os.path.join(save_dir, model_name)\n",
    "# checkpoint\n",
    "checkpoint = ModelCheckpoint(model_path, monitor='val_loss', save_best_only=True, verbose=1)\n",
    "# earlystop\n",
    "earlystop = EarlyStopping(monitor='val_loss', patience=10, verbose=1)\n",
    "\n",
    "hist = model.fit(X_train_new, y_train_new, \n",
    "                 validation_data=(X_val_new,y_val_new),\n",
    "                 batch_size=batch_size,\n",
    "                 epochs = nb_epoch, \n",
    "                 shuffle=True, \n",
    "                 callbacks=[checkpoint, earlystop])"
   ]
  },
  {
   "cell_type": "code",
   "execution_count": 45,
   "metadata": {},
   "outputs": [
    {
     "name": "stdout",
     "output_type": "stream",
     "text": [
      "Loading trained model\n"
     ]
    }
   ],
   "source": [
    "# loading our save model\n",
    "print(\"Loading trained model\")\n",
    "model = load_model(model_path)"
   ]
  },
  {
   "cell_type": "code",
   "execution_count": 46,
   "metadata": {},
   "outputs": [
    {
     "name": "stdout",
     "output_type": "stream",
     "text": [
      "149/149 [==============================] - 1s 7ms/step\n",
      "Test score: 0.6387273387220882\n",
      "Test accuracy: 0.6979865791813639\n"
     ]
    }
   ],
   "source": [
    "score = model.evaluate(X_val_new, y_val_new, batch_size=batch_size)\n",
    "print('Test score:', score[0])\n",
    "print('Test accuracy:', score[1]) "
   ]
  },
  {
   "cell_type": "code",
   "execution_count": 47,
   "metadata": {},
   "outputs": [
    {
     "name": "stdout",
     "output_type": "stream",
     "text": [
      "['seaborn-notebook', 'classic', 'seaborn-pastel', 'seaborn-white', 'seaborn-talk', 'bmh', 'seaborn', 'Solarize_Light2', 'seaborn-bright', 'seaborn-ticks', 'seaborn-paper', 'seaborn-muted', 'seaborn-darkgrid', 'fivethirtyeight', 'seaborn-dark-palette', 'seaborn-dark', 'grayscale', 'dark_background', 'seaborn-colorblind', 'seaborn-deep', '_classic_test', 'tableau-colorblind10', 'ggplot', 'seaborn-whitegrid', 'seaborn-poster', 'fast']\n",
      "['seaborn-notebook', 'classic', 'seaborn-pastel', 'seaborn-white', 'seaborn-talk', 'bmh', 'seaborn', 'Solarize_Light2', 'seaborn-bright', 'seaborn-ticks', 'seaborn-paper', 'seaborn-muted', 'seaborn-darkgrid', 'fivethirtyeight', 'seaborn-dark-palette', 'seaborn-dark', 'grayscale', 'dark_background', 'seaborn-colorblind', 'seaborn-deep', '_classic_test', 'tableau-colorblind10', 'ggplot', 'seaborn-whitegrid', 'seaborn-poster', 'fast']\n"
     ]
    },
    {
     "data": {
      "image/png": "[encoded data removed]",
      "text/plain": [
       "<Figure size 560x400 with 1 Axes>"
      ]
     },
     "metadata": {},
     "output_type": "display_data"
    },
    {
     "data": {
      "image/png": "[encoded data removed]",
      "text/plain": [
       "<Figure size 560x400 with 1 Axes>"
      ]
     },
     "metadata": {},
     "output_type": "display_data"
    }
   ],
   "source": [
    "train_loss=hist.history['loss']\n",
    "val_loss=hist.history['val_loss']\n",
    "train_acc=hist.history['acc']\n",
    "val_acc=hist.history['val_acc']\n",
    "\n",
    "plt.figure(1,figsize=(7,5))\n",
    "plt.plot(train_loss, label=\"training_loss\")\n",
    "plt.plot(val_loss, label=\"validation_loss\")\n",
    "plt.xlabel('Epochs')\n",
    "plt.ylabel('Loss')\n",
    "plt.grid(True)\n",
    "plt.title(\"Learning Curve\")\n",
    "plt.legend(loc='best')\n",
    "print (plt.style.available) # use bmh, classic,ggplot for big pictures\n",
    "plt.style.use(['classic'])\n",
    "\n",
    "plt.figure(2,figsize=(7,5))\n",
    "plt.plot(train_acc, label=\"training_acc\")\n",
    "plt.plot(val_acc, label=\"validation_acc\")\n",
    "plt.xlabel('Epochs')\n",
    "plt.ylabel('Loss')\n",
    "plt.grid(True)\n",
    "plt.title(\"Learning Curve\")\n",
    "plt.legend(loc='best')\n",
    "print (plt.style.available) # use bmh, classic,ggplot for big pictures\n",
    "plt.style.use(['classic'])\n"
   ]
  },
  {
   "cell_type": "code",
   "execution_count": 48,
   "metadata": {},
   "outputs": [],
   "source": [
    "import itertools\n",
    "def confusion_matrix_plot(cm, classes,\n",
    "                          normalize=False,\n",
    "                          title='Confusion matrix',\n",
    "                          cmap=plt.cm.Blues):\n",
    "    \"\"\"\n",
    "    This function prints and plots the confusion matrix.\n",
    "    Normalization can be applied by setting `normalize=True`.\n",
    "    \"\"\"\n",
    "    if normalize:\n",
    "        cm = cm.astype('float') / cm.sum(axis=1)[:, np.newaxis]\n",
    "        print(\"Normalized confusion matrix\")\n",
    "    else:\n",
    "        print('Confusion matrix, without normalization')\n",
    "\n",
    "    print(cm)\n",
    "\n",
    "    plt.imshow(cm, interpolation='nearest', cmap=cmap)\n",
    "    plt.title(title)\n",
    "    plt.colorbar()\n",
    "    tick_marks = np.arange(len(classes))\n",
    "    plt.xticks(tick_marks, classes, rotation=45)\n",
    "    plt.yticks(tick_marks, classes)\n",
    "\n",
    "    fmt = '.2f' if normalize else 'd'\n",
    "    thresh = cm.max() / 2.\n",
    "    for i, j in itertools.product(range(cm.shape[0]), range(cm.shape[1])):\n",
    "        plt.text(j, i, format(cm[i, j], fmt),\n",
    "                 horizontalalignment=\"center\",\n",
    "                 color=\"white\" if cm[i, j] > thresh else \"black\")\n",
    "\n",
    "    plt.ylabel('True label')\n",
    "    plt.xlabel('Predicted label')\n",
    "    plt.tight_layout()"
   ]
  },
  {
   "cell_type": "code",
   "execution_count": 49,
   "metadata": {},
   "outputs": [],
   "source": [
    "from sklearn import svm, datasets\n",
    "from sklearn.metrics import confusion_matrix"
   ]
  },
  {
   "cell_type": "code",
   "execution_count": 50,
   "metadata": {},
   "outputs": [
    {
     "name": "stdout",
     "output_type": "stream",
     "text": [
      "benchmark :  [0 0 0 0 0 0 0 0 0 0 0 0 0 0 0 0 0 0 0 0 0 0 0 0 0 0 0 0 0 0 0 0 0 0 0 0 0\n",
      " 0 0 0 0 0 0 0 0 0 0 0 0 0 0 0 0 0 0 0 0 0 0 0 0 0 0 0 0 0 0 0 0 0 0 0 0 0\n",
      " 0 0 0 0 0 0 0 0 0 0 0 0 0 0 0 0 0 0 0 0 0 0 0 0 0 0 0 0 0 0 0 0 0 0 0 0 0\n",
      " 0 0 0 0 0 1 1 1 1 1 1 1 1 1 1 1 1 1 1 1 1 1 1 1 1 1 1 1 1 1 1 1 1 1 1 1 1\n",
      " 1 1 1 1 1 1 1 1 1 1 1 1 1 1 1 1 1 1 1 1 1 1 1 1 1 1 1 1 1 1 1 1 1 1 1 1 1\n",
      " 1 1 1 1 1 1 1 1 1 1 1 1 1 1 1 1 1 1 1 1 1 1 1 1 1 1 1 1 1 1 1 1 1 1 1 1 1\n",
      " 1 1 1 1 1 1 1 1 1 1 1 1 1 1 1 1 1 1 1 1 1 1 1 1 1 1 1 1 1 1 1 1 1 1 1 1 1\n",
      " 1 1 1 1 1 1 1 1 1 1 1 1 1 1 1 1 1 1 1 1 1 1 1 1 1 1 1 1 1 1 1 1 1 1 1 1 1\n",
      " 1 1 1 1 1 1 1 1 1 1 1 1 1 1 1 1 1 1 1 2 2 2 2 2 2 2 2 2 2 2 2 2 2 2 2 2 2\n",
      " 2 2 2 2 2 2 2 2 2 2 2 2 2 2 2 2 2 2 2 2 2 2 2 2 2 2 2 2 2 2 2 2 2 2 2 2 2\n",
      " 2 2 2 2 2 2 2 2 2 2 2 2 2 2 2 2 2 2 2 2 2 2 2 2 2 2 2 2 2 2 2 2 2 2 2 2 2\n",
      " 2 2 2 2 2 2 2 2 2 2 2 2 2 2 2 2 2 2 2 2 2 2 2 1 3 3 3 3 3 3 3 3 3 3 3 3 3\n",
      " 3 3 3 3 3 3 3 3 3 3 3 3 3 3 3 3 3 3 3 3 3 3 3 3 3 3 3 3 3 3 3 3 3 3 3 3 3\n",
      " 3 3 3 3 3 3 3 3 3 3 3 3 3 3 3 3 3 3 3 3 3 3 3 3 3 3 3 3 3 3 3 3 3 3 3 3 3\n",
      " 3 3 3 3 3 3 3 3 3 3 3 3 3 3 3 3 3 3 3 3 3 3 3 3 3 3 3 3 3 3 3 3 3 3 3 3 1\n",
      " 4 4 4 4 4 4 4 4 4 4 4 4 4 4 4 4 4 4 4 4 4 4 4 4 4 4 4 4 4 4 4 4 4 4 4 4 4\n",
      " 4 4 4 4 4 4 4 4 4 4 4 4 4 4 4 4 4 4 4 4 4 4 4 4 4 4 4 4 4 4 4 4 4 4 4 4 4\n",
      " 4 4 4 4 4 4 4 4 4 4 4 4 4 4 4 4 4 4 4 4 4 4 4 4 4 4 4 4 4 4 4 4 4 4 4 4 4\n",
      " 4 4 4 4 4 4 4 4 4 4 4 4 4 4 4 4 4 4 4 4 4 4 4 4 4 4 4 4 4 4 4 4 4 4 4 4 4\n",
      " 4 4 4 4 4 4 4 4 4 4 4 4 4 4 4 4 4 4 4 4 4 4 4 4 4 4 4 4 4 4 4 4 4 4 4 4 4\n",
      " 4]\n",
      "predict :  [2 2 2 2 4 4 1 1 0 1 1 0 4 4 2 0 1 2 2 4 2 2 1 0 4 0 4 4 2 4 4 4 4 4 2 4 4\n",
      " 0 4 2 0 2 4 4 2 4 0 4 0 4 1 0 2 0 2 1 2 0 1 0 1 1 0 1 2 4 1 1 1 4 4 4 2 2\n",
      " 4 4 4 4 2 4 1 1 1 4 2 4 2 4 4 2 4 1 1 4 1 4 1 4 4 1 1 1 4 4 1 4 2 1 1 1 1\n",
      " 1 1 0 4 1 2 4 1 4 1 1 4 2 4 4 4 4 4 1 1 1 1 1 4 4 1 1 1 1 2 1 1 1 4 1 4 2\n",
      " 4 1 1 4 2 1 1 1 4 1 4 4 1 4 1 4 1 4 1 4 1 4 1 4 4 4 1 1 4 1 4 1 1 1 4 1 4\n",
      " 4 1 1 4 1 1 1 4 4 1 4 1 4 4 4 2 1 4 1 4 4 1 1 1 4 1 4 4 1 4 1 4 1 4 4 1 4\n",
      " 1 1 4 1 1 1 4 1 1 1 1 1 4 4 4 1 1 1 4 4 1 4 4 4 4 1 4 4 1 1 1 1 1 1 4 4 4\n",
      " 2 4 4 4 4 1 1 1 4 1 1 1 1 4 4 4 4 4 4 4 1 4 1 4 1 1 4 4 4 1 1 4 2 4 1 4 4\n",
      " 4 4 4 4 1 1 4 4 4 1 4 1 4 4 1 1 4 4 2 2 2 2 2 2 2 2 2 2 3 3 2 2 2 2 3 2 2\n",
      " 2 2 2 2 2 2 2 2 2 2 2 3 2 2 2 2 2 2 2 3 2 2 2 2 2 2 2 2 2 3 2 2 2 2 2 2 2\n",
      " 2 2 2 2 2 4 3 2 2 2 2 2 2 2 2 2 2 2 2 2 2 2 2 2 2 2 2 3 2 2 2 2 2 2 3 3 2\n",
      " 2 2 2 3 2 2 2 2 2 2 2 2 2 2 2 2 2 2 2 2 2 2 3 2 2 2 2 2 2 2 2 2 3 2 3 3 2\n",
      " 2 2 2 2 2 3 3 2 2 3 3 2 2 2 2 2 2 3 2 2 2 2 2 2 2 2 2 2 2 2 2 2 2 3 3 3 2\n",
      " 2 2 2 2 2 2 3 3 2 2 2 2 2 3 2 2 2 3 2 2 2 2 2 2 2 2 2 2 2 2 2 2 2 2 2 2 2\n",
      " 3 3 2 2 2 2 3 2 3 3 2 2 2 2 2 3 3 2 2 2 2 2 2 2 2 2 2 2 2 2 2 2 2 2 3 2 4\n",
      " 4 4 4 4 2 4 4 2 2 4 4 4 4 4 4 4 2 4 4 4 4 4 4 4 4 4 4 4 4 4 2 4 4 4 4 4 4\n",
      " 2 4 4 4 4 4 4 4 2 2 4 4 4 2 4 2 4 4 4 2 4 4 4 4 4 4 4 4 4 4 4 2 4 4 2 2 2\n",
      " 4 4 2 4 4 4 4 4 4 4 2 2 4 4 4 4 4 4 4 4 4 4 4 4 4 4 4 4 4 4 4 4 2 4 4 2 4\n",
      " 2 4 2 4 4 4 4 4 2 4 2 4 4 2 4 4 4 4 4 4 4 4 2 4 4 4 4 4 2 4 4 4 4 4 4 4 2\n",
      " 4 4 2 2 4 4 4 2 4 4 4 4 4 4 2 4 2 2 2 2 4 4 2 4 4 4 4 4 4 3 4 4 2 4 4 4 2\n",
      " 4]\n"
     ]
    }
   ],
   "source": [
    "#model.fit(X_train_new, y_train_new)\n",
    "#y_pred = model.predict(X_val_new)\n",
    "y_pred = model.predict(train_set)\n",
    "\n",
    "#a = np.argmax(y_val_new, axis=1)\n",
    "a = np.argmax(Y_train, axis=1)\n",
    "b = np.argmax(y_pred, axis=1)\n",
    "print(\"benchmark : \",a)\n",
    "print(\"predict : \",b)"
   ]
  },
  {
   "cell_type": "code",
   "execution_count": 51,
   "metadata": {},
   "outputs": [
    {
     "name": "stdout",
     "output_type": "stream",
     "text": [
      "[[ 15  33  25   0  43]\n",
      " [  0  93  10   0  98]\n",
      " [  0   0 102  12   1]\n",
      " [  0   0 100  23   0]\n",
      " [  0   0  39   1 146]]\n"
     ]
    }
   ],
   "source": [
    "met = confusion_matrix(a, b)\n",
    "np.set_printoptions(precision=2)\n",
    "print(met)"
   ]
  },
  {
   "cell_type": "code",
   "execution_count": 52,
   "metadata": {},
   "outputs": [
    {
     "name": "stdout",
     "output_type": "stream",
     "text": [
      "Normalized confusion matrix\n",
      "[[0.13 0.28 0.22 0.   0.37]\n",
      " [0.   0.46 0.05 0.   0.49]\n",
      " [0.   0.   0.89 0.1  0.01]\n",
      " [0.   0.   0.81 0.19 0.  ]\n",
      " [0.   0.   0.21 0.01 0.78]]\n"
     ]
    },
    {
     "data": {
      "image/png": "[encoded data removed]",
      "text/plain": [
       "<Figure size 640x480 with 2 Axes>"
      ]
     },
     "metadata": {},
     "output_type": "display_data"
    }
   ],
   "source": [
    "confusion_matrix_plot(met, normalize=True, classes=['thumbup', 'stop', 'clockwise', 'counterclockwise', 'updown'])"
   ]
  },
  {
   "cell_type": "code",
   "execution_count": null,
   "metadata": {},
   "outputs": [],
   "source": []
  },
  {
   "cell_type": "code",
   "execution_count": null,
   "metadata": {},
   "outputs": [],
   "source": []
  }
 ],
 "metadata": {
  "kernelspec": {
   "display_name": "Python 3",
   "language": "python",
   "name": "python3"
  },
  "language_info": {
   "codemirror_mode": {
    "name": "ipython",
    "version": 3
   },
   "file_extension": ".py",
   "mimetype": "text/x-python",
   "name": "python",
   "nbconvert_exporter": "python",
   "pygments_lexer": "ipython3",
   "version": "3.6.6"
  }
 },
 "nbformat": 4,
 "nbformat_minor": 2
}
