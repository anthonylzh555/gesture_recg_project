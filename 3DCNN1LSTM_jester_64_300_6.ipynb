{
 "cells": [
  {
   "cell_type": "code",
   "execution_count": 1,
   "metadata": {},
   "outputs": [
    {
     "name": "stderr",
     "output_type": "stream",
     "text": [
      "/opt/conda/lib/python3.6/site-packages/h5py/__init__.py:36: FutureWarning: Conversion of the second argument of issubdtype from `float` to `np.floating` is deprecated. In future, it will be treated as `np.float64 == np.dtype(float).type`.\n",
      "  from ._conv import register_converters as _register_converters\n",
      "Using TensorFlow backend.\n",
      "WARNING (theano.configdefaults): install mkl with `conda install mkl-service`: No module named 'mkl'\n",
      "/opt/conda/lib/python3.6/site-packages/sklearn/cross_validation.py:41: DeprecationWarning: This module was deprecated in version 0.18 in favor of the model_selection module into which all the refactored classes and functions are moved. Also note that the interface of the new CV iterators are different from that of this module. This module will be removed in 0.20.\n",
      "  \"This module will be removed in 0.20.\", DeprecationWarning)\n"
     ]
    }
   ],
   "source": [
    "from keras.preprocessing.image import ImageDataGenerator\n",
    "from keras.models import Sequential\n",
    "from keras.layers.core import Dense, Dropout, Activation, Flatten, Reshape\n",
    "from keras.layers.convolutional import Conv3D, MaxPooling3D,Conv2D,AveragePooling2D,AveragePooling3D\n",
    "from keras.layers import Dense, GlobalAveragePooling3D,GlobalAveragePooling2D\n",
    "from keras.callbacks import EarlyStopping, ModelCheckpoint, LearningRateScheduler,ReduceLROnPlateau\n",
    "from keras.optimizers import SGD, RMSprop, Adadelta\n",
    "from keras.utils import np_utils, generic_utils\n",
    "from keras.layers.normalization import BatchNormalization\n",
    "from keras.layers.convolutional_recurrent import ConvLSTM2D\n",
    "\n",
    "import theano\n",
    "import os\n",
    "import matplotlib\n",
    "import matplotlib.pyplot as plt\n",
    "import numpy as np\n",
    "import cv2\n",
    "from sklearn.cross_validation import train_test_split\n",
    "from sklearn import cross_validation\n",
    "from sklearn import preprocessing\n"
   ]
  },
  {
   "cell_type": "code",
   "execution_count": 2,
   "metadata": {},
   "outputs": [],
   "source": [
    "# image specification\n",
    "img_rows,img_cols=64,64\n",
    "\n",
    "# Training data\n",
    "\n",
    "X_tr=[]           # variable to store entire dataset"
   ]
  },
  {
   "cell_type": "code",
   "execution_count": 3,
   "metadata": {},
   "outputs": [
    {
     "data": {
      "text/plain": [
       "'\\nimport os\\nfrom tqdm import tqdm\\nls_path_10 = os.path.join(\"//home/jovyan/program/project/3DCNN/resnet/jester/\")\\nlisting_10 = os.listdir(ls_path_10)\\nfor ls_1 in listing_10:\\n    ls_path_11 = os.path.join(ls_path_10,ls_1)\\n    listing_11 = os.listdir(ls_path_11)\\n    for ls in tqdm(listing_11):\\n        listing_stop_10 = os.listdir(os.path.join(ls_path_11,ls)) \\n        #print(ls)\\n        img_depth = len(listing_stop_10)\\n        if img_depth < 20:\\n            print(img_depth)\\n            print(ls)\\n'"
      ]
     },
     "execution_count": 3,
     "metadata": {},
     "output_type": "execute_result"
    }
   ],
   "source": [
    "'''\n",
    "import os\n",
    "from tqdm import tqdm\n",
    "ls_path_10 = os.path.join(\"//home/jovyan/program/project/3DCNN/resnet/jester/\")\n",
    "listing_10 = os.listdir(ls_path_10)\n",
    "for ls_1 in listing_10:\n",
    "    ls_path_11 = os.path.join(ls_path_10,ls_1)\n",
    "    listing_11 = os.listdir(ls_path_11)\n",
    "    for ls in tqdm(listing_11):\n",
    "        listing_stop_10 = os.listdir(os.path.join(ls_path_11,ls)) \n",
    "        #print(ls)\n",
    "        img_depth = len(listing_stop_10)\n",
    "        if img_depth < 20:\n",
    "            print(img_depth)\n",
    "            print(ls)\n",
    "'''"
   ]
  },
  {
   "cell_type": "code",
   "execution_count": 4,
   "metadata": {},
   "outputs": [
    {
     "name": "stderr",
     "output_type": "stream",
     "text": [
      "100%|██████████| 300/300 [00:03<00:00, 88.78it/s]"
     ]
    },
    {
     "name": "stdout",
     "output_type": "stream",
     "text": [
      "(16, 64, 64, 3)\n",
      "300\n"
     ]
    },
    {
     "name": "stderr",
     "output_type": "stream",
     "text": [
      "\n"
     ]
    }
   ],
   "source": [
    "from tqdm import tqdm\n",
    "\n",
    "ls_path = os.path.join(\"//home/jovyan/program/project/3DCNN/resnet/jester/Rolling Hand Backward\")\n",
    "listing = os.listdir(ls_path)\n",
    "\n",
    "for ls in tqdm(listing):\n",
    "    listing_stop = sorted(os.listdir(os.path.join(ls_path,ls))) \n",
    "    #print(ls)\n",
    "    #img_depth = len(listing_stop)\n",
    "    #if img_depth < 15:\n",
    "        #print(img_depth)\n",
    "        #print(ls)\n",
    "    frames = []\n",
    "    img_depth=0\n",
    "    for imgs in listing_stop:\n",
    "        if img_depth <16:\n",
    "            img = os.path.join(os.path.join(ls_path,ls),imgs)\n",
    "            #ret, frame = cap.read()\n",
    "            frame = cv2.imread(img)\n",
    "            #print(frame.shape)\n",
    "            #img = cv2.cvtColor(img, cv2.COLOR_BGR2RGB)\n",
    "            frame=cv2.resize(frame,(img_rows,img_cols),interpolation=cv2.INTER_AREA)\n",
    "            #print(frame.shape)\n",
    "            #gray = cv2.cvtColor(frame, cv2.COLOR_BGR2GRAY)\n",
    "            gray = cv2.cvtColor(frame, cv2.COLOR_BGR2RGB)\n",
    "            frames.append(gray)\n",
    "            img_depth=img_depth+1\n",
    "        else:\n",
    "            break\n",
    "    input_img = np.array(frames)\n",
    "    #print (input_img.shape)\n",
    "    ipt=np.rollaxis(np.rollaxis(input_img,2,0),2,0)\n",
    "    ipt=np.rollaxis(ipt,2,0)\n",
    "    #print (ipt.shape)\n",
    "    X_tr.append(ipt)\n",
    "\n",
    "#X_tr_array = np.array(X_tr)   # convert the frames read into array\n",
    "print (ipt.shape)\n",
    "num_samples = len(X_tr) \n",
    "print (num_samples)"
   ]
  },
  {
   "cell_type": "code",
   "execution_count": 5,
   "metadata": {},
   "outputs": [
    {
     "name": "stderr",
     "output_type": "stream",
     "text": [
      "100%|██████████| 300/300 [00:03<00:00, 89.63it/s]"
     ]
    },
    {
     "name": "stdout",
     "output_type": "stream",
     "text": [
      "(16, 64, 64, 3)\n",
      "600\n"
     ]
    },
    {
     "name": "stderr",
     "output_type": "stream",
     "text": [
      "\n"
     ]
    }
   ],
   "source": [
    "from tqdm import tqdm\n",
    "\n",
    "ls_path_2 = os.path.join(\"//home/jovyan/program/project/3DCNN/resnet/jester/Rolling Hand Forward\")\n",
    "listing_2 = os.listdir(ls_path_2)\n",
    "\n",
    "for ls_2 in tqdm(listing_2):\n",
    "    listing_stop_2 = sorted(os.listdir(os.path.join(ls_path_2,ls_2)))\n",
    "    #print(ls_2)\n",
    "    #img_depth = len(listing_stop_2)\n",
    "    #print(img_depth)\n",
    "    frames = []\n",
    "    img_depth= 0\n",
    "    for imgs_2 in listing_stop_2:\n",
    "        if img_depth < 16:\n",
    "            img = os.path.join(os.path.join(ls_path_2,ls_2),imgs_2)\n",
    "            #ret, frame = cap.read()\n",
    "            #print(img)\n",
    "            frame = cv2.imread(img)\n",
    "            #print(imgs_2)\n",
    "            #img = cv2.cvtColor(img, cv2.COLOR_BGR2RGB)\n",
    "            frame=cv2.resize(frame,(img_rows,img_cols),interpolation=cv2.INTER_AREA)\n",
    "            #gray = cv2.cvtColor(frame, cv2.COLOR_BGR2GRAY)\n",
    "            gray = cv2.cvtColor(frame, cv2.COLOR_BGR2RGB)\n",
    "            frames.append(gray)\n",
    "            img_depth=img_depth+1\n",
    "        else:\n",
    "            break\n",
    "    input_img = np.array(frames)\n",
    "    #print (input_img.shape)\n",
    "    ipt=np.rollaxis(np.rollaxis(input_img,2,0),2,0)\n",
    "    ipt=np.rollaxis(ipt,2,0)\n",
    "    #print (ipt.shape)\n",
    "    X_tr.append(ipt)\n",
    "\n",
    "#X_tr_array = np.array(X_tr)   # convert the frames read into array\n",
    "print (ipt.shape)\n",
    "num_samples = len(X_tr) \n",
    "print (num_samples)"
   ]
  },
  {
   "cell_type": "code",
   "execution_count": 6,
   "metadata": {},
   "outputs": [
    {
     "name": "stderr",
     "output_type": "stream",
     "text": [
      "100%|██████████| 300/300 [00:03<00:00, 90.34it/s]"
     ]
    },
    {
     "name": "stdout",
     "output_type": "stream",
     "text": [
      "(16, 64, 64, 3)\n",
      "900\n"
     ]
    },
    {
     "name": "stderr",
     "output_type": "stream",
     "text": [
      "\n"
     ]
    }
   ],
   "source": [
    "from tqdm import tqdm\n",
    "\n",
    "ls_path_3 = os.path.join(\"//home/jovyan/program/project/3DCNN/resnet/jester/Stop\")\n",
    "listing_3 = os.listdir(ls_path_3)\n",
    "\n",
    "for ls_3 in tqdm(listing_3):\n",
    "    listing_stop_3 = sorted(os.listdir(os.path.join(ls_path_3,ls_3)))\n",
    "    #print(ls)\n",
    "    #img_depth = len(listing_stop_3)\n",
    "    frames = []\n",
    "    img_depth=0\n",
    "    for imgs_3 in listing_stop_3:\n",
    "        if img_depth <16:\n",
    "            img = os.path.join(os.path.join(ls_path_3,ls_3),imgs_3)\n",
    "            #ret, frame = cap.read()\n",
    "            frame = cv2.imread(img)\n",
    "            #img = cv2.cvtColor(img, cv2.COLOR_BGR2RGB)\n",
    "            frame=cv2.resize(frame,(img_rows,img_cols),interpolation=cv2.INTER_AREA)\n",
    "            #gray = cv2.cvtColor(frame, cv2.COLOR_BGR2GRAY)\n",
    "            gray = cv2.cvtColor(frame, cv2.COLOR_BGR2RGB)\n",
    "            frames.append(gray)\n",
    "            img_depth=img_depth+1\n",
    "        else:\n",
    "            break\n",
    "    input_img = np.array(frames)\n",
    "    #print (input_img.shape)\n",
    "    ipt=np.rollaxis(np.rollaxis(input_img,2,0),2,0)\n",
    "    ipt=np.rollaxis(ipt,2,0)\n",
    "    #print (ipt.shape)\n",
    "    X_tr.append(ipt)\n",
    "\n",
    "#X_tr_array = np.array(X_tr)   # convert the frames read into array\n",
    "print (ipt.shape)\n",
    "num_samples = len(X_tr) \n",
    "print (num_samples)"
   ]
  },
  {
   "cell_type": "code",
   "execution_count": 7,
   "metadata": {},
   "outputs": [
    {
     "name": "stderr",
     "output_type": "stream",
     "text": [
      "100%|██████████| 299/299 [00:03<00:00, 90.05it/s]"
     ]
    },
    {
     "name": "stdout",
     "output_type": "stream",
     "text": [
      "(16, 64, 64, 3)\n",
      "1199\n"
     ]
    },
    {
     "name": "stderr",
     "output_type": "stream",
     "text": [
      "\n"
     ]
    }
   ],
   "source": [
    "from tqdm import tqdm\n",
    "\n",
    "ls_path_4 = os.path.join(\"//home/jovyan/program/project/3DCNN/resnet/jester/Swiping Left\")\n",
    "listing_4 = os.listdir(ls_path_4)\n",
    "\n",
    "for ls_4 in tqdm(listing_4):\n",
    "    listing_stop_4 = sorted(os.listdir(os.path.join(ls_path_4,ls_4)))\n",
    "\n",
    "    #print(ls)\n",
    "    #img_depth = len(listing_stop_3)\n",
    "    frames = []\n",
    "    img_depth=0\n",
    "    for imgs_4 in listing_stop_4:\n",
    "        if img_depth <16:\n",
    "            img = os.path.join(os.path.join(ls_path_4,ls_4),imgs_4)\n",
    "            #ret, frame = cap.read()\n",
    "            frame = cv2.imread(img)\n",
    "            #img = cv2.cvtColor(img, cv2.COLOR_BGR2RGB)\n",
    "            frame=cv2.resize(frame,(img_rows,img_cols),interpolation=cv2.INTER_AREA)\n",
    "            #gray = cv2.cvtColor(frame, cv2.COLOR_BGR2GRAY)\n",
    "            gray = cv2.cvtColor(frame, cv2.COLOR_BGR2RGB)\n",
    "            frames.append(gray)\n",
    "            img_depth=img_depth+1\n",
    "        else:\n",
    "            break\n",
    "    input_img = np.array(frames)\n",
    "    #print (input_img.shape)\n",
    "    ipt=np.rollaxis(np.rollaxis(input_img,2,0),2,0)\n",
    "    ipt=np.rollaxis(ipt,2,0)\n",
    "    #print (ipt.shape)\n",
    "    X_tr.append(ipt)\n",
    "\n",
    "#X_tr_array = np.array(X_tr)   # convert the frames read into array\n",
    "print (ipt.shape)\n",
    "num_samples = len(X_tr) \n",
    "print (num_samples)"
   ]
  },
  {
   "cell_type": "code",
   "execution_count": 8,
   "metadata": {},
   "outputs": [
    {
     "name": "stdout",
     "output_type": "stream",
     "text": [
      "7380\n"
     ]
    }
   ],
   "source": [
    "print(ls_4)"
   ]
  },
  {
   "cell_type": "code",
   "execution_count": 9,
   "metadata": {},
   "outputs": [
    {
     "name": "stderr",
     "output_type": "stream",
     "text": [
      "100%|██████████| 300/300 [00:03<00:00, 90.25it/s]"
     ]
    },
    {
     "name": "stdout",
     "output_type": "stream",
     "text": [
      "(16, 64, 64, 3)\n",
      "1499\n"
     ]
    },
    {
     "name": "stderr",
     "output_type": "stream",
     "text": [
      "\n"
     ]
    }
   ],
   "source": [
    "from tqdm import tqdm\n",
    "\n",
    "ls_path_5 = os.path.join(\"//home/jovyan/program/project/3DCNN/resnet/jester/Swiping Right\")\n",
    "listing_5 = os.listdir(ls_path_5)\n",
    "\n",
    "for ls_5 in tqdm(listing_5):\n",
    "    listing_stop_5 = sorted(os.listdir(os.path.join(ls_path_5,ls_5)))\n",
    "\n",
    "    #print(ls)\n",
    "    #img_depth = len(listing_stop_3)\n",
    "    frames = []\n",
    "    img_depth=0\n",
    "    for imgs_5 in listing_stop_5:\n",
    "        if img_depth <16:\n",
    "            img = os.path.join(os.path.join(ls_path_5,ls_5),imgs_5)\n",
    "            #ret, frame = cap.read()\n",
    "            frame = cv2.imread(img)\n",
    "            #img = cv2.cvtColor(img, cv2.COLOR_BGR2RGB)\n",
    "            frame=cv2.resize(frame,(img_rows,img_cols),interpolation=cv2.INTER_AREA)\n",
    "            #gray = cv2.cvtColor(frame, cv2.COLOR_BGR2GRAY)\n",
    "            gray = cv2.cvtColor(frame, cv2.COLOR_BGR2RGB)\n",
    "            frames.append(gray)\n",
    "            img_depth=img_depth+1\n",
    "        else:\n",
    "            break\n",
    "    input_img = np.array(frames)\n",
    "    #print (input_img.shape)\n",
    "    ipt=np.rollaxis(np.rollaxis(input_img,2,0),2,0)\n",
    "    ipt=np.rollaxis(ipt,2,0)\n",
    "    #print (ipt.shape)\n",
    "    X_tr.append(ipt)\n",
    "\n",
    "#X_tr_array = np.array(X_tr)   # convert the frames read into array\n",
    "print (ipt.shape)\n",
    "num_samples = len(X_tr) \n",
    "print (num_samples)"
   ]
  },
  {
   "cell_type": "code",
   "execution_count": 10,
   "metadata": {},
   "outputs": [
    {
     "name": "stderr",
     "output_type": "stream",
     "text": [
      "100%|██████████| 300/300 [00:03<00:00, 89.94it/s]"
     ]
    },
    {
     "name": "stdout",
     "output_type": "stream",
     "text": [
      "(16, 64, 64, 3)\n",
      "1799\n"
     ]
    },
    {
     "name": "stderr",
     "output_type": "stream",
     "text": [
      "\n"
     ]
    }
   ],
   "source": [
    "from tqdm import tqdm\n",
    "\n",
    "ls_path_6 = os.path.join(\"//home/jovyan/program/project/3DCNN/resnet/jester/No gesture\")\n",
    "listing_6 = os.listdir(ls_path_6)\n",
    "\n",
    "for ls_6 in tqdm(listing_6):\n",
    "    listing_stop_6 = sorted(os.listdir(os.path.join(ls_path_6,ls_6)))\n",
    "    #print(ls)\n",
    "    #img_depth = len(listing_stop_3)\n",
    "    frames = []\n",
    "    img_depth=0\n",
    "    for imgs_6 in listing_stop_6:\n",
    "        if img_depth <16:\n",
    "            img = os.path.join(os.path.join(ls_path_6,ls_6),imgs_6)\n",
    "            #ret, frame = cap.read()\n",
    "            frame = cv2.imread(img)\n",
    "            #img = cv2.cvtColor(img, cv2.COLOR_BGR2RGB)\n",
    "            frame=cv2.resize(frame,(img_rows,img_cols),interpolation=cv2.INTER_AREA)\n",
    "            #gray = cv2.cvtColor(frame, cv2.COLOR_BGR2GRAY)\n",
    "            gray = cv2.cvtColor(frame, cv2.COLOR_BGR2RGB)\n",
    "            frames.append(gray)\n",
    "            img_depth=img_depth+1\n",
    "        else:\n",
    "            break\n",
    "    input_img = np.array(frames)\n",
    "    #print (input_img.shape)\n",
    "    ipt=np.rollaxis(np.rollaxis(input_img,2,0),2,0)\n",
    "    ipt=np.rollaxis(ipt,2,0)\n",
    "    #print (ipt.shape)\n",
    "    X_tr.append(ipt)\n",
    "\n",
    "#X_tr_array = np.array(X_tr)   # convert the frames read into array\n",
    "print (ipt.shape)\n",
    "num_samples = len(X_tr) \n",
    "print (num_samples)"
   ]
  },
  {
   "cell_type": "code",
   "execution_count": 11,
   "metadata": {},
   "outputs": [
    {
     "name": "stdout",
     "output_type": "stream",
     "text": [
      "1799\n"
     ]
    }
   ],
   "source": [
    "X_tr_array = np.array(X_tr)   # convert the frames read into array\n",
    "\n",
    "num_samples = len(X_tr_array) \n",
    "print (num_samples)"
   ]
  },
  {
   "cell_type": "code",
   "execution_count": 12,
   "metadata": {},
   "outputs": [
    {
     "data": {
      "text/plain": [
       "'\\nlabel=np.ones((num_samples,),dtype = int)\\nlabel[0:74]= 0\\nlabel[75:136] = 1\\n'"
      ]
     },
     "execution_count": 12,
     "metadata": {},
     "output_type": "execute_result"
    }
   ],
   "source": [
    "'''\n",
    "label=np.ones((num_samples,),dtype = int)\n",
    "label[0:74]= 0\n",
    "label[75:136] = 1\n",
    "'''"
   ]
  },
  {
   "cell_type": "code",
   "execution_count": 13,
   "metadata": {},
   "outputs": [],
   "source": [
    "label=np.ones((num_samples,),dtype = int)\n",
    "label[0:300]= 0\n",
    "label[300:600] = 1\n",
    "label[600:900] = 2\n",
    "label[900:1199] = 3\n",
    "label[1199:1499] = 4\n",
    "label[1499:1799] = 5"
   ]
  },
  {
   "cell_type": "code",
   "execution_count": 14,
   "metadata": {},
   "outputs": [
    {
     "name": "stdout",
     "output_type": "stream",
     "text": [
      "X_Train shape: (1799, 16, 64, 64, 3)\n",
      "(1799, 16, 64, 64, 3) train samples\n"
     ]
    }
   ],
   "source": [
    "img_depth = 16\n",
    "train_data = [X_tr_array,label]\n",
    "\n",
    "(X_train, y_train) = (train_data[0],train_data[1])\n",
    "print('X_Train shape:', X_train.shape)\n",
    "\n",
    "train_set = np.zeros((num_samples, img_depth, img_cols,img_rows,3))\n",
    "\n",
    "for h in range(num_samples):\n",
    "    train_set[h][:][:][:][:]=X_train[h,:,:,:]\n",
    "  \n",
    "\n",
    "patch_size = 16    # img_depth or number of frames used for each video\n",
    "\n",
    "print(train_set.shape, 'train samples')\n"
   ]
  },
  {
   "cell_type": "code",
   "execution_count": 15,
   "metadata": {},
   "outputs": [],
   "source": [
    "# CNN Training parameters\n",
    "\n",
    "\n",
    "nb_classes = 6\n"
   ]
  },
  {
   "cell_type": "code",
   "execution_count": 16,
   "metadata": {},
   "outputs": [],
   "source": [
    "# convert class vectors to binary class matrices\n",
    "Y_train = np_utils.to_categorical(y_train, nb_classes)"
   ]
  },
  {
   "cell_type": "code",
   "execution_count": 17,
   "metadata": {},
   "outputs": [
    {
     "name": "stdout",
     "output_type": "stream",
     "text": [
      "108.01355\n",
      "146.98645\n"
     ]
    }
   ],
   "source": [
    "\n",
    "# Pre-processing\n",
    "\n",
    "train_set = train_set.astype('float32')\n",
    "print(np.mean(train_set))\n",
    "train_set -= np.mean(train_set)\n",
    "print(np.max(train_set))\n",
    "train_set /=np.max(train_set)"
   ]
  },
  {
   "cell_type": "code",
   "execution_count": 31,
   "metadata": {},
   "outputs": [],
   "source": [
    "# Define model\n",
    "weight_decay = 0.00005\n",
    "import tensorflow as tf\n",
    "keras=tf.contrib.keras\n",
    "l2=keras.regularizers.l2\n",
    "\n",
    "model = Sequential()\n",
    "model.add(Conv3D(16,(3,3,3),input_shape=(patch_size, img_cols, img_rows, 3),activation='relu'))\n",
    "model.add(Conv3D(16,(3,3,3), strides=(1,1,1),padding='same',dilation_rate=(1,1,1), kernel_initializer='he_normal',\n",
    "                    kernel_regularizer=l2(weight_decay), use_bias=False,name='Conv3D_2a_a', activation = 'relu'))\n",
    "model.add(MaxPooling3D(pool_size=(2,2,2)))\n",
    "\n",
    "\n",
    "model.add(Conv3D(32,(3,3,3), strides=(1,1,1),padding='same',dilation_rate=(1,1,1), kernel_initializer='he_normal',\n",
    "                    kernel_regularizer=l2(weight_decay), use_bias=False,name='Conv3D_2b_a', activation = 'relu'))\n",
    "model.add(Conv3D(32,(3,3,3), strides=(1,1,1),padding='same',dilation_rate=(1,1,1), kernel_initializer='he_normal',\n",
    "                    kernel_regularizer=l2(weight_decay), use_bias=False,name='Conv3D_2b_b', activation = 'relu'))\n",
    "model.add(MaxPooling3D(pool_size=(1,2,2)))\n",
    "\n",
    "\n",
    "model.add(Conv3D(64,(3,3,3), strides=(1,1,1),padding='same', \n",
    "                    dilation_rate=(1,1,1), kernel_initializer='he_normal',\n",
    "                    kernel_regularizer=l2(weight_decay), use_bias=False, \n",
    "                    name='Conv3D_2c_a', activation = 'relu'))\n",
    "model.add(Conv3D(64,(3,3,3), strides=(1,1,1),padding='same', \n",
    "                    dilation_rate=(1,1,1), kernel_initializer='he_normal',\n",
    "                    kernel_regularizer=l2(weight_decay), use_bias=False, \n",
    "                    name='Conv3D_2c_b', activation = 'relu'))\n",
    "model.add(Conv3D(64,(3,3,3), strides=(1,1,1),padding='same', \n",
    "                    dilation_rate=(1,1,1), kernel_initializer='he_normal',\n",
    "                    kernel_regularizer=l2(weight_decay), use_bias=False, \n",
    "                    name='Conv3D_2c_c', activation = 'relu'))\n",
    "model.add(MaxPooling3D(pool_size=(1, 2,2)))\n",
    "\n",
    "\n",
    "model.add(Conv3D(128,(3,3,3), strides=(1,1,1),padding='same', \n",
    "                    dilation_rate=(1,1,1), kernel_initializer='he_normal',\n",
    "                    kernel_regularizer=l2(weight_decay), use_bias=False, \n",
    "                    name='Conv3D_2d_a', activation = 'relu'))\n",
    "model.add(Conv3D(128,(3,3,3), strides=(1,1,1),padding='same', \n",
    "                    dilation_rate=(1,1,1), kernel_initializer='he_normal',\n",
    "                    kernel_regularizer=l2(weight_decay), use_bias=False, \n",
    "                    name='Conv3D_2d_b', activation = 'relu'))\n",
    "model.add(Conv3D(128,(3,3,3), strides=(1,1,1),padding='same', \n",
    "                    dilation_rate=(1,1,1), kernel_initializer='he_normal',\n",
    "                    kernel_regularizer=l2(weight_decay), use_bias=False, \n",
    "                    name='Conv3D_2d_c', activation = 'relu'))\n",
    "model.add(MaxPooling3D(pool_size=(1, 2, 2)))\n",
    "\n",
    "\n",
    "\n",
    "\n",
    "\n",
    "\n",
    "model.add(ConvLSTM2D(filters=64, kernel_size=(3,3),\n",
    "                  strides=(1,1),padding='same',\n",
    "                      kernel_initializer='he_normal', recurrent_initializer='he_normal',\n",
    "                      kernel_regularizer=l2(weight_decay), recurrent_regularizer=l2(weight_decay),\n",
    "                      return_sequences=True, name='gatedclstm2d_2'))\n",
    "'''\n",
    "model.add(ConvLSTM2D(filters=64, kernel_size=(3,3),\n",
    "                  strides=(1,1),padding='same',\n",
    "                      kernel_initializer='he_normal', recurrent_initializer='he_normal',\n",
    "                      kernel_regularizer=l2(weight_decay), recurrent_regularizer=l2(weight_decay),\n",
    "                      return_sequences=False, name='gatedclstm2d_3'))\n",
    "'''\n",
    "\n",
    "#model.add(MaxPooling3D(pool_size=(nb_pool[0], nb_pool[0], nb_pool[0])))\n",
    "#model.add(Flatten())\n",
    "model.add(GlobalAveragePooling3D())\n",
    "model.add(Dropout(0.5))\n",
    "model.add(Dense(nb_classes,kernel_initializer='normal'))\n",
    "\n",
    "model.add(Activation('softmax'))"
   ]
  },
  {
   "cell_type": "code",
   "execution_count": 34,
   "metadata": {},
   "outputs": [],
   "source": [
    "#low resolution network\n",
    "weight_decay = 0.005\n",
    "from keras import regularizers\n",
    "model = Sequential()\n",
    "model.add(MaxPooling3D(pool_size=(1, 2, 2),input_shape=(patch_size, 57, 125, 3)))\n",
    "\n",
    "model.add(Conv3D(8,(1,5,5),activation='relu',kernel_regularizer=regularizers.l2(weight_decay)))\n",
    "model.add(Conv3D(8,(5,1,1),activation='relu',kernel_regularizer=regularizers.l2(weight_decay)))\n",
    "model.add(MaxPooling3D(pool_size=(1, 2, 2)))\n",
    "\n",
    "model.add(Conv3D(32,(1,5,5), activation='relu',kernel_regularizer=regularizers.l2(weight_decay)))\n",
    "model.add(Conv3D(32,(3,1,1), activation='relu',kernel_regularizer=regularizers.l2(weight_decay)))\n",
    "model.add(MaxPooling3D(pool_size=(2, 2, 2)))\n",
    "model.add(Conv3D(64,(1,3,5), activation='relu',kernel_regularizer=regularizers.l2(weight_decay)))\n",
    "model.add(Conv3D(64,(3,1,1), activation='relu',kernel_regularizer=regularizers.l2(weight_decay)))\n",
    "model.add(MaxPooling3D(pool_size=(1, 1, 4 )))\n",
    "\n",
    "\n",
    "\n",
    "#model.add(Conv3D(128,3,3,3, activation='relu'))\n",
    "#model.add(MaxPooling3D(pool_size=(2, 2, 2), strides=(2, 2, 2),\n",
    "#border_mode='valid'))\n",
    "#model.add(BatchNormalization())\n",
    "\n",
    "model.add(Flatten())\n",
    "#model.add(GlobalAveragePooling3D())\n",
    "model.add(Dense(512, activation='relu',kernel_regularizer=regularizers.l2(weight_decay)))\n",
    "model.add(Dropout(0.5))\n",
    "\n",
    "model.add(Dense(256, activation='relu',kernel_regularizer=regularizers.l2(weight_decay)))\n",
    "model.add(Dropout(0.5))\n",
    "\n",
    "model.add(Dense(nb_classes,kernel_initializer='normal',kernel_regularizer=regularizers.l2(weight_decay)))\n",
    "\n",
    "model.add(Activation('softmax'))"
   ]
  },
  {
   "cell_type": "code",
   "execution_count": 19,
   "metadata": {},
   "outputs": [],
   "source": [
    "#low resolution network\n",
    "weight_decay = 0.005\n",
    "from keras import regularizers\n",
    "model = Sequential()\n",
    "model.add(MaxPooling3D(pool_size=(1, 2, 2),input_shape=(patch_size, 57, 125, 3)))\n",
    "\n",
    "model.add(Conv3D(8,(5,5,5),activation='relu',kernel_regularizer=regularizers.l2(weight_decay)))\n",
    "model.add(MaxPooling3D(pool_size=(1, 2, 2)))\n",
    "\n",
    "model.add(Conv3D(32,(3,5,5), activation='relu',kernel_regularizer=regularizers.l2(weight_decay)))\n",
    "model.add(MaxPooling3D(pool_size=(2, 2, 2)))\n",
    "model.add(Conv3D(64,(3,3,5), activation='relu',kernel_regularizer=regularizers.l2(weight_decay)))\n",
    "model.add(MaxPooling3D(pool_size=(1, 1, 4 )))\n",
    "\n",
    "\n",
    "\n",
    "#model.add(Conv3D(128,3,3,3, activation='relu'))\n",
    "#model.add(MaxPooling3D(pool_size=(2, 2, 2), strides=(2, 2, 2),\n",
    "#border_mode='valid'))\n",
    "#model.add(BatchNormalization())\n",
    "\n",
    "model.add(Flatten())\n",
    "#model.add(GlobalAveragePooling3D())\n",
    "model.add(Dense(512, activation='relu',kernel_regularizer=regularizers.l2(weight_decay)))\n",
    "model.add(Dropout(0.5))\n",
    "\n",
    "model.add(Dense(256, activation='relu',kernel_regularizer=regularizers.l2(weight_decay)))\n",
    "model.add(Dropout(0.5))\n",
    "\n",
    "model.add(Dense(nb_classes,kernel_initializer='normal',kernel_regularizer=regularizers.l2(weight_decay)))\n",
    "\n",
    "model.add(Activation('softmax'))\n"
   ]
  },
  {
   "cell_type": "code",
   "execution_count": 19,
   "metadata": {},
   "outputs": [
    {
     "name": "stdout",
     "output_type": "stream",
     "text": [
      "_________________________________________________________________\n",
      "Layer (type)                 Output Shape              Param #   \n",
      "=================================================================\n",
      "conv3d_1 (Conv3D)            (None, 14, 62, 62, 16)    1312      \n",
      "_________________________________________________________________\n",
      "Conv3D_2a_a (Conv3D)         (None, 14, 62, 62, 16)    6912      \n",
      "_________________________________________________________________\n",
      "max_pooling3d_1 (MaxPooling3 (None, 7, 31, 31, 16)     0         \n",
      "_________________________________________________________________\n",
      "Conv3D_2b_a (Conv3D)         (None, 7, 31, 31, 32)     13824     \n",
      "_________________________________________________________________\n",
      "Conv3D_2b_b (Conv3D)         (None, 7, 31, 31, 32)     27648     \n",
      "_________________________________________________________________\n",
      "max_pooling3d_2 (MaxPooling3 (None, 7, 15, 15, 32)     0         \n",
      "_________________________________________________________________\n",
      "Conv3D_2c_a (Conv3D)         (None, 7, 15, 15, 64)     55296     \n",
      "_________________________________________________________________\n",
      "Conv3D_2c_b (Conv3D)         (None, 7, 15, 15, 64)     110592    \n",
      "_________________________________________________________________\n",
      "Conv3D_2c_c (Conv3D)         (None, 7, 15, 15, 64)     110592    \n",
      "_________________________________________________________________\n",
      "max_pooling3d_3 (MaxPooling3 (None, 7, 7, 7, 64)       0         \n",
      "_________________________________________________________________\n",
      "Conv3D_2d_a (Conv3D)         (None, 7, 7, 7, 128)      221184    \n",
      "_________________________________________________________________\n",
      "Conv3D_2d_b (Conv3D)         (None, 7, 7, 7, 128)      442368    \n",
      "_________________________________________________________________\n",
      "Conv3D_2d_c (Conv3D)         (None, 7, 7, 7, 128)      442368    \n",
      "_________________________________________________________________\n",
      "max_pooling3d_4 (MaxPooling3 (None, 7, 3, 3, 128)      0         \n",
      "_________________________________________________________________\n",
      "gatedclstm2d_2 (ConvLSTM2D)  (None, 7, 3, 3, 64)       442624    \n",
      "_________________________________________________________________\n",
      "gatedclstm2d_3 (ConvLSTM2D)  (None, 3, 3, 64)          295168    \n",
      "_________________________________________________________________\n",
      "global_average_pooling2d_1 ( (None, 64)                0         \n",
      "_________________________________________________________________\n",
      "dropout_1 (Dropout)          (None, 64)                0         \n",
      "_________________________________________________________________\n",
      "dense_1 (Dense)              (None, 6)                 390       \n",
      "_________________________________________________________________\n",
      "activation_1 (Activation)    (None, 6)                 0         \n",
      "=================================================================\n",
      "Total params: 2,170,278\n",
      "Trainable params: 2,170,278\n",
      "Non-trainable params: 0\n",
      "_________________________________________________________________\n"
     ]
    }
   ],
   "source": [
    "model.summary()"
   ]
  },
  {
   "cell_type": "code",
   "execution_count": 32,
   "metadata": {},
   "outputs": [
    {
     "name": "stdout",
     "output_type": "stream",
     "text": [
      "/home/jovyan/program/project/3DCNN\n"
     ]
    }
   ],
   "source": [
    "import os\n",
    "#os.chdir('///home/jovyan/program/DL/11_1下tensorflow_simpson')\n",
    "save_dir = os.path.join(os.getcwd(),'saved_model')\n",
    "print(os.getcwd())\n",
    "model_name = \"3DCNN+LSTM_1_64_6_jester\"\n",
    "if not os.path.isdir(save_dir):\n",
    "    os.makedirs(save_dir)\n",
    "model_path = os.path.join(save_dir, model_name)\n",
    "checkpoint = ModelCheckpoint(model_path, monitor = 'val_acc', \n",
    "                            save_best_only=True, verbose=1)\n",
    "#earlystop\n",
    "earlystop = EarlyStopping(monitor='val_loss', patience=50, verbose =1)"
   ]
  },
  {
   "cell_type": "code",
   "execution_count": 33,
   "metadata": {},
   "outputs": [],
   "source": [
    "sgd = SGD(lr=0.005,  momentum=0.9, nesterov=False)\n",
    "rms = RMSprop(decay=1e-6)\n",
    "ada = Adadelta(lr=0.1,decay=1e-6)\n",
    "model.compile(loss='categorical_crossentropy', \n",
    "              optimizer=sgd,\n",
    "              #optimizer=ada,\n",
    "              #optimizer = Adam(lr=0.0001),\n",
    "              metrics=['acc'])\n",
    "# Split the data\n",
    "\n",
    "\n"
   ]
  },
  {
   "cell_type": "code",
   "execution_count": 22,
   "metadata": {},
   "outputs": [],
   "source": [
    "X_train_new, X_val_new, y_train_new,y_val_new = train_test_split(train_set, Y_train, test_size=0.2, random_state=20)"
   ]
  },
  {
   "cell_type": "code",
   "execution_count": null,
   "metadata": {},
   "outputs": [
    {
     "name": "stdout",
     "output_type": "stream",
     "text": [
      "Train on 1439 samples, validate on 360 samples\n",
      "Epoch 1/150\n",
      "1439/1439 [==============================] - 7s 5ms/step - loss: 0.2836 - acc: 0.9444 - val_loss: 0.9496 - val_acc: 0.7167\n",
      "\n",
      "Epoch 00001: val_acc did not improve from 0.74722\n",
      "Epoch 2/150\n",
      "1439/1439 [==============================] - 7s 5ms/step - loss: 0.2813 - acc: 0.9395 - val_loss: 0.9580 - val_acc: 0.7111\n",
      "\n",
      "Epoch 00002: val_acc did not improve from 0.74722\n",
      "Epoch 3/150\n",
      "1439/1439 [==============================] - 7s 5ms/step - loss: 0.2848 - acc: 0.9382 - val_loss: 0.9712 - val_acc: 0.7167\n",
      "\n",
      "Epoch 00003: val_acc did not improve from 0.74722\n",
      "Epoch 4/150\n",
      "1439/1439 [==============================] - 7s 5ms/step - loss: 0.2808 - acc: 0.9375 - val_loss: 0.9641 - val_acc: 0.7111\n",
      "\n",
      "Epoch 00004: val_acc did not improve from 0.74722\n",
      "Epoch 5/150\n",
      "1439/1439 [==============================] - 7s 5ms/step - loss: 0.2836 - acc: 0.9354 - val_loss: 0.9934 - val_acc: 0.7167\n",
      "\n",
      "Epoch 00005: val_acc did not improve from 0.74722\n",
      "Epoch 6/150\n",
      "1439/1439 [==============================] - 7s 5ms/step - loss: 0.2782 - acc: 0.9395 - val_loss: 0.9759 - val_acc: 0.7139\n",
      "\n",
      "Epoch 00006: val_acc did not improve from 0.74722\n",
      "Epoch 7/150\n",
      "1439/1439 [==============================] - 7s 5ms/step - loss: 0.2767 - acc: 0.9444 - val_loss: 0.9845 - val_acc: 0.7111\n",
      "\n",
      "Epoch 00007: val_acc did not improve from 0.74722\n",
      "Epoch 8/150\n",
      "1439/1439 [==============================] - 7s 5ms/step - loss: 0.2740 - acc: 0.9430 - val_loss: 0.9629 - val_acc: 0.7222\n",
      "\n",
      "Epoch 00008: val_acc did not improve from 0.74722\n",
      "Epoch 9/150\n",
      "1439/1439 [==============================] - 7s 5ms/step - loss: 0.2730 - acc: 0.9451 - val_loss: 0.9847 - val_acc: 0.7056\n",
      "\n",
      "Epoch 00009: val_acc did not improve from 0.74722\n",
      "Epoch 10/150\n",
      "1439/1439 [==============================] - 7s 5ms/step - loss: 0.2712 - acc: 0.9500 - val_loss: 0.9834 - val_acc: 0.7167\n",
      "\n",
      "Epoch 00010: val_acc did not improve from 0.74722\n",
      "Epoch 11/150\n",
      "1439/1439 [==============================] - 7s 5ms/step - loss: 0.2657 - acc: 0.9521 - val_loss: 0.9797 - val_acc: 0.7139\n",
      "\n",
      "Epoch 00011: val_acc did not improve from 0.74722\n",
      "\n",
      "Epoch 00011: ReduceLROnPlateau reducing learning rate to 0.0008333333333333334.\n",
      "Epoch 12/150\n",
      "1439/1439 [==============================] - 7s 5ms/step - loss: 0.2690 - acc: 0.9416 - val_loss: 0.9979 - val_acc: 0.7194\n",
      "\n",
      "Epoch 00012: val_acc did not improve from 0.74722\n",
      "Epoch 13/150\n",
      "1439/1439 [==============================] - 7s 5ms/step - loss: 0.2606 - acc: 0.9472 - val_loss: 0.9941 - val_acc: 0.7278\n",
      "\n",
      "Epoch 00013: val_acc did not improve from 0.74722\n",
      "Epoch 14/150\n",
      "1439/1439 [==============================] - 7s 5ms/step - loss: 0.2610 - acc: 0.9548 - val_loss: 0.9788 - val_acc: 0.7194\n",
      "\n",
      "Epoch 00014: val_acc did not improve from 0.74722\n",
      "Epoch 15/150\n",
      "1439/1439 [==============================] - 7s 5ms/step - loss: 0.2577 - acc: 0.9569 - val_loss: 0.9893 - val_acc: 0.7250\n",
      "\n",
      "Epoch 00015: val_acc did not improve from 0.74722\n",
      "Epoch 16/150\n",
      "1439/1439 [==============================] - 7s 5ms/step - loss: 0.2617 - acc: 0.9451 - val_loss: 0.9783 - val_acc: 0.7167\n",
      "\n",
      "Epoch 00016: val_acc did not improve from 0.74722\n",
      "Epoch 17/150\n",
      "1439/1439 [==============================] - 7s 5ms/step - loss: 0.2558 - acc: 0.9562 - val_loss: 0.9912 - val_acc: 0.7222\n",
      "\n",
      "Epoch 00017: val_acc did not improve from 0.74722\n",
      "Epoch 18/150\n",
      "1439/1439 [==============================] - 7s 5ms/step - loss: 0.2565 - acc: 0.9611 - val_loss: 0.9798 - val_acc: 0.7250\n",
      "\n",
      "Epoch 00018: val_acc did not improve from 0.74722\n",
      "Epoch 19/150\n",
      "1439/1439 [==============================] - 7s 5ms/step - loss: 0.2516 - acc: 0.9604 - val_loss: 1.0146 - val_acc: 0.7194\n",
      "\n",
      "Epoch 00019: val_acc did not improve from 0.74722\n",
      "Epoch 20/150\n",
      "1439/1439 [==============================] - 7s 5ms/step - loss: 0.2509 - acc: 0.9541 - val_loss: 0.9944 - val_acc: 0.7167\n",
      "\n",
      "Epoch 00020: val_acc did not improve from 0.74722\n",
      "Epoch 21/150\n",
      "1439/1439 [==============================] - 7s 5ms/step - loss: 0.2452 - acc: 0.9666 - val_loss: 0.9971 - val_acc: 0.7111\n",
      "\n",
      "Epoch 00021: val_acc did not improve from 0.74722\n",
      "\n",
      "Epoch 00021: ReduceLROnPlateau reducing learning rate to 0.0008333333333333334.\n",
      "Epoch 22/150\n",
      "1439/1439 [==============================] - 7s 5ms/step - loss: 0.2431 - acc: 0.9632 - val_loss: 1.0001 - val_acc: 0.7250\n",
      "\n",
      "Epoch 00022: val_acc did not improve from 0.74722\n",
      "Epoch 23/150\n",
      "1439/1439 [==============================] - 7s 5ms/step - loss: 0.2411 - acc: 0.9625 - val_loss: 1.0027 - val_acc: 0.7250\n",
      "\n",
      "Epoch 00023: val_acc did not improve from 0.74722\n",
      "Epoch 24/150\n",
      "1439/1439 [==============================] - 7s 5ms/step - loss: 0.2503 - acc: 0.9521 - val_loss: 1.0099 - val_acc: 0.7306\n",
      "\n",
      "Epoch 00024: val_acc did not improve from 0.74722\n",
      "Epoch 25/150\n",
      "1439/1439 [==============================] - 7s 5ms/step - loss: 0.2437 - acc: 0.9694 - val_loss: 1.0262 - val_acc: 0.7111\n",
      "\n",
      "Epoch 00025: val_acc did not improve from 0.74722\n",
      "Epoch 26/150\n",
      "1439/1439 [==============================] - 7s 5ms/step - loss: 0.2401 - acc: 0.9701 - val_loss: 1.0018 - val_acc: 0.7167\n",
      "\n",
      "Epoch 00026: val_acc did not improve from 0.74722\n",
      "Epoch 27/150\n",
      "1439/1439 [==============================] - 7s 5ms/step - loss: 0.2409 - acc: 0.9618 - val_loss: 1.0244 - val_acc: 0.7194\n",
      "\n",
      "Epoch 00027: val_acc did not improve from 0.74722\n",
      "Epoch 28/150\n",
      "1439/1439 [==============================] - 7s 5ms/step - loss: 0.2353 - acc: 0.9701 - val_loss: 1.0439 - val_acc: 0.7222\n",
      "\n",
      "Epoch 00028: val_acc did not improve from 0.74722\n",
      "Epoch 29/150\n",
      "1439/1439 [==============================] - 7s 5ms/step - loss: 0.2346 - acc: 0.9729 - val_loss: 1.0403 - val_acc: 0.7306\n",
      "\n",
      "Epoch 00029: val_acc did not improve from 0.74722\n",
      "Epoch 30/150\n",
      "1439/1439 [==============================] - 7s 5ms/step - loss: 0.2312 - acc: 0.9701 - val_loss: 1.0307 - val_acc: 0.7250\n",
      "\n",
      "Epoch 00030: val_acc did not improve from 0.74722\n",
      "Epoch 31/150\n",
      "1439/1439 [==============================] - 7s 5ms/step - loss: 0.2378 - acc: 0.9653 - val_loss: 1.0230 - val_acc: 0.7250\n",
      "\n",
      "Epoch 00031: val_acc did not improve from 0.74722\n",
      "\n",
      "Epoch 00031: ReduceLROnPlateau reducing learning rate to 0.0008333333333333334.\n",
      "Epoch 32/150\n",
      "1439/1439 [==============================] - 7s 5ms/step - loss: 0.2241 - acc: 0.9715 - val_loss: 1.0473 - val_acc: 0.7194\n",
      "\n",
      "Epoch 00032: val_acc did not improve from 0.74722\n",
      "Epoch 33/150\n",
      "1439/1439 [==============================] - 7s 5ms/step - loss: 0.2241 - acc: 0.9757 - val_loss: 1.0346 - val_acc: 0.7444\n",
      "\n",
      "Epoch 00033: val_acc did not improve from 0.74722\n",
      "Epoch 34/150\n",
      "1439/1439 [==============================] - 7s 5ms/step - loss: 0.2279 - acc: 0.9722 - val_loss: 1.0395 - val_acc: 0.7167\n",
      "\n",
      "Epoch 00034: val_acc did not improve from 0.74722\n",
      "Epoch 35/150\n",
      "1439/1439 [==============================] - 7s 5ms/step - loss: 0.2232 - acc: 0.9715 - val_loss: 1.0769 - val_acc: 0.7139\n",
      "\n",
      "Epoch 00035: val_acc did not improve from 0.74722\n",
      "Epoch 36/150\n",
      "1439/1439 [==============================] - 7s 5ms/step - loss: 0.2118 - acc: 0.9771 - val_loss: 1.0440 - val_acc: 0.7194\n",
      "\n",
      "Epoch 00036: val_acc did not improve from 0.74722\n",
      "Epoch 37/150\n",
      "1439/1439 [==============================] - 7s 5ms/step - loss: 0.2153 - acc: 0.9778 - val_loss: 1.0726 - val_acc: 0.7083\n",
      "\n",
      "Epoch 00037: val_acc did not improve from 0.74722\n",
      "Epoch 38/150\n",
      "1439/1439 [==============================] - 7s 5ms/step - loss: 0.2129 - acc: 0.9757 - val_loss: 1.0876 - val_acc: 0.7167\n",
      "\n",
      "Epoch 00038: val_acc did not improve from 0.74722\n",
      "Epoch 39/150\n",
      "1439/1439 [==============================] - 7s 5ms/step - loss: 0.2174 - acc: 0.9771 - val_loss: 1.0782 - val_acc: 0.7056\n",
      "\n",
      "Epoch 00039: val_acc did not improve from 0.74722\n",
      "Epoch 40/150\n",
      "1439/1439 [==============================] - 7s 5ms/step - loss: 0.2120 - acc: 0.9785 - val_loss: 1.0828 - val_acc: 0.7056\n",
      "\n",
      "Epoch 00040: val_acc did not improve from 0.74722\n",
      "Epoch 41/150\n",
      " 640/1439 [============>.................] - ETA: 3s - loss: 0.2030 - acc: 0.9781"
     ]
    }
   ],
   "source": [
    "batch_size = 32\n",
    "nb_epoch =150\n",
    "#steps_per_epoch=int((len(X_val_new)*1.5)/batch_size)\n",
    "lr_reducer = ReduceLROnPlateau(monitor='val_loss', factor=0.05, \n",
    "                               cooldown=0, patience=10, min_lr=0.005/(2^4),verbose=1)\n",
    "hist = model.fit(\n",
    "    X_train_new,\n",
    "    y_train_new,\n",
    "    validation_data=(X_val_new,y_val_new),\n",
    "    batch_size=batch_size,\n",
    "    epochs = nb_epoch,\n",
    "    shuffle=True,\n",
    "    callbacks=[checkpoint,lr_reducer]\n",
    "    )"
   ]
  },
  {
   "cell_type": "code",
   "execution_count": 35,
   "metadata": {},
   "outputs": [
    {
     "data": {
      "image/png": "[encoded data removed]",
      "text/plain": [
       "<Figure size 432x288 with 1 Axes>"
      ]
     },
     "metadata": {
      "needs_background": "light"
     },
     "output_type": "display_data"
    }
   ],
   "source": [
    "training_loss = hist.history['loss']\n",
    "val_loss = hist.history['val_loss']\n",
    "\n",
    "plt.plot(training_loss, label=\"training_loss\")\n",
    "plt.plot(val_loss, label=\"validation_loss\")\n",
    "plt.xlabel(\"Epochs\")\n",
    "plt.ylabel(\"Loss\")\n",
    "plt.title(\"Learning Curve\")\n",
    "plt.legend(loc='best')\n",
    "plt.show()"
   ]
  },
  {
   "cell_type": "code",
   "execution_count": 36,
   "metadata": {},
   "outputs": [
    {
     "data": {
      "image/png": "[encoded data removed]",
      "text/plain": [
       "<Figure size 432x288 with 1 Axes>"
      ]
     },
     "metadata": {
      "needs_background": "light"
     },
     "output_type": "display_data"
    }
   ],
   "source": [
    "training_acc = hist.history['acc']\n",
    "val_acc = hist.history['val_acc']\n",
    "\n",
    "plt.plot(training_acc, label=\"training_accuracy\")\n",
    "plt.plot(val_acc, label=\"validation_accuracy\")\n",
    "plt.xlabel(\"Epochs\")\n",
    "plt.ylabel(\"accuracy\")\n",
    "plt.title(\"Learning Curve\")\n",
    "plt.legend(loc='best')\n",
    "plt.show()"
   ]
  },
  {
   "cell_type": "code",
   "execution_count": 37,
   "metadata": {},
   "outputs": [],
   "source": [
    "from keras.models import Model, load_model\n",
    "model1_name = \"3DCNN+LSTM_1_64_6_jester\"\n",
    "model1_path = os.path.join(save_dir, model1_name)\n",
    "model1 = load_model(model1_path)\n"
   ]
  },
  {
   "cell_type": "code",
   "execution_count": 25,
   "metadata": {},
   "outputs": [
    {
     "name": "stdout",
     "output_type": "stream",
     "text": [
      "[1 2 3 1 1 1 4 0 2 1 1 3 1 4 4 2 4 4 0 0]\n"
     ]
    }
   ],
   "source": [
    "test_pred =model1.predict(X_train_new[50:70])\n",
    "result = np.argmax(test_pred, axis =1)\n",
    "print(result)"
   ]
  },
  {
   "cell_type": "code",
   "execution_count": 26,
   "metadata": {},
   "outputs": [],
   "source": [
    "img_array = X_train_new[50]"
   ]
  },
  {
   "cell_type": "code",
   "execution_count": 27,
   "metadata": {},
   "outputs": [
    {
     "ename": "IndexError",
     "evalue": "index 9 is out of bounds for axis 3 with size 3",
     "output_type": "error",
     "traceback": [
      "\u001b[0;31m---------------------------------------------------------------------------\u001b[0m",
      "\u001b[0;31mIndexError\u001b[0m                                Traceback (most recent call last)",
      "\u001b[0;32m<ipython-input-27-b36be9350f5a>\u001b[0m in \u001b[0;36m<module>\u001b[0;34m()\u001b[0m\n\u001b[1;32m      1\u001b[0m \u001b[0;34m\u001b[0m\u001b[0m\n\u001b[0;32m----> 2\u001b[0;31m \u001b[0mplt\u001b[0m\u001b[0;34m.\u001b[0m\u001b[0mimshow\u001b[0m\u001b[0;34m(\u001b[0m\u001b[0mimg_array\u001b[0m\u001b[0;34m[\u001b[0m\u001b[0;36m0\u001b[0m\u001b[0;34m,\u001b[0m\u001b[0;34m:\u001b[0m\u001b[0;34m,\u001b[0m\u001b[0;34m:\u001b[0m\u001b[0;34m,\u001b[0m\u001b[0;36m9\u001b[0m\u001b[0;34m]\u001b[0m\u001b[0;34m)\u001b[0m\u001b[0;34m\u001b[0m\u001b[0m\n\u001b[0m",
      "\u001b[0;31mIndexError\u001b[0m: index 9 is out of bounds for axis 3 with size 3"
     ]
    }
   ],
   "source": [
    "\n",
    "plt.imshow(img_array[0,:,:,9])\n"
   ]
  },
  {
   "cell_type": "code",
   "execution_count": null,
   "metadata": {},
   "outputs": [],
   "source": [
    "#np.argmax(y_val_new[0:20],axis =1)"
   ]
  },
  {
   "cell_type": "code",
   "execution_count": 38,
   "metadata": {},
   "outputs": [
    {
     "name": "stdout",
     "output_type": "stream",
     "text": [
      "[[42 15  2  0  1  0]\n",
      " [30 32  4  1  3  1]\n",
      " [ 2  0 45  3  2  4]\n",
      " [ 2  0  3 45  0  3]\n",
      " [ 1  2  4  2 52  1]\n",
      " [ 1  0  3  0  1 53]]\n"
     ]
    }
   ],
   "source": [
    "from sklearn.metrics import confusion_matrix\n",
    "met = confusion_matrix(np.argmax(y_val_new,axis =1), np.argmax(model1.predict(X_val_new),axis =1))\n",
    "print(met)"
   ]
  },
  {
   "cell_type": "code",
   "execution_count": 39,
   "metadata": {},
   "outputs": [],
   "source": [
    "import itertools\n",
    "def confusion_matrix_plot(cm, classes, \n",
    "                          title='Normalized Confusion Matrix', \n",
    "                          normalize=True, \n",
    "                          cmap=plt.cm.Blues):\n",
    "    \"\"\"\n",
    "    This function prints and plots the confusion matrix.\n",
    "    Normalization can be applied by setting `normalize=True`.\n",
    "    \"\"\"\n",
    "\n",
    "    if normalize:\n",
    "        cm = cm.astype('float') / cm.sum(axis=1)[:, np.newaxis]\n",
    "        cm = np.around(cm, decimals=2)\n",
    "        cm[np.isnan(cm)] = 0.0\n",
    "    plt.subplots(1, 1, figsize=(8, 8))\n",
    "    plt.imshow(cm, interpolation='nearest', cmap=cmap)\n",
    "    plt.title(title)\n",
    "    plt.colorbar()\n",
    "    tick_marks = np.arange(len(classes))\n",
    "    plt.xticks(tick_marks, classes, rotation=45)\n",
    "    plt.yticks(tick_marks, classes)\n",
    "\n",
    "    fmt = '.2f'\n",
    "    thresh = cm.max() / 2.\n",
    "    for i, j in itertools.product(range(cm.shape[0]), range(cm.shape[1])):\n",
    "        plt.text(j, i, format(cm[i, j], fmt),\n",
    "                 horizontalalignment=\"center\",\n",
    "                 color=\"white\" if cm[i, j] > thresh else \"black\")\n",
    "\n",
    "    plt.tight_layout()\n",
    "    plt.ylabel('True label')\n",
    "    plt.xlabel('Predicted label')"
   ]
  },
  {
   "cell_type": "code",
   "execution_count": 40,
   "metadata": {},
   "outputs": [
    {
     "data": {
      "image/png": "[encoded data removed]",
      "text/plain": [
       "<Figure size 576x576 with 2 Axes>"
      ]
     },
     "metadata": {
      "needs_background": "light"
     },
     "output_type": "display_data"
    }
   ],
   "source": [
    "confusion_matrix_plot(met, classes=['Backward', 'Forward', 'Stop', 'Swiping Left', 'Swiping Right','No Gesture'])"
   ]
  },
  {
   "cell_type": "code",
   "execution_count": 61,
   "metadata": {},
   "outputs": [],
   "source": [
    "from keras.models import Model, load_model\n",
    "model2_name = \"3DCNN_HRN_224_5\"\n",
    "model2_path = os.path.join(save_dir, model2_name)\n",
    "model2 = load_model(model2_path)"
   ]
  },
  {
   "cell_type": "code",
   "execution_count": 64,
   "metadata": {},
   "outputs": [
    {
     "name": "stdout",
     "output_type": "stream",
     "text": [
      "[[26  5  0  0  4]\n",
      " [ 0 24  0  0  0]\n",
      " [ 0  0 14  9  1]\n",
      " [ 1  0 10  9  1]\n",
      " [ 0  0  0  1 16]]\n"
     ]
    }
   ],
   "source": [
    "met = confusion_matrix(np.argmax(y_val_new,axis =1), np.argmax(model1.predict(X_val_new)+model2.predict(X_val_new),axis =1))\n",
    "print(met)"
   ]
  },
  {
   "cell_type": "code",
   "execution_count": null,
   "metadata": {},
   "outputs": [],
   "source": []
  }
 ],
 "metadata": {
  "kernelspec": {
   "display_name": "Python 3",
   "language": "python",
   "name": "python3"
  },
  "language_info": {
   "codemirror_mode": {
    "name": "ipython",
    "version": 3
   },
   "file_extension": ".py",
   "mimetype": "text/x-python",
   "name": "python",
   "nbconvert_exporter": "python",
   "pygments_lexer": "ipython3",
   "version": "3.6.6"
  }
 },
 "nbformat": 4,
 "nbformat_minor": 2
}
