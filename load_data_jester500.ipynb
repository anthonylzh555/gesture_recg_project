{
 "cells": [
  {
   "cell_type": "code",
   "execution_count": 17,
   "metadata": {},
   "outputs": [],
   "source": [
    "from keras.preprocessing.image import ImageDataGenerator\n",
    "from keras.models import Sequential, load_model\n",
    "from keras.layers.core import Dense, Dropout, Activation, Flatten\n",
    "from keras.layers.convolutional import Convolution3D, MaxPooling3D\n",
    "\n",
    "from keras.optimizers import SGD, RMSprop\n",
    "from keras.utils import np_utils, generic_utils\n",
    "from keras.callbacks import EarlyStopping, ModelCheckpoint\n",
    "\n",
    "#import theano\n",
    "import os\n",
    "import matplotlib\n",
    "import matplotlib.pyplot as plt\n",
    "import pandas as pd\n",
    "import numpy as np\n",
    "import cv2\n",
    "from sklearn.cross_validation import train_test_split\n",
    "from sklearn import cross_validation\n",
    "from sklearn import preprocessing\n",
    "from tqdm import tqdm"
   ]
  },
  {
   "cell_type": "code",
   "execution_count": 18,
   "metadata": {},
   "outputs": [],
   "source": [
    "# image specification\n",
    "img_rows,img_cols = 125,57\n",
    "img_depth = 16\n",
    "X_tr = []"
   ]
  },
  {
   "cell_type": "code",
   "execution_count": 19,
   "metadata": {},
   "outputs": [
    {
     "name": "stdout",
     "output_type": "stream",
     "text": [
      "(100, 176, 3)\n",
      "plt.imshow(img)\n"
     ]
    },
    {
     "data": {
      "text/plain": [
       "<matplotlib.image.AxesImage at 0x7f6c03162470>"
      ]
     },
     "execution_count": 19,
     "metadata": {},
     "output_type": "execute_result"
    },
    {
     "data": {
      "image/png": "[encoded data removed]",
      "text/plain": [
       "<Figure size 432x288 with 1 Axes>"
      ]
     },
     "metadata": {
      "needs_background": "light"
     },
     "output_type": "display_data"
    }
   ],
   "source": [
    "img = cv2.imread(\"action_data/jester_500/train/Doing other things/100364/00001.jpg\")\n",
    "\n",
    "print(img.shape)\n",
    "print(\"plt.imshow(img)\")\n",
    "img = cv2.resize(img, (img_rows,img_cols))\n",
    "plt.imshow(img)"
   ]
  },
  {
   "cell_type": "code",
   "execution_count": 20,
   "metadata": {},
   "outputs": [
    {
     "data": {
      "text/plain": [
       "'\\nfrom tqdm import tqdm\\nls_path_10 = os.path.join(os.getcwd(),\"action_data/jester_500/train\")\\nlisting_10 = os.listdir(ls_path_10)\\nfor ls_1 in listing_10:\\n    ls_path_11 = os.path.join(ls_path_10,ls_1)\\n    listing_11 = os.listdir(ls_path_11)\\n    for ls in tqdm(listing_11):\\n        listing_stop_10 = os.listdir(os.path.join(ls_path_11,ls)) \\n        #print(ls)\\n        img_depth = len(listing_stop_10)\\n        if img_depth < 16:\\n            print(img_depth)\\n            print(ls)\\n'"
      ]
     },
     "execution_count": 20,
     "metadata": {},
     "output_type": "execute_result"
    }
   ],
   "source": [
    "'''\n",
    "from tqdm import tqdm\n",
    "ls_path_10 = os.path.join(os.getcwd(),\"action_data/jester_500/train\")\n",
    "listing_10 = os.listdir(ls_path_10)\n",
    "for ls_1 in listing_10:\n",
    "    ls_path_11 = os.path.join(ls_path_10,ls_1)\n",
    "    listing_11 = os.listdir(ls_path_11)\n",
    "    for ls in tqdm(listing_11):\n",
    "        listing_stop_10 = os.listdir(os.path.join(ls_path_11,ls)) \n",
    "        #print(ls)\n",
    "        img_depth = len(listing_stop_10)\n",
    "        if img_depth < 16:\n",
    "            print(img_depth)\n",
    "            print(ls)\n",
    "'''"
   ]
  },
  {
   "cell_type": "markdown",
   "metadata": {},
   "source": [
    "## import doing other things"
   ]
  },
  {
   "cell_type": "code",
   "execution_count": 21,
   "metadata": {},
   "outputs": [
    {
     "name": "stderr",
     "output_type": "stream",
     "text": [
      "100%|██████████| 500/500 [00:05<00:00, 90.17it/s]"
     ]
    },
    {
     "name": "stdout",
     "output_type": "stream",
     "text": [
      "(3, 125, 57, 16)\n",
      "500\n",
      "import Doing other things finish!!\n"
     ]
    },
    {
     "name": "stderr",
     "output_type": "stream",
     "text": [
      "\n"
     ]
    }
   ],
   "source": [
    "train_folder_path = os.path.join(os.getcwd(), \"action_data/jester_500/train/Doing other things\")\n",
    "train_folder_list = sorted(os.listdir(train_folder_path))\n",
    "\n",
    "for dicname in tqdm(train_folder_list):\n",
    "    list_path = os.path.join(train_folder_path, dicname)\n",
    "    frames = []\n",
    "    i=0\n",
    "    for img in sorted(os.listdir(list_path)):\n",
    "        if i < img_depth:\n",
    "            img_path = os.path.join(list_path, img)\n",
    "            #print(img_path)\n",
    "            frame = cv2.imread(os.path.join(list_path, img))\n",
    "            frame = cv2.resize(frame,(img_rows,img_cols))\n",
    "            gray = cv2.cvtColor(frame, cv2.COLOR_BGR2RGB)\n",
    "            frames.append(gray)\n",
    "            i = i+1\n",
    "        else:\n",
    "            break\n",
    "\n",
    "    input=np.array(frames)\n",
    "    ipt = np.rollaxis(input,0,4)\n",
    "    ipt = np.rollaxis(ipt,0,3)\n",
    "    ipt = np.rollaxis(ipt,0,2)\n",
    "    X_tr.append(ipt)\n",
    "    \n",
    "print (ipt.shape)\n",
    "num_samples = len(X_tr)\n",
    "print(num_samples)\n",
    "print(\"import Doing other things finish!!\")"
   ]
  },
  {
   "cell_type": "markdown",
   "metadata": {},
   "source": [
    "## import no gesture"
   ]
  },
  {
   "cell_type": "code",
   "execution_count": 22,
   "metadata": {},
   "outputs": [
    {
     "name": "stderr",
     "output_type": "stream",
     "text": [
      "100%|██████████| 500/500 [00:05<00:00, 91.93it/s]"
     ]
    },
    {
     "name": "stdout",
     "output_type": "stream",
     "text": [
      "(3, 125, 57, 16)\n",
      "1000\n",
      "import No Gesture finish!!\n"
     ]
    },
    {
     "name": "stderr",
     "output_type": "stream",
     "text": [
      "\n"
     ]
    }
   ],
   "source": [
    "train_folder_path = os.path.join(os.getcwd(), \"action_data/jester_500/train/No gesture\")\n",
    "train_folder_list = sorted(os.listdir(train_folder_path))\n",
    "\n",
    "for dicname in tqdm(train_folder_list):\n",
    "    list_path = os.path.join(train_folder_path, dicname)\n",
    "    frames = []\n",
    "    i=0\n",
    "    for img in sorted(os.listdir(list_path)):\n",
    "        if i < img_depth:\n",
    "            img_path = os.path.join(list_path, img)\n",
    "            frame = cv2.imread(os.path.join(list_path, img))\n",
    "            frame = cv2.resize(frame,(img_rows,img_cols))\n",
    "            gray = cv2.cvtColor(frame, cv2.COLOR_BGR2RGB)\n",
    "            frames.append(gray)\n",
    "            i = i+1\n",
    "        else:\n",
    "            break\n",
    "\n",
    "    input=np.array(frames)\n",
    "    ipt = np.rollaxis(input,0,4)\n",
    "    ipt = np.rollaxis(ipt,0,3)\n",
    "    ipt = np.rollaxis(ipt,0,2)\n",
    "    X_tr.append(ipt)\n",
    "    \n",
    "print (ipt.shape)\n",
    "num_samples = len(X_tr)\n",
    "print(num_samples)\n",
    "print(\"import No Gesture finish!!\")"
   ]
  },
  {
   "cell_type": "markdown",
   "metadata": {},
   "source": [
    "## import stop sign"
   ]
  },
  {
   "cell_type": "code",
   "execution_count": 23,
   "metadata": {},
   "outputs": [
    {
     "name": "stderr",
     "output_type": "stream",
     "text": [
      "100%|██████████| 500/500 [00:05<00:00, 91.94it/s]"
     ]
    },
    {
     "name": "stdout",
     "output_type": "stream",
     "text": [
      "(3, 125, 57, 16)\n",
      "1500\n",
      "import Stop Sign finish!!\n"
     ]
    },
    {
     "name": "stderr",
     "output_type": "stream",
     "text": [
      "\n"
     ]
    }
   ],
   "source": [
    "train_folder_path = os.path.join(os.getcwd(), \"action_data/jester_500/train/Stop Sign\")\n",
    "train_folder_list = sorted(os.listdir(train_folder_path))\n",
    "\n",
    "for dicname in tqdm(train_folder_list):\n",
    "    list_path = os.path.join(train_folder_path, dicname)\n",
    "    frames = []\n",
    "    i=0\n",
    "    for img in sorted(os.listdir(list_path)):\n",
    "        if i < img_depth:\n",
    "            img_path = os.path.join(list_path, img)\n",
    "            frame = cv2.imread(os.path.join(list_path, img))\n",
    "            frame = cv2.resize(frame,(img_rows,img_cols))\n",
    "            gray = cv2.cvtColor(frame, cv2.COLOR_BGR2RGB)\n",
    "            frames.append(gray)\n",
    "            i = i+1\n",
    "        else:\n",
    "            break\n",
    "\n",
    "    input=np.array(frames)\n",
    "    ipt = np.rollaxis(input,0,4)\n",
    "    ipt = np.rollaxis(ipt,0,3)\n",
    "    ipt = np.rollaxis(ipt,0,2)\n",
    "    X_tr.append(ipt)\n",
    "    \n",
    "print (ipt.shape)\n",
    "num_samples = len(X_tr)\n",
    "print(num_samples)\n",
    "print(\"import Stop Sign finish!!\")"
   ]
  },
  {
   "cell_type": "markdown",
   "metadata": {},
   "source": [
    "## import Swiping Down"
   ]
  },
  {
   "cell_type": "code",
   "execution_count": 24,
   "metadata": {},
   "outputs": [
    {
     "name": "stderr",
     "output_type": "stream",
     "text": [
      "100%|██████████| 500/500 [00:05<00:00, 91.44it/s]"
     ]
    },
    {
     "name": "stdout",
     "output_type": "stream",
     "text": [
      "(3, 125, 57, 16)\n",
      "2000\n",
      "import swipe down finish!!\n"
     ]
    },
    {
     "name": "stderr",
     "output_type": "stream",
     "text": [
      "\n"
     ]
    }
   ],
   "source": [
    "train_folder_path = os.path.join(os.getcwd(), \"action_data/jester_500/train/Swiping Down\")\n",
    "train_folder_list = sorted(os.listdir(train_folder_path))\n",
    "\n",
    "for dicname in tqdm(train_folder_list):\n",
    "    list_path = os.path.join(train_folder_path, dicname)\n",
    "    frames = []\n",
    "    i=0\n",
    "    for img in sorted(os.listdir(list_path)):\n",
    "        if i < img_depth:\n",
    "            img_path = os.path.join(list_path, img)\n",
    "            #print(img_path)\n",
    "            frame = cv2.imread(os.path.join(list_path, img))\n",
    "            frame = cv2.resize(frame,(img_rows,img_cols))\n",
    "            gray = cv2.cvtColor(frame, cv2.COLOR_BGR2RGB)\n",
    "            frames.append(gray)\n",
    "            i = i+1\n",
    "        else:\n",
    "            break\n",
    "\n",
    "    input=np.array(frames)\n",
    "    ipt = np.rollaxis(input,0,4)\n",
    "    ipt = np.rollaxis(ipt,0,3)\n",
    "    ipt = np.rollaxis(ipt,0,2)\n",
    "    X_tr.append(ipt)\n",
    "    \n",
    "print (ipt.shape)\n",
    "num_samples = len(X_tr)\n",
    "print(num_samples)\n",
    "print(\"import swipe down finish!!\")"
   ]
  },
  {
   "cell_type": "markdown",
   "metadata": {},
   "source": [
    "## import swiping left"
   ]
  },
  {
   "cell_type": "code",
   "execution_count": 25,
   "metadata": {},
   "outputs": [
    {
     "name": "stderr",
     "output_type": "stream",
     "text": [
      "100%|██████████| 500/500 [00:05<00:00, 93.06it/s]"
     ]
    },
    {
     "name": "stdout",
     "output_type": "stream",
     "text": [
      "(3, 125, 57, 16)\n",
      "2500\n",
      "import swipe left finish!!\n"
     ]
    },
    {
     "name": "stderr",
     "output_type": "stream",
     "text": [
      "\n"
     ]
    }
   ],
   "source": [
    "train_folder_path = os.path.join(os.getcwd(), \"action_data/jester_500/train/Swiping Left\")\n",
    "train_folder_list = sorted(os.listdir(train_folder_path))\n",
    "\n",
    "for dicname in tqdm(train_folder_list):\n",
    "    list_path = os.path.join(train_folder_path, dicname)\n",
    "    frames = []\n",
    "    i=0\n",
    "    for img in sorted(os.listdir(list_path)):\n",
    "        if i < img_depth:\n",
    "            img_path = os.path.join(list_path, img)\n",
    "            #print(img_path)\n",
    "            frame = cv2.imread(os.path.join(list_path, img))\n",
    "            frame = cv2.resize(frame,(img_rows,img_cols))\n",
    "            gray = cv2.cvtColor(frame, cv2.COLOR_BGR2RGB)\n",
    "            frames.append(gray)\n",
    "            i = i+1\n",
    "        else:\n",
    "            break\n",
    "\n",
    "    input=np.array(frames)\n",
    "    ipt = np.rollaxis(input,0,4)\n",
    "    ipt = np.rollaxis(ipt,0,3)\n",
    "    ipt = np.rollaxis(ipt,0,2)\n",
    "    X_tr.append(ipt)\n",
    "    \n",
    "print (ipt.shape)\n",
    "num_samples = len(X_tr)\n",
    "print(num_samples)\n",
    "print(\"import swipe left finish!!\")"
   ]
  },
  {
   "cell_type": "markdown",
   "metadata": {},
   "source": [
    "## import swiping right"
   ]
  },
  {
   "cell_type": "code",
   "execution_count": 26,
   "metadata": {},
   "outputs": [
    {
     "name": "stderr",
     "output_type": "stream",
     "text": [
      "100%|██████████| 500/500 [00:05<00:00, 92.59it/s]"
     ]
    },
    {
     "name": "stdout",
     "output_type": "stream",
     "text": [
      "(3, 125, 57, 16)\n",
      "3000\n",
      "import swiping right finish!!\n"
     ]
    },
    {
     "name": "stderr",
     "output_type": "stream",
     "text": [
      "\n"
     ]
    }
   ],
   "source": [
    "train_folder_path = os.path.join(os.getcwd(), \"action_data/jester_500/train/Swiping Right\")\n",
    "train_folder_list = sorted(os.listdir(train_folder_path))\n",
    "\n",
    "for dicname in tqdm(train_folder_list):\n",
    "    list_path = os.path.join(train_folder_path, dicname)\n",
    "    frames = []\n",
    "    i=0\n",
    "    for img in sorted(os.listdir(list_path)):\n",
    "        if i < img_depth:\n",
    "            img_path = os.path.join(list_path, img)\n",
    "            frame = cv2.imread(os.path.join(list_path, img))\n",
    "            frame = cv2.resize(frame,(img_rows,img_cols))\n",
    "            gray = cv2.cvtColor(frame, cv2.COLOR_BGR2RGB)\n",
    "            frames.append(gray)\n",
    "            i = i+1\n",
    "        else:\n",
    "            break\n",
    "\n",
    "    input=np.array(frames)\n",
    "    ipt = np.rollaxis(input,0,4)\n",
    "    ipt = np.rollaxis(ipt,0,3)\n",
    "    ipt = np.rollaxis(ipt,0,2)\n",
    "    X_tr.append(ipt)\n",
    "    \n",
    "print (ipt.shape)\n",
    "num_samples = len(X_tr)\n",
    "print(num_samples)\n",
    "print(\"import swiping right finish!!\")"
   ]
  },
  {
   "cell_type": "markdown",
   "metadata": {},
   "source": [
    "## import swiping up"
   ]
  },
  {
   "cell_type": "code",
   "execution_count": 27,
   "metadata": {},
   "outputs": [
    {
     "name": "stderr",
     "output_type": "stream",
     "text": [
      "100%|██████████| 500/500 [00:05<00:00, 96.83it/s]"
     ]
    },
    {
     "name": "stdout",
     "output_type": "stream",
     "text": [
      "(3, 125, 57, 16)\n",
      "3500\n",
      "import swiping up finish!!\n"
     ]
    },
    {
     "name": "stderr",
     "output_type": "stream",
     "text": [
      "\n"
     ]
    }
   ],
   "source": [
    "train_folder_path = os.path.join(os.getcwd(), \"action_data/jester_500/train/Swiping Up\")\n",
    "train_folder_list = sorted(os.listdir(train_folder_path))\n",
    "\n",
    "for dicname in tqdm(train_folder_list):\n",
    "    list_path = os.path.join(train_folder_path, dicname)\n",
    "    frames = []\n",
    "    i=0\n",
    "    for img in sorted(os.listdir(list_path)):\n",
    "        if i < img_depth:\n",
    "            img_path = os.path.join(list_path, img)\n",
    "            frame = cv2.imread(os.path.join(list_path, img))\n",
    "            frame = cv2.resize(frame,(img_rows,img_cols))\n",
    "            gray = cv2.cvtColor(frame, cv2.COLOR_BGR2RGB)\n",
    "            frames.append(gray)\n",
    "            i = i+1\n",
    "        else:\n",
    "            break\n",
    "\n",
    "    input=np.array(frames)\n",
    "    ipt = np.rollaxis(input,0,4)\n",
    "    ipt = np.rollaxis(ipt,0,3)\n",
    "    ipt = np.rollaxis(ipt,0,2)\n",
    "    X_tr.append(ipt)\n",
    "    \n",
    "print (ipt.shape)\n",
    "num_samples = len(X_tr)\n",
    "print(num_samples)\n",
    "print(\"import swiping up finish!!\")"
   ]
  },
  {
   "cell_type": "markdown",
   "metadata": {},
   "source": [
    "## import thumb up"
   ]
  },
  {
   "cell_type": "code",
   "execution_count": 28,
   "metadata": {},
   "outputs": [
    {
     "name": "stderr",
     "output_type": "stream",
     "text": [
      "100%|██████████| 500/500 [00:05<00:00, 90.99it/s]"
     ]
    },
    {
     "name": "stdout",
     "output_type": "stream",
     "text": [
      "(3, 125, 57, 16)\n",
      "4000\n",
      "import thumb up finish!!\n"
     ]
    },
    {
     "name": "stderr",
     "output_type": "stream",
     "text": [
      "\n"
     ]
    }
   ],
   "source": [
    "train_folder_path = os.path.join(os.getcwd(), \"action_data/jester_500/train/Thumb Up\")\n",
    "train_folder_list = sorted(os.listdir(train_folder_path))\n",
    "\n",
    "for dicname in tqdm(train_folder_list):\n",
    "    list_path = os.path.join(train_folder_path, dicname)\n",
    "    frames = []\n",
    "    i=0\n",
    "    for img in sorted(os.listdir(list_path)):\n",
    "        if i < img_depth:\n",
    "            img_path = os.path.join(list_path, img)\n",
    "            frame = cv2.imread(os.path.join(list_path, img))\n",
    "            frame = cv2.resize(frame,(img_rows,img_cols))\n",
    "            gray = cv2.cvtColor(frame, cv2.COLOR_BGR2RGB)\n",
    "            frames.append(gray)\n",
    "            i = i+1\n",
    "        else:\n",
    "            break\n",
    "\n",
    "    input=np.array(frames)\n",
    "    ipt = np.rollaxis(input,0,4)\n",
    "    ipt = np.rollaxis(ipt,0,3)\n",
    "    ipt = np.rollaxis(ipt,0,2)\n",
    "    X_tr.append(ipt)\n",
    "    \n",
    "print (ipt.shape)\n",
    "num_samples = len(X_tr)\n",
    "print(num_samples)\n",
    "print(\"import thumb up finish!!\")"
   ]
  },
  {
   "cell_type": "markdown",
   "metadata": {},
   "source": [
    "## import thumb down"
   ]
  },
  {
   "cell_type": "code",
   "execution_count": 29,
   "metadata": {},
   "outputs": [
    {
     "name": "stderr",
     "output_type": "stream",
     "text": [
      "100%|██████████| 500/500 [00:05<00:00, 91.64it/s]"
     ]
    },
    {
     "name": "stdout",
     "output_type": "stream",
     "text": [
      "(3, 125, 57, 16)\n",
      "4500\n",
      "import Thumb Down finish!!\n"
     ]
    },
    {
     "name": "stderr",
     "output_type": "stream",
     "text": [
      "\n"
     ]
    }
   ],
   "source": [
    "train_folder_path = os.path.join(os.getcwd(), \"action_data/jester_500/train/Thumb Down\")\n",
    "train_folder_list = sorted(os.listdir(train_folder_path))\n",
    "\n",
    "for dicname in tqdm(train_folder_list):\n",
    "    list_path = os.path.join(train_folder_path, dicname)\n",
    "    frames = []\n",
    "    i=0\n",
    "    for img in sorted(os.listdir(list_path)):\n",
    "        if i < img_depth:\n",
    "            img_path = os.path.join(list_path, img)\n",
    "            frame = cv2.imread(os.path.join(list_path, img))\n",
    "            frame = cv2.resize(frame,(img_rows,img_cols))\n",
    "            gray = cv2.cvtColor(frame, cv2.COLOR_BGR2RGB)\n",
    "            frames.append(gray)\n",
    "            i = i+1\n",
    "        else:\n",
    "            break\n",
    "\n",
    "    input=np.array(frames)\n",
    "    ipt = np.rollaxis(input,0,4)\n",
    "    ipt = np.rollaxis(ipt,0,3)\n",
    "    ipt = np.rollaxis(ipt,0,2)\n",
    "    X_tr.append(ipt)\n",
    "    \n",
    "print (ipt.shape)\n",
    "num_samples = len(X_tr)\n",
    "print(num_samples)\n",
    "print(\"import Thumb Down finish!!\")"
   ]
  },
  {
   "cell_type": "code",
   "execution_count": 30,
   "metadata": {},
   "outputs": [
    {
     "name": "stdout",
     "output_type": "stream",
     "text": [
      "4500\n"
     ]
    }
   ],
   "source": [
    "X_tr_array = np.array(X_tr)   # convert the frames read into array\n",
    "\n",
    "num_samples = len(X_tr_array) \n",
    "print (num_samples)"
   ]
  },
  {
   "cell_type": "markdown",
   "metadata": {},
   "source": [
    "## label DATA"
   ]
  },
  {
   "cell_type": "code",
   "execution_count": 31,
   "metadata": {},
   "outputs": [
    {
     "name": "stdout",
     "output_type": "stream",
     "text": [
      "[0 0 0 ... 8 8 8]\n",
      "X_Train shape: (4500, 3, 125, 57, 16)\n"
     ]
    }
   ],
   "source": [
    "label=np.ones((num_samples,),dtype = int)\n",
    "label[0:499]= 0                  \n",
    "label[500:999] = 1              \n",
    "label[1000:1499] = 2            \n",
    "label[1500:1999] = 3           \n",
    "label[2000:2499] = 4          \n",
    "label[2500:2999] = 5  \n",
    "label[3000:3499] = 6  \n",
    "label[3500:3999] = 7  \n",
    "label[4000:4500] = 8  \n",
    "\n",
    "train_data = [X_tr_array,label]\n",
    "print(label)\n",
    "\n",
    "(X_train, y_train) = (train_data[0],train_data[1])\n",
    "print('X_Train shape:', X_train.shape)"
   ]
  },
  {
   "cell_type": "code",
   "execution_count": 32,
   "metadata": {},
   "outputs": [],
   "source": [
    "#train_set = np.zeros((num_samples, 1, img_rows,img_cols,img_depth))\n",
    "train_set = X_train\n",
    "#for h in range(num_samples):\n",
    "    #train_set[h][0][:][:][:][:]=X_train[h,:,:,:,:]"
   ]
  },
  {
   "cell_type": "code",
   "execution_count": 33,
   "metadata": {},
   "outputs": [
    {
     "name": "stdout",
     "output_type": "stream",
     "text": [
      "(4500, 3, 125, 57, 16) train samples\n"
     ]
    }
   ],
   "source": [
    "patch_size = 16    # img_depth or number of frames used for each video\n",
    "\n",
    "#print(X_train.shape,\"X_train shapes\")\n",
    "print(train_set.shape, 'train samples')"
   ]
  },
  {
   "cell_type": "code",
   "execution_count": null,
   "metadata": {},
   "outputs": [],
   "source": []
  }
 ],
 "metadata": {
  "kernelspec": {
   "display_name": "Python 3",
   "language": "python",
   "name": "python3"
  },
  "language_info": {
   "codemirror_mode": {
    "name": "ipython",
    "version": 3
   },
   "file_extension": ".py",
   "mimetype": "text/x-python",
   "name": "python",
   "nbconvert_exporter": "python",
   "pygments_lexer": "ipython3",
   "version": "3.6.6"
  }
 },
 "nbformat": 4,
 "nbformat_minor": 2
}
